{
 "cells": [
  {
   "cell_type": "code",
   "execution_count": 1,
   "metadata": {},
   "outputs": [
    {
     "name": "stdout",
     "output_type": "stream",
     "text": [
      "/tmp/ml-cost-function\n"
     ]
    }
   ],
   "source": [
    "cd .."
   ]
  },
  {
   "cell_type": "code",
   "execution_count": 2,
   "metadata": {},
   "outputs": [],
   "source": [
    "import pandas as pd\n",
    "import numpy as np\n",
    "import matplotlib.pyplot as plt\n",
    "import seaborn as sns\n",
    "import pickle\n",
    "import os\n",
    "\n",
    "from sklearn.model_selection import *\n",
    "from sklearn.metrics import *\n",
    "from sklearn.preprocessing import *\n",
    "from sklearn.linear_model import *\n",
    "from sklearn.ensemble import *\n",
    "from sklearn.pipeline import Pipeline\n",
    "from sklearn.compose import ColumnTransformer\n",
    "from sklearn.impute import SimpleImputer\n",
    "from sklearn.model_selection import GridSearchCV\n",
    "\n",
    "from sklearn.compose import * \n",
    "from sklearn.preprocessing import *\n",
    "from sklearn.feature_extraction import * \n",
    "from sklearn.feature_selection import *\n",
    "\n",
    "from sklearn.compose import ColumnTransformer\n",
    "from sklearn.datasets import fetch_openml\n",
    "from sklearn.feature_selection import SelectPercentile, chi2\n",
    "from sklearn.impute import SimpleImputer\n",
    "from sklearn.linear_model import LogisticRegression\n",
    "from sklearn.model_selection import RandomizedSearchCV, train_test_split\n",
    "from sklearn.preprocessing import OneHotEncoder, StandardScaler\n",
    "from sklearn.pipeline import Pipeline\n",
    "\n",
    "from imblearn.under_sampling import RandomUnderSampler\n",
    "from imblearn.pipeline import Pipeline as Pipeline"
   ]
  },
  {
   "cell_type": "code",
   "execution_count": 3,
   "metadata": {},
   "outputs": [
    {
     "data": {
      "text/html": [
       "<div>\n",
       "<style scoped>\n",
       "    .dataframe tbody tr th:only-of-type {\n",
       "        vertical-align: middle;\n",
       "    }\n",
       "\n",
       "    .dataframe tbody tr th {\n",
       "        vertical-align: top;\n",
       "    }\n",
       "\n",
       "    .dataframe thead th {\n",
       "        text-align: right;\n",
       "    }\n",
       "</style>\n",
       "<table border=\"1\" class=\"dataframe\">\n",
       "  <thead>\n",
       "    <tr style=\"text-align: right;\">\n",
       "      <th></th>\n",
       "      <th>TARGET</th>\n",
       "      <th>NAME_CONTRACT_TYPE</th>\n",
       "      <th>CODE_GENDER</th>\n",
       "      <th>FLAG_OWN_CAR</th>\n",
       "      <th>FLAG_OWN_REALTY</th>\n",
       "      <th>CNT_CHILDREN</th>\n",
       "      <th>AMT_INCOME_TOTAL</th>\n",
       "      <th>AMT_CREDIT</th>\n",
       "      <th>AMT_ANNUITY</th>\n",
       "      <th>AMT_GOODS_PRICE</th>\n",
       "      <th>NAME_TYPE_SUITE</th>\n",
       "      <th>NAME_INCOME_TYPE</th>\n",
       "      <th>NAME_EDUCATION_TYPE</th>\n",
       "      <th>NAME_FAMILY_STATUS</th>\n",
       "      <th>NAME_HOUSING_TYPE</th>\n",
       "      <th>REGION_POPULATION_RELATIVE</th>\n",
       "      <th>DAYS_BIRTH</th>\n",
       "      <th>DAYS_EMPLOYED</th>\n",
       "      <th>DAYS_REGISTRATION</th>\n",
       "    </tr>\n",
       "  </thead>\n",
       "  <tbody>\n",
       "    <tr>\n",
       "      <th>0</th>\n",
       "      <td>0</td>\n",
       "      <td>Cash loans</td>\n",
       "      <td>F</td>\n",
       "      <td>N</td>\n",
       "      <td>N</td>\n",
       "      <td>0</td>\n",
       "      <td>103500.0</td>\n",
       "      <td>625536.0</td>\n",
       "      <td>26631.0</td>\n",
       "      <td>540000.0</td>\n",
       "      <td>Family</td>\n",
       "      <td>Working</td>\n",
       "      <td>Secondary / secondary special</td>\n",
       "      <td>Single / not married</td>\n",
       "      <td>Municipal apartment</td>\n",
       "      <td>0.032561</td>\n",
       "      <td>-14921</td>\n",
       "      <td>-3844</td>\n",
       "      <td>-602.0</td>\n",
       "    </tr>\n",
       "    <tr>\n",
       "      <th>1</th>\n",
       "      <td>0</td>\n",
       "      <td>Revolving loans</td>\n",
       "      <td>M</td>\n",
       "      <td>Y</td>\n",
       "      <td>Y</td>\n",
       "      <td>0</td>\n",
       "      <td>202500.0</td>\n",
       "      <td>292500.0</td>\n",
       "      <td>14625.0</td>\n",
       "      <td>292500.0</td>\n",
       "      <td>Unaccompanied</td>\n",
       "      <td>Commercial associate</td>\n",
       "      <td>Higher education</td>\n",
       "      <td>Single / not married</td>\n",
       "      <td>House / apartment</td>\n",
       "      <td>0.009657</td>\n",
       "      <td>-15458</td>\n",
       "      <td>-694</td>\n",
       "      <td>-9544.0</td>\n",
       "    </tr>\n",
       "    <tr>\n",
       "      <th>2</th>\n",
       "      <td>0</td>\n",
       "      <td>Cash loans</td>\n",
       "      <td>F</td>\n",
       "      <td>Y</td>\n",
       "      <td>Y</td>\n",
       "      <td>0</td>\n",
       "      <td>247500.0</td>\n",
       "      <td>1442596.5</td>\n",
       "      <td>46665.0</td>\n",
       "      <td>1129500.0</td>\n",
       "      <td>Unaccompanied</td>\n",
       "      <td>Commercial associate</td>\n",
       "      <td>Secondary / secondary special</td>\n",
       "      <td>Civil marriage</td>\n",
       "      <td>House / apartment</td>\n",
       "      <td>0.072508</td>\n",
       "      <td>-15603</td>\n",
       "      <td>-334</td>\n",
       "      <td>-3873.0</td>\n",
       "    </tr>\n",
       "    <tr>\n",
       "      <th>3</th>\n",
       "      <td>0</td>\n",
       "      <td>Cash loans</td>\n",
       "      <td>M</td>\n",
       "      <td>N</td>\n",
       "      <td>N</td>\n",
       "      <td>0</td>\n",
       "      <td>270000.0</td>\n",
       "      <td>545040.0</td>\n",
       "      <td>26509.5</td>\n",
       "      <td>450000.0</td>\n",
       "      <td>Family</td>\n",
       "      <td>Commercial associate</td>\n",
       "      <td>Secondary / secondary special</td>\n",
       "      <td>Civil marriage</td>\n",
       "      <td>House / apartment</td>\n",
       "      <td>0.072508</td>\n",
       "      <td>-16392</td>\n",
       "      <td>-3015</td>\n",
       "      <td>-8902.0</td>\n",
       "    </tr>\n",
       "    <tr>\n",
       "      <th>4</th>\n",
       "      <td>0</td>\n",
       "      <td>Cash loans</td>\n",
       "      <td>M</td>\n",
       "      <td>Y</td>\n",
       "      <td>Y</td>\n",
       "      <td>0</td>\n",
       "      <td>450000.0</td>\n",
       "      <td>540000.0</td>\n",
       "      <td>56835.0</td>\n",
       "      <td>540000.0</td>\n",
       "      <td>Unaccompanied</td>\n",
       "      <td>Working</td>\n",
       "      <td>Higher education</td>\n",
       "      <td>Married</td>\n",
       "      <td>House / apartment</td>\n",
       "      <td>0.026392</td>\n",
       "      <td>-10941</td>\n",
       "      <td>-4026</td>\n",
       "      <td>-910.0</td>\n",
       "    </tr>\n",
       "    <tr>\n",
       "      <th>...</th>\n",
       "      <td>...</td>\n",
       "      <td>...</td>\n",
       "      <td>...</td>\n",
       "      <td>...</td>\n",
       "      <td>...</td>\n",
       "      <td>...</td>\n",
       "      <td>...</td>\n",
       "      <td>...</td>\n",
       "      <td>...</td>\n",
       "      <td>...</td>\n",
       "      <td>...</td>\n",
       "      <td>...</td>\n",
       "      <td>...</td>\n",
       "      <td>...</td>\n",
       "      <td>...</td>\n",
       "      <td>...</td>\n",
       "      <td>...</td>\n",
       "      <td>...</td>\n",
       "      <td>...</td>\n",
       "    </tr>\n",
       "    <tr>\n",
       "      <th>92248</th>\n",
       "      <td>0</td>\n",
       "      <td>Cash loans</td>\n",
       "      <td>M</td>\n",
       "      <td>N</td>\n",
       "      <td>Y</td>\n",
       "      <td>0</td>\n",
       "      <td>315000.0</td>\n",
       "      <td>331920.0</td>\n",
       "      <td>18135.0</td>\n",
       "      <td>225000.0</td>\n",
       "      <td>Unaccompanied</td>\n",
       "      <td>Pensioner</td>\n",
       "      <td>Secondary / secondary special</td>\n",
       "      <td>Single / not married</td>\n",
       "      <td>House / apartment</td>\n",
       "      <td>0.020246</td>\n",
       "      <td>-20301</td>\n",
       "      <td>365243</td>\n",
       "      <td>-23.0</td>\n",
       "    </tr>\n",
       "    <tr>\n",
       "      <th>92249</th>\n",
       "      <td>0</td>\n",
       "      <td>Cash loans</td>\n",
       "      <td>F</td>\n",
       "      <td>N</td>\n",
       "      <td>N</td>\n",
       "      <td>0</td>\n",
       "      <td>67500.0</td>\n",
       "      <td>339948.0</td>\n",
       "      <td>23656.5</td>\n",
       "      <td>315000.0</td>\n",
       "      <td>Unaccompanied</td>\n",
       "      <td>Pensioner</td>\n",
       "      <td>Secondary / secondary special</td>\n",
       "      <td>Married</td>\n",
       "      <td>House / apartment</td>\n",
       "      <td>0.019101</td>\n",
       "      <td>-22590</td>\n",
       "      <td>365243</td>\n",
       "      <td>-5105.0</td>\n",
       "    </tr>\n",
       "    <tr>\n",
       "      <th>92250</th>\n",
       "      <td>0</td>\n",
       "      <td>Cash loans</td>\n",
       "      <td>F</td>\n",
       "      <td>N</td>\n",
       "      <td>Y</td>\n",
       "      <td>0</td>\n",
       "      <td>45000.0</td>\n",
       "      <td>168102.0</td>\n",
       "      <td>9513.0</td>\n",
       "      <td>148500.0</td>\n",
       "      <td>Unaccompanied</td>\n",
       "      <td>Working</td>\n",
       "      <td>Secondary / secondary special</td>\n",
       "      <td>Married</td>\n",
       "      <td>House / apartment</td>\n",
       "      <td>0.031329</td>\n",
       "      <td>-17920</td>\n",
       "      <td>-1837</td>\n",
       "      <td>-10196.0</td>\n",
       "    </tr>\n",
       "    <tr>\n",
       "      <th>92251</th>\n",
       "      <td>0</td>\n",
       "      <td>Cash loans</td>\n",
       "      <td>F</td>\n",
       "      <td>N</td>\n",
       "      <td>Y</td>\n",
       "      <td>0</td>\n",
       "      <td>315000.0</td>\n",
       "      <td>1188765.0</td>\n",
       "      <td>47272.5</td>\n",
       "      <td>1093500.0</td>\n",
       "      <td>Unaccompanied</td>\n",
       "      <td>Commercial associate</td>\n",
       "      <td>Secondary / secondary special</td>\n",
       "      <td>Civil marriage</td>\n",
       "      <td>House / apartment</td>\n",
       "      <td>0.010500</td>\n",
       "      <td>-15927</td>\n",
       "      <td>-944</td>\n",
       "      <td>-9938.0</td>\n",
       "    </tr>\n",
       "    <tr>\n",
       "      <th>92252</th>\n",
       "      <td>0</td>\n",
       "      <td>Revolving loans</td>\n",
       "      <td>F</td>\n",
       "      <td>Y</td>\n",
       "      <td>Y</td>\n",
       "      <td>1</td>\n",
       "      <td>225000.0</td>\n",
       "      <td>405000.0</td>\n",
       "      <td>20250.0</td>\n",
       "      <td>405000.0</td>\n",
       "      <td>Unaccompanied</td>\n",
       "      <td>Working</td>\n",
       "      <td>Secondary / secondary special</td>\n",
       "      <td>Married</td>\n",
       "      <td>Municipal apartment</td>\n",
       "      <td>0.032561</td>\n",
       "      <td>-15377</td>\n",
       "      <td>-3401</td>\n",
       "      <td>-1337.0</td>\n",
       "    </tr>\n",
       "  </tbody>\n",
       "</table>\n",
       "<p>92253 rows × 19 columns</p>\n",
       "</div>"
      ],
      "text/plain": [
       "       TARGET NAME_CONTRACT_TYPE CODE_GENDER FLAG_OWN_CAR FLAG_OWN_REALTY  \\\n",
       "0           0         Cash loans           F            N               N   \n",
       "1           0    Revolving loans           M            Y               Y   \n",
       "2           0         Cash loans           F            Y               Y   \n",
       "3           0         Cash loans           M            N               N   \n",
       "4           0         Cash loans           M            Y               Y   \n",
       "...       ...                ...         ...          ...             ...   \n",
       "92248       0         Cash loans           M            N               Y   \n",
       "92249       0         Cash loans           F            N               N   \n",
       "92250       0         Cash loans           F            N               Y   \n",
       "92251       0         Cash loans           F            N               Y   \n",
       "92252       0    Revolving loans           F            Y               Y   \n",
       "\n",
       "       CNT_CHILDREN  AMT_INCOME_TOTAL  AMT_CREDIT  AMT_ANNUITY  \\\n",
       "0                 0          103500.0    625536.0      26631.0   \n",
       "1                 0          202500.0    292500.0      14625.0   \n",
       "2                 0          247500.0   1442596.5      46665.0   \n",
       "3                 0          270000.0    545040.0      26509.5   \n",
       "4                 0          450000.0    540000.0      56835.0   \n",
       "...             ...               ...         ...          ...   \n",
       "92248             0          315000.0    331920.0      18135.0   \n",
       "92249             0           67500.0    339948.0      23656.5   \n",
       "92250             0           45000.0    168102.0       9513.0   \n",
       "92251             0          315000.0   1188765.0      47272.5   \n",
       "92252             1          225000.0    405000.0      20250.0   \n",
       "\n",
       "       AMT_GOODS_PRICE NAME_TYPE_SUITE      NAME_INCOME_TYPE  \\\n",
       "0             540000.0          Family               Working   \n",
       "1             292500.0   Unaccompanied  Commercial associate   \n",
       "2            1129500.0   Unaccompanied  Commercial associate   \n",
       "3             450000.0          Family  Commercial associate   \n",
       "4             540000.0   Unaccompanied               Working   \n",
       "...                ...             ...                   ...   \n",
       "92248         225000.0   Unaccompanied             Pensioner   \n",
       "92249         315000.0   Unaccompanied             Pensioner   \n",
       "92250         148500.0   Unaccompanied               Working   \n",
       "92251        1093500.0   Unaccompanied  Commercial associate   \n",
       "92252         405000.0   Unaccompanied               Working   \n",
       "\n",
       "                 NAME_EDUCATION_TYPE    NAME_FAMILY_STATUS  \\\n",
       "0      Secondary / secondary special  Single / not married   \n",
       "1                   Higher education  Single / not married   \n",
       "2      Secondary / secondary special        Civil marriage   \n",
       "3      Secondary / secondary special        Civil marriage   \n",
       "4                   Higher education               Married   \n",
       "...                              ...                   ...   \n",
       "92248  Secondary / secondary special  Single / not married   \n",
       "92249  Secondary / secondary special               Married   \n",
       "92250  Secondary / secondary special               Married   \n",
       "92251  Secondary / secondary special        Civil marriage   \n",
       "92252  Secondary / secondary special               Married   \n",
       "\n",
       "         NAME_HOUSING_TYPE  REGION_POPULATION_RELATIVE  DAYS_BIRTH  \\\n",
       "0      Municipal apartment                    0.032561      -14921   \n",
       "1        House / apartment                    0.009657      -15458   \n",
       "2        House / apartment                    0.072508      -15603   \n",
       "3        House / apartment                    0.072508      -16392   \n",
       "4        House / apartment                    0.026392      -10941   \n",
       "...                    ...                         ...         ...   \n",
       "92248    House / apartment                    0.020246      -20301   \n",
       "92249    House / apartment                    0.019101      -22590   \n",
       "92250    House / apartment                    0.031329      -17920   \n",
       "92251    House / apartment                    0.010500      -15927   \n",
       "92252  Municipal apartment                    0.032561      -15377   \n",
       "\n",
       "       DAYS_EMPLOYED  DAYS_REGISTRATION  \n",
       "0              -3844             -602.0  \n",
       "1               -694            -9544.0  \n",
       "2               -334            -3873.0  \n",
       "3              -3015            -8902.0  \n",
       "4              -4026             -910.0  \n",
       "...              ...                ...  \n",
       "92248         365243              -23.0  \n",
       "92249         365243            -5105.0  \n",
       "92250          -1837           -10196.0  \n",
       "92251           -944            -9938.0  \n",
       "92252          -3401            -1337.0  \n",
       "\n",
       "[92253 rows x 19 columns]"
      ]
     },
     "execution_count": 3,
     "metadata": {},
     "output_type": "execute_result"
    }
   ],
   "source": [
    "data = pd.read_csv('data/data.csv')\n",
    "data"
   ]
  },
  {
   "cell_type": "code",
   "execution_count": 4,
   "metadata": {},
   "outputs": [],
   "source": [
    "numeric_transformer = Pipeline(\n",
    "    steps=[(\"imputer\", SimpleImputer(strategy=\"median\")), (\"scaler\", StandardScaler())]\n",
    ")\n",
    "\n",
    "categorical_transformer = Pipeline(\n",
    "    steps=[\n",
    "        (\"encoder\", OneHotEncoder(handle_unknown=\"ignore\")),\n",
    "\n",
    "    ]\n",
    ")\n",
    "preprocessor = ColumnTransformer(\n",
    "    transformers=[\n",
    "        (\"num\", numeric_transformer, make_column_selector(dtype_include=np.number)),\n",
    "        (\"cat\", categorical_transformer, make_column_selector(dtype_exclude =np.number)),\n",
    "    ]\n",
    ")"
   ]
  },
  {
   "cell_type": "code",
   "execution_count": 5,
   "metadata": {},
   "outputs": [],
   "source": [
    "X = data.drop(columns=['TARGET'])\n",
    "y = data['TARGET']"
   ]
  },
  {
   "cell_type": "code",
   "execution_count": 6,
   "metadata": {},
   "outputs": [],
   "source": [
    "X_train, X_test, y_train, y_test = train_test_split(X, y, test_size=0.3, random_state=42)\n"
   ]
  },
  {
   "cell_type": "code",
   "execution_count": 7,
   "metadata": {},
   "outputs": [
    {
     "data": {
      "text/html": [
       "<div>\n",
       "<style scoped>\n",
       "    .dataframe tbody tr th:only-of-type {\n",
       "        vertical-align: middle;\n",
       "    }\n",
       "\n",
       "    .dataframe tbody tr th {\n",
       "        vertical-align: top;\n",
       "    }\n",
       "\n",
       "    .dataframe thead th {\n",
       "        text-align: right;\n",
       "    }\n",
       "</style>\n",
       "<table border=\"1\" class=\"dataframe\">\n",
       "  <thead>\n",
       "    <tr style=\"text-align: right;\">\n",
       "      <th></th>\n",
       "      <th>NAME_CONTRACT_TYPE</th>\n",
       "      <th>CODE_GENDER</th>\n",
       "      <th>FLAG_OWN_CAR</th>\n",
       "      <th>FLAG_OWN_REALTY</th>\n",
       "      <th>CNT_CHILDREN</th>\n",
       "      <th>AMT_INCOME_TOTAL</th>\n",
       "      <th>AMT_CREDIT</th>\n",
       "      <th>AMT_ANNUITY</th>\n",
       "      <th>AMT_GOODS_PRICE</th>\n",
       "      <th>NAME_TYPE_SUITE</th>\n",
       "      <th>NAME_INCOME_TYPE</th>\n",
       "      <th>NAME_EDUCATION_TYPE</th>\n",
       "      <th>NAME_FAMILY_STATUS</th>\n",
       "      <th>NAME_HOUSING_TYPE</th>\n",
       "      <th>REGION_POPULATION_RELATIVE</th>\n",
       "      <th>DAYS_BIRTH</th>\n",
       "      <th>DAYS_EMPLOYED</th>\n",
       "      <th>DAYS_REGISTRATION</th>\n",
       "    </tr>\n",
       "  </thead>\n",
       "  <tbody>\n",
       "    <tr>\n",
       "      <th>34807</th>\n",
       "      <td>Cash loans</td>\n",
       "      <td>F</td>\n",
       "      <td>N</td>\n",
       "      <td>Y</td>\n",
       "      <td>0</td>\n",
       "      <td>360000.0</td>\n",
       "      <td>976500.0</td>\n",
       "      <td>26982.0</td>\n",
       "      <td>976500.0</td>\n",
       "      <td>Unaccompanied</td>\n",
       "      <td>Commercial associate</td>\n",
       "      <td>Secondary / secondary special</td>\n",
       "      <td>Single / not married</td>\n",
       "      <td>House / apartment</td>\n",
       "      <td>0.007274</td>\n",
       "      <td>-18931</td>\n",
       "      <td>-286</td>\n",
       "      <td>-9761.0</td>\n",
       "    </tr>\n",
       "    <tr>\n",
       "      <th>20518</th>\n",
       "      <td>Cash loans</td>\n",
       "      <td>F</td>\n",
       "      <td>N</td>\n",
       "      <td>N</td>\n",
       "      <td>0</td>\n",
       "      <td>234000.0</td>\n",
       "      <td>485640.0</td>\n",
       "      <td>39069.0</td>\n",
       "      <td>450000.0</td>\n",
       "      <td>Unaccompanied</td>\n",
       "      <td>Working</td>\n",
       "      <td>Secondary / secondary special</td>\n",
       "      <td>Separated</td>\n",
       "      <td>Rented apartment</td>\n",
       "      <td>0.009175</td>\n",
       "      <td>-13382</td>\n",
       "      <td>-1257</td>\n",
       "      <td>-5874.0</td>\n",
       "    </tr>\n",
       "    <tr>\n",
       "      <th>46981</th>\n",
       "      <td>Cash loans</td>\n",
       "      <td>M</td>\n",
       "      <td>N</td>\n",
       "      <td>N</td>\n",
       "      <td>0</td>\n",
       "      <td>189000.0</td>\n",
       "      <td>1333179.0</td>\n",
       "      <td>74443.5</td>\n",
       "      <td>1260000.0</td>\n",
       "      <td>Unaccompanied</td>\n",
       "      <td>Commercial associate</td>\n",
       "      <td>Secondary / secondary special</td>\n",
       "      <td>Civil marriage</td>\n",
       "      <td>House / apartment</td>\n",
       "      <td>0.003069</td>\n",
       "      <td>-16185</td>\n",
       "      <td>-767</td>\n",
       "      <td>-3650.0</td>\n",
       "    </tr>\n",
       "    <tr>\n",
       "      <th>71313</th>\n",
       "      <td>Cash loans</td>\n",
       "      <td>F</td>\n",
       "      <td>N</td>\n",
       "      <td>Y</td>\n",
       "      <td>0</td>\n",
       "      <td>67500.0</td>\n",
       "      <td>738000.0</td>\n",
       "      <td>24520.5</td>\n",
       "      <td>738000.0</td>\n",
       "      <td>Unaccompanied</td>\n",
       "      <td>Pensioner</td>\n",
       "      <td>Secondary / secondary special</td>\n",
       "      <td>Married</td>\n",
       "      <td>House / apartment</td>\n",
       "      <td>0.018850</td>\n",
       "      <td>-20488</td>\n",
       "      <td>365243</td>\n",
       "      <td>-3974.0</td>\n",
       "    </tr>\n",
       "    <tr>\n",
       "      <th>68002</th>\n",
       "      <td>Cash loans</td>\n",
       "      <td>M</td>\n",
       "      <td>Y</td>\n",
       "      <td>N</td>\n",
       "      <td>0</td>\n",
       "      <td>112500.0</td>\n",
       "      <td>545040.0</td>\n",
       "      <td>34830.0</td>\n",
       "      <td>450000.0</td>\n",
       "      <td>Unaccompanied</td>\n",
       "      <td>Working</td>\n",
       "      <td>Secondary / secondary special</td>\n",
       "      <td>Married</td>\n",
       "      <td>House / apartment</td>\n",
       "      <td>0.035792</td>\n",
       "      <td>-16932</td>\n",
       "      <td>-1872</td>\n",
       "      <td>-2851.0</td>\n",
       "    </tr>\n",
       "    <tr>\n",
       "      <th>...</th>\n",
       "      <td>...</td>\n",
       "      <td>...</td>\n",
       "      <td>...</td>\n",
       "      <td>...</td>\n",
       "      <td>...</td>\n",
       "      <td>...</td>\n",
       "      <td>...</td>\n",
       "      <td>...</td>\n",
       "      <td>...</td>\n",
       "      <td>...</td>\n",
       "      <td>...</td>\n",
       "      <td>...</td>\n",
       "      <td>...</td>\n",
       "      <td>...</td>\n",
       "      <td>...</td>\n",
       "      <td>...</td>\n",
       "      <td>...</td>\n",
       "      <td>...</td>\n",
       "    </tr>\n",
       "    <tr>\n",
       "      <th>6265</th>\n",
       "      <td>Cash loans</td>\n",
       "      <td>F</td>\n",
       "      <td>N</td>\n",
       "      <td>Y</td>\n",
       "      <td>0</td>\n",
       "      <td>189000.0</td>\n",
       "      <td>454455.0</td>\n",
       "      <td>17262.0</td>\n",
       "      <td>319500.0</td>\n",
       "      <td>Family</td>\n",
       "      <td>Pensioner</td>\n",
       "      <td>Secondary / secondary special</td>\n",
       "      <td>Married</td>\n",
       "      <td>House / apartment</td>\n",
       "      <td>0.018850</td>\n",
       "      <td>-23193</td>\n",
       "      <td>365243</td>\n",
       "      <td>-1216.0</td>\n",
       "    </tr>\n",
       "    <tr>\n",
       "      <th>54886</th>\n",
       "      <td>Cash loans</td>\n",
       "      <td>M</td>\n",
       "      <td>Y</td>\n",
       "      <td>Y</td>\n",
       "      <td>0</td>\n",
       "      <td>202500.0</td>\n",
       "      <td>190764.0</td>\n",
       "      <td>11799.0</td>\n",
       "      <td>157500.0</td>\n",
       "      <td>Unaccompanied</td>\n",
       "      <td>Commercial associate</td>\n",
       "      <td>Secondary / secondary special</td>\n",
       "      <td>Married</td>\n",
       "      <td>House / apartment</td>\n",
       "      <td>0.046220</td>\n",
       "      <td>-22039</td>\n",
       "      <td>-3912</td>\n",
       "      <td>-11280.0</td>\n",
       "    </tr>\n",
       "    <tr>\n",
       "      <th>76820</th>\n",
       "      <td>Revolving loans</td>\n",
       "      <td>M</td>\n",
       "      <td>Y</td>\n",
       "      <td>Y</td>\n",
       "      <td>0</td>\n",
       "      <td>135000.0</td>\n",
       "      <td>270000.0</td>\n",
       "      <td>13500.0</td>\n",
       "      <td>270000.0</td>\n",
       "      <td>Unaccompanied</td>\n",
       "      <td>Working</td>\n",
       "      <td>Secondary / secondary special</td>\n",
       "      <td>Married</td>\n",
       "      <td>House / apartment</td>\n",
       "      <td>0.022625</td>\n",
       "      <td>-17451</td>\n",
       "      <td>-5332</td>\n",
       "      <td>-2185.0</td>\n",
       "    </tr>\n",
       "    <tr>\n",
       "      <th>860</th>\n",
       "      <td>Cash loans</td>\n",
       "      <td>F</td>\n",
       "      <td>N</td>\n",
       "      <td>Y</td>\n",
       "      <td>3</td>\n",
       "      <td>225000.0</td>\n",
       "      <td>1324440.0</td>\n",
       "      <td>47700.0</td>\n",
       "      <td>1170000.0</td>\n",
       "      <td>Unaccompanied</td>\n",
       "      <td>Commercial associate</td>\n",
       "      <td>Lower secondary</td>\n",
       "      <td>Married</td>\n",
       "      <td>House / apartment</td>\n",
       "      <td>0.019101</td>\n",
       "      <td>-12977</td>\n",
       "      <td>-2633</td>\n",
       "      <td>-4436.0</td>\n",
       "    </tr>\n",
       "    <tr>\n",
       "      <th>15795</th>\n",
       "      <td>Cash loans</td>\n",
       "      <td>F</td>\n",
       "      <td>N</td>\n",
       "      <td>N</td>\n",
       "      <td>0</td>\n",
       "      <td>67500.0</td>\n",
       "      <td>254700.0</td>\n",
       "      <td>24939.0</td>\n",
       "      <td>225000.0</td>\n",
       "      <td>Unaccompanied</td>\n",
       "      <td>Pensioner</td>\n",
       "      <td>Secondary / secondary special</td>\n",
       "      <td>Married</td>\n",
       "      <td>With parents</td>\n",
       "      <td>0.046220</td>\n",
       "      <td>-24587</td>\n",
       "      <td>365243</td>\n",
       "      <td>-5042.0</td>\n",
       "    </tr>\n",
       "  </tbody>\n",
       "</table>\n",
       "<p>64577 rows × 18 columns</p>\n",
       "</div>"
      ],
      "text/plain": [
       "      NAME_CONTRACT_TYPE CODE_GENDER FLAG_OWN_CAR FLAG_OWN_REALTY  \\\n",
       "34807         Cash loans           F            N               Y   \n",
       "20518         Cash loans           F            N               N   \n",
       "46981         Cash loans           M            N               N   \n",
       "71313         Cash loans           F            N               Y   \n",
       "68002         Cash loans           M            Y               N   \n",
       "...                  ...         ...          ...             ...   \n",
       "6265          Cash loans           F            N               Y   \n",
       "54886         Cash loans           M            Y               Y   \n",
       "76820    Revolving loans           M            Y               Y   \n",
       "860           Cash loans           F            N               Y   \n",
       "15795         Cash loans           F            N               N   \n",
       "\n",
       "       CNT_CHILDREN  AMT_INCOME_TOTAL  AMT_CREDIT  AMT_ANNUITY  \\\n",
       "34807             0          360000.0    976500.0      26982.0   \n",
       "20518             0          234000.0    485640.0      39069.0   \n",
       "46981             0          189000.0   1333179.0      74443.5   \n",
       "71313             0           67500.0    738000.0      24520.5   \n",
       "68002             0          112500.0    545040.0      34830.0   \n",
       "...             ...               ...         ...          ...   \n",
       "6265              0          189000.0    454455.0      17262.0   \n",
       "54886             0          202500.0    190764.0      11799.0   \n",
       "76820             0          135000.0    270000.0      13500.0   \n",
       "860               3          225000.0   1324440.0      47700.0   \n",
       "15795             0           67500.0    254700.0      24939.0   \n",
       "\n",
       "       AMT_GOODS_PRICE NAME_TYPE_SUITE      NAME_INCOME_TYPE  \\\n",
       "34807         976500.0   Unaccompanied  Commercial associate   \n",
       "20518         450000.0   Unaccompanied               Working   \n",
       "46981        1260000.0   Unaccompanied  Commercial associate   \n",
       "71313         738000.0   Unaccompanied             Pensioner   \n",
       "68002         450000.0   Unaccompanied               Working   \n",
       "...                ...             ...                   ...   \n",
       "6265          319500.0          Family             Pensioner   \n",
       "54886         157500.0   Unaccompanied  Commercial associate   \n",
       "76820         270000.0   Unaccompanied               Working   \n",
       "860          1170000.0   Unaccompanied  Commercial associate   \n",
       "15795         225000.0   Unaccompanied             Pensioner   \n",
       "\n",
       "                 NAME_EDUCATION_TYPE    NAME_FAMILY_STATUS  NAME_HOUSING_TYPE  \\\n",
       "34807  Secondary / secondary special  Single / not married  House / apartment   \n",
       "20518  Secondary / secondary special             Separated   Rented apartment   \n",
       "46981  Secondary / secondary special        Civil marriage  House / apartment   \n",
       "71313  Secondary / secondary special               Married  House / apartment   \n",
       "68002  Secondary / secondary special               Married  House / apartment   \n",
       "...                              ...                   ...                ...   \n",
       "6265   Secondary / secondary special               Married  House / apartment   \n",
       "54886  Secondary / secondary special               Married  House / apartment   \n",
       "76820  Secondary / secondary special               Married  House / apartment   \n",
       "860                  Lower secondary               Married  House / apartment   \n",
       "15795  Secondary / secondary special               Married       With parents   \n",
       "\n",
       "       REGION_POPULATION_RELATIVE  DAYS_BIRTH  DAYS_EMPLOYED  \\\n",
       "34807                    0.007274      -18931           -286   \n",
       "20518                    0.009175      -13382          -1257   \n",
       "46981                    0.003069      -16185           -767   \n",
       "71313                    0.018850      -20488         365243   \n",
       "68002                    0.035792      -16932          -1872   \n",
       "...                           ...         ...            ...   \n",
       "6265                     0.018850      -23193         365243   \n",
       "54886                    0.046220      -22039          -3912   \n",
       "76820                    0.022625      -17451          -5332   \n",
       "860                      0.019101      -12977          -2633   \n",
       "15795                    0.046220      -24587         365243   \n",
       "\n",
       "       DAYS_REGISTRATION  \n",
       "34807            -9761.0  \n",
       "20518            -5874.0  \n",
       "46981            -3650.0  \n",
       "71313            -3974.0  \n",
       "68002            -2851.0  \n",
       "...                  ...  \n",
       "6265             -1216.0  \n",
       "54886           -11280.0  \n",
       "76820            -2185.0  \n",
       "860              -4436.0  \n",
       "15795            -5042.0  \n",
       "\n",
       "[64577 rows x 18 columns]"
      ]
     },
     "execution_count": 7,
     "metadata": {},
     "output_type": "execute_result"
    }
   ],
   "source": [
    "X_train"
   ]
  },
  {
   "cell_type": "code",
   "execution_count": null,
   "metadata": {},
   "outputs": [],
   "source": []
  },
  {
   "cell_type": "code",
   "execution_count": 8,
   "metadata": {},
   "outputs": [
    {
     "data": {
      "text/html": [
       "<div>\n",
       "<style scoped>\n",
       "    .dataframe tbody tr th:only-of-type {\n",
       "        vertical-align: middle;\n",
       "    }\n",
       "\n",
       "    .dataframe tbody tr th {\n",
       "        vertical-align: top;\n",
       "    }\n",
       "\n",
       "    .dataframe thead th {\n",
       "        text-align: right;\n",
       "    }\n",
       "</style>\n",
       "<table border=\"1\" class=\"dataframe\">\n",
       "  <thead>\n",
       "    <tr style=\"text-align: right;\">\n",
       "      <th></th>\n",
       "      <th>NAME_CONTRACT_TYPE</th>\n",
       "      <th>CODE_GENDER</th>\n",
       "      <th>FLAG_OWN_CAR</th>\n",
       "      <th>FLAG_OWN_REALTY</th>\n",
       "      <th>CNT_CHILDREN</th>\n",
       "      <th>AMT_INCOME_TOTAL</th>\n",
       "      <th>AMT_CREDIT</th>\n",
       "      <th>AMT_ANNUITY</th>\n",
       "      <th>AMT_GOODS_PRICE</th>\n",
       "      <th>NAME_TYPE_SUITE</th>\n",
       "      <th>NAME_INCOME_TYPE</th>\n",
       "      <th>NAME_EDUCATION_TYPE</th>\n",
       "      <th>NAME_FAMILY_STATUS</th>\n",
       "      <th>NAME_HOUSING_TYPE</th>\n",
       "      <th>REGION_POPULATION_RELATIVE</th>\n",
       "      <th>DAYS_BIRTH</th>\n",
       "      <th>DAYS_EMPLOYED</th>\n",
       "      <th>DAYS_REGISTRATION</th>\n",
       "    </tr>\n",
       "  </thead>\n",
       "  <tbody>\n",
       "    <tr>\n",
       "      <th>37408</th>\n",
       "      <td>Cash loans</td>\n",
       "      <td>F</td>\n",
       "      <td>N</td>\n",
       "      <td>Y</td>\n",
       "      <td>0</td>\n",
       "      <td>126000.0</td>\n",
       "      <td>714915.0</td>\n",
       "      <td>31621.5</td>\n",
       "      <td>639000.0</td>\n",
       "      <td>Unaccompanied</td>\n",
       "      <td>Pensioner</td>\n",
       "      <td>Lower secondary</td>\n",
       "      <td>Married</td>\n",
       "      <td>House / apartment</td>\n",
       "      <td>0.046220</td>\n",
       "      <td>-23573</td>\n",
       "      <td>365243</td>\n",
       "      <td>-13083.0</td>\n",
       "    </tr>\n",
       "    <tr>\n",
       "      <th>75132</th>\n",
       "      <td>Cash loans</td>\n",
       "      <td>M</td>\n",
       "      <td>Y</td>\n",
       "      <td>N</td>\n",
       "      <td>2</td>\n",
       "      <td>247500.0</td>\n",
       "      <td>521280.0</td>\n",
       "      <td>27423.0</td>\n",
       "      <td>450000.0</td>\n",
       "      <td>Unaccompanied</td>\n",
       "      <td>Working</td>\n",
       "      <td>Higher education</td>\n",
       "      <td>Married</td>\n",
       "      <td>House / apartment</td>\n",
       "      <td>0.008866</td>\n",
       "      <td>-12191</td>\n",
       "      <td>-3298</td>\n",
       "      <td>-1371.0</td>\n",
       "    </tr>\n",
       "    <tr>\n",
       "      <th>21513</th>\n",
       "      <td>Cash loans</td>\n",
       "      <td>F</td>\n",
       "      <td>N</td>\n",
       "      <td>Y</td>\n",
       "      <td>0</td>\n",
       "      <td>202500.0</td>\n",
       "      <td>550467.0</td>\n",
       "      <td>20880.0</td>\n",
       "      <td>387000.0</td>\n",
       "      <td>Unaccompanied</td>\n",
       "      <td>Commercial associate</td>\n",
       "      <td>Secondary / secondary special</td>\n",
       "      <td>Civil marriage</td>\n",
       "      <td>House / apartment</td>\n",
       "      <td>0.035792</td>\n",
       "      <td>-11799</td>\n",
       "      <td>-586</td>\n",
       "      <td>-66.0</td>\n",
       "    </tr>\n",
       "    <tr>\n",
       "      <th>58291</th>\n",
       "      <td>Cash loans</td>\n",
       "      <td>F</td>\n",
       "      <td>N</td>\n",
       "      <td>N</td>\n",
       "      <td>0</td>\n",
       "      <td>225000.0</td>\n",
       "      <td>675000.0</td>\n",
       "      <td>34465.5</td>\n",
       "      <td>675000.0</td>\n",
       "      <td>Unaccompanied</td>\n",
       "      <td>Working</td>\n",
       "      <td>Secondary / secondary special</td>\n",
       "      <td>Married</td>\n",
       "      <td>House / apartment</td>\n",
       "      <td>0.010006</td>\n",
       "      <td>-19060</td>\n",
       "      <td>-962</td>\n",
       "      <td>-686.0</td>\n",
       "    </tr>\n",
       "    <tr>\n",
       "      <th>39033</th>\n",
       "      <td>Cash loans</td>\n",
       "      <td>F</td>\n",
       "      <td>N</td>\n",
       "      <td>Y</td>\n",
       "      <td>1</td>\n",
       "      <td>180000.0</td>\n",
       "      <td>254700.0</td>\n",
       "      <td>16582.5</td>\n",
       "      <td>225000.0</td>\n",
       "      <td>Unaccompanied</td>\n",
       "      <td>Working</td>\n",
       "      <td>Secondary / secondary special</td>\n",
       "      <td>Separated</td>\n",
       "      <td>Rented apartment</td>\n",
       "      <td>0.009175</td>\n",
       "      <td>-10092</td>\n",
       "      <td>-508</td>\n",
       "      <td>-330.0</td>\n",
       "    </tr>\n",
       "    <tr>\n",
       "      <th>...</th>\n",
       "      <td>...</td>\n",
       "      <td>...</td>\n",
       "      <td>...</td>\n",
       "      <td>...</td>\n",
       "      <td>...</td>\n",
       "      <td>...</td>\n",
       "      <td>...</td>\n",
       "      <td>...</td>\n",
       "      <td>...</td>\n",
       "      <td>...</td>\n",
       "      <td>...</td>\n",
       "      <td>...</td>\n",
       "      <td>...</td>\n",
       "      <td>...</td>\n",
       "      <td>...</td>\n",
       "      <td>...</td>\n",
       "      <td>...</td>\n",
       "      <td>...</td>\n",
       "    </tr>\n",
       "    <tr>\n",
       "      <th>78085</th>\n",
       "      <td>Cash loans</td>\n",
       "      <td>F</td>\n",
       "      <td>N</td>\n",
       "      <td>N</td>\n",
       "      <td>0</td>\n",
       "      <td>112500.0</td>\n",
       "      <td>450000.0</td>\n",
       "      <td>27324.0</td>\n",
       "      <td>450000.0</td>\n",
       "      <td>Family</td>\n",
       "      <td>Working</td>\n",
       "      <td>Secondary / secondary special</td>\n",
       "      <td>Married</td>\n",
       "      <td>House / apartment</td>\n",
       "      <td>0.009175</td>\n",
       "      <td>-12365</td>\n",
       "      <td>-157</td>\n",
       "      <td>-694.0</td>\n",
       "    </tr>\n",
       "    <tr>\n",
       "      <th>15208</th>\n",
       "      <td>Cash loans</td>\n",
       "      <td>M</td>\n",
       "      <td>N</td>\n",
       "      <td>Y</td>\n",
       "      <td>0</td>\n",
       "      <td>90000.0</td>\n",
       "      <td>188460.0</td>\n",
       "      <td>9994.5</td>\n",
       "      <td>135000.0</td>\n",
       "      <td>Unaccompanied</td>\n",
       "      <td>Working</td>\n",
       "      <td>Higher education</td>\n",
       "      <td>Single / not married</td>\n",
       "      <td>House / apartment</td>\n",
       "      <td>0.022625</td>\n",
       "      <td>-15725</td>\n",
       "      <td>-3516</td>\n",
       "      <td>-5934.0</td>\n",
       "    </tr>\n",
       "    <tr>\n",
       "      <th>52877</th>\n",
       "      <td>Cash loans</td>\n",
       "      <td>M</td>\n",
       "      <td>Y</td>\n",
       "      <td>Y</td>\n",
       "      <td>0</td>\n",
       "      <td>216000.0</td>\n",
       "      <td>1314117.0</td>\n",
       "      <td>38551.5</td>\n",
       "      <td>1147500.0</td>\n",
       "      <td>Unaccompanied</td>\n",
       "      <td>Working</td>\n",
       "      <td>Secondary / secondary special</td>\n",
       "      <td>Married</td>\n",
       "      <td>House / apartment</td>\n",
       "      <td>0.007020</td>\n",
       "      <td>-13348</td>\n",
       "      <td>-798</td>\n",
       "      <td>-1774.0</td>\n",
       "    </tr>\n",
       "    <tr>\n",
       "      <th>20663</th>\n",
       "      <td>Cash loans</td>\n",
       "      <td>F</td>\n",
       "      <td>N</td>\n",
       "      <td>Y</td>\n",
       "      <td>0</td>\n",
       "      <td>270000.0</td>\n",
       "      <td>315000.0</td>\n",
       "      <td>16213.5</td>\n",
       "      <td>315000.0</td>\n",
       "      <td>Unaccompanied</td>\n",
       "      <td>State servant</td>\n",
       "      <td>Higher education</td>\n",
       "      <td>Single / not married</td>\n",
       "      <td>House / apartment</td>\n",
       "      <td>0.072508</td>\n",
       "      <td>-17390</td>\n",
       "      <td>-2943</td>\n",
       "      <td>-5171.0</td>\n",
       "    </tr>\n",
       "    <tr>\n",
       "      <th>261</th>\n",
       "      <td>Cash loans</td>\n",
       "      <td>M</td>\n",
       "      <td>N</td>\n",
       "      <td>Y</td>\n",
       "      <td>0</td>\n",
       "      <td>180000.0</td>\n",
       "      <td>196677.0</td>\n",
       "      <td>21181.5</td>\n",
       "      <td>184500.0</td>\n",
       "      <td>Unaccompanied</td>\n",
       "      <td>Working</td>\n",
       "      <td>Secondary / secondary special</td>\n",
       "      <td>Married</td>\n",
       "      <td>House / apartment</td>\n",
       "      <td>0.030755</td>\n",
       "      <td>-19264</td>\n",
       "      <td>-7872</td>\n",
       "      <td>-2513.0</td>\n",
       "    </tr>\n",
       "  </tbody>\n",
       "</table>\n",
       "<p>27676 rows × 18 columns</p>\n",
       "</div>"
      ],
      "text/plain": [
       "      NAME_CONTRACT_TYPE CODE_GENDER FLAG_OWN_CAR FLAG_OWN_REALTY  \\\n",
       "37408         Cash loans           F            N               Y   \n",
       "75132         Cash loans           M            Y               N   \n",
       "21513         Cash loans           F            N               Y   \n",
       "58291         Cash loans           F            N               N   \n",
       "39033         Cash loans           F            N               Y   \n",
       "...                  ...         ...          ...             ...   \n",
       "78085         Cash loans           F            N               N   \n",
       "15208         Cash loans           M            N               Y   \n",
       "52877         Cash loans           M            Y               Y   \n",
       "20663         Cash loans           F            N               Y   \n",
       "261           Cash loans           M            N               Y   \n",
       "\n",
       "       CNT_CHILDREN  AMT_INCOME_TOTAL  AMT_CREDIT  AMT_ANNUITY  \\\n",
       "37408             0          126000.0    714915.0      31621.5   \n",
       "75132             2          247500.0    521280.0      27423.0   \n",
       "21513             0          202500.0    550467.0      20880.0   \n",
       "58291             0          225000.0    675000.0      34465.5   \n",
       "39033             1          180000.0    254700.0      16582.5   \n",
       "...             ...               ...         ...          ...   \n",
       "78085             0          112500.0    450000.0      27324.0   \n",
       "15208             0           90000.0    188460.0       9994.5   \n",
       "52877             0          216000.0   1314117.0      38551.5   \n",
       "20663             0          270000.0    315000.0      16213.5   \n",
       "261               0          180000.0    196677.0      21181.5   \n",
       "\n",
       "       AMT_GOODS_PRICE NAME_TYPE_SUITE      NAME_INCOME_TYPE  \\\n",
       "37408         639000.0   Unaccompanied             Pensioner   \n",
       "75132         450000.0   Unaccompanied               Working   \n",
       "21513         387000.0   Unaccompanied  Commercial associate   \n",
       "58291         675000.0   Unaccompanied               Working   \n",
       "39033         225000.0   Unaccompanied               Working   \n",
       "...                ...             ...                   ...   \n",
       "78085         450000.0          Family               Working   \n",
       "15208         135000.0   Unaccompanied               Working   \n",
       "52877        1147500.0   Unaccompanied               Working   \n",
       "20663         315000.0   Unaccompanied         State servant   \n",
       "261           184500.0   Unaccompanied               Working   \n",
       "\n",
       "                 NAME_EDUCATION_TYPE    NAME_FAMILY_STATUS  NAME_HOUSING_TYPE  \\\n",
       "37408                Lower secondary               Married  House / apartment   \n",
       "75132               Higher education               Married  House / apartment   \n",
       "21513  Secondary / secondary special        Civil marriage  House / apartment   \n",
       "58291  Secondary / secondary special               Married  House / apartment   \n",
       "39033  Secondary / secondary special             Separated   Rented apartment   \n",
       "...                              ...                   ...                ...   \n",
       "78085  Secondary / secondary special               Married  House / apartment   \n",
       "15208               Higher education  Single / not married  House / apartment   \n",
       "52877  Secondary / secondary special               Married  House / apartment   \n",
       "20663               Higher education  Single / not married  House / apartment   \n",
       "261    Secondary / secondary special               Married  House / apartment   \n",
       "\n",
       "       REGION_POPULATION_RELATIVE  DAYS_BIRTH  DAYS_EMPLOYED  \\\n",
       "37408                    0.046220      -23573         365243   \n",
       "75132                    0.008866      -12191          -3298   \n",
       "21513                    0.035792      -11799           -586   \n",
       "58291                    0.010006      -19060           -962   \n",
       "39033                    0.009175      -10092           -508   \n",
       "...                           ...         ...            ...   \n",
       "78085                    0.009175      -12365           -157   \n",
       "15208                    0.022625      -15725          -3516   \n",
       "52877                    0.007020      -13348           -798   \n",
       "20663                    0.072508      -17390          -2943   \n",
       "261                      0.030755      -19264          -7872   \n",
       "\n",
       "       DAYS_REGISTRATION  \n",
       "37408           -13083.0  \n",
       "75132            -1371.0  \n",
       "21513              -66.0  \n",
       "58291             -686.0  \n",
       "39033             -330.0  \n",
       "...                  ...  \n",
       "78085             -694.0  \n",
       "15208            -5934.0  \n",
       "52877            -1774.0  \n",
       "20663            -5171.0  \n",
       "261              -2513.0  \n",
       "\n",
       "[27676 rows x 18 columns]"
      ]
     },
     "execution_count": 8,
     "metadata": {},
     "output_type": "execute_result"
    }
   ],
   "source": [
    "X_test"
   ]
  },
  {
   "cell_type": "code",
   "execution_count": 9,
   "metadata": {},
   "outputs": [],
   "source": [
    "pipeline = Pipeline(\n",
    "    [\n",
    "        ('sampler', RandomUnderSampler()),\n",
    "        (\"transformer\", preprocessor),\n",
    "        ('imputer', SimpleImputer(strategy='median')),\n",
    "        ('scaler', StandardScaler()),\n",
    "        ('estimator', LogisticRegression()),    \n",
    "    ]\n",
    ")"
   ]
  },
  {
   "cell_type": "code",
   "execution_count": 10,
   "metadata": {},
   "outputs": [
    {
     "name": "stdout",
     "output_type": "stream",
     "text": [
      "Fitting 5 folds for each of 1 candidates, totalling 5 fits\n"
     ]
    },
    {
     "data": {
      "text/html": [
       "<style>#sk-container-id-1 {color: black;}#sk-container-id-1 pre{padding: 0;}#sk-container-id-1 div.sk-toggleable {background-color: white;}#sk-container-id-1 label.sk-toggleable__label {cursor: pointer;display: block;width: 100%;margin-bottom: 0;padding: 0.3em;box-sizing: border-box;text-align: center;}#sk-container-id-1 label.sk-toggleable__label-arrow:before {content: \"▸\";float: left;margin-right: 0.25em;color: #696969;}#sk-container-id-1 label.sk-toggleable__label-arrow:hover:before {color: black;}#sk-container-id-1 div.sk-estimator:hover label.sk-toggleable__label-arrow:before {color: black;}#sk-container-id-1 div.sk-toggleable__content {max-height: 0;max-width: 0;overflow: hidden;text-align: left;background-color: #f0f8ff;}#sk-container-id-1 div.sk-toggleable__content pre {margin: 0.2em;color: black;border-radius: 0.25em;background-color: #f0f8ff;}#sk-container-id-1 input.sk-toggleable__control:checked~div.sk-toggleable__content {max-height: 200px;max-width: 100%;overflow: auto;}#sk-container-id-1 input.sk-toggleable__control:checked~label.sk-toggleable__label-arrow:before {content: \"▾\";}#sk-container-id-1 div.sk-estimator input.sk-toggleable__control:checked~label.sk-toggleable__label {background-color: #d4ebff;}#sk-container-id-1 div.sk-label input.sk-toggleable__control:checked~label.sk-toggleable__label {background-color: #d4ebff;}#sk-container-id-1 input.sk-hidden--visually {border: 0;clip: rect(1px 1px 1px 1px);clip: rect(1px, 1px, 1px, 1px);height: 1px;margin: -1px;overflow: hidden;padding: 0;position: absolute;width: 1px;}#sk-container-id-1 div.sk-estimator {font-family: monospace;background-color: #f0f8ff;border: 1px dotted black;border-radius: 0.25em;box-sizing: border-box;margin-bottom: 0.5em;}#sk-container-id-1 div.sk-estimator:hover {background-color: #d4ebff;}#sk-container-id-1 div.sk-parallel-item::after {content: \"\";width: 100%;border-bottom: 1px solid gray;flex-grow: 1;}#sk-container-id-1 div.sk-label:hover label.sk-toggleable__label {background-color: #d4ebff;}#sk-container-id-1 div.sk-serial::before {content: \"\";position: absolute;border-left: 1px solid gray;box-sizing: border-box;top: 0;bottom: 0;left: 50%;z-index: 0;}#sk-container-id-1 div.sk-serial {display: flex;flex-direction: column;align-items: center;background-color: white;padding-right: 0.2em;padding-left: 0.2em;position: relative;}#sk-container-id-1 div.sk-item {position: relative;z-index: 1;}#sk-container-id-1 div.sk-parallel {display: flex;align-items: stretch;justify-content: center;background-color: white;position: relative;}#sk-container-id-1 div.sk-item::before, #sk-container-id-1 div.sk-parallel-item::before {content: \"\";position: absolute;border-left: 1px solid gray;box-sizing: border-box;top: 0;bottom: 0;left: 50%;z-index: -1;}#sk-container-id-1 div.sk-parallel-item {display: flex;flex-direction: column;z-index: 1;position: relative;background-color: white;}#sk-container-id-1 div.sk-parallel-item:first-child::after {align-self: flex-end;width: 50%;}#sk-container-id-1 div.sk-parallel-item:last-child::after {align-self: flex-start;width: 50%;}#sk-container-id-1 div.sk-parallel-item:only-child::after {width: 0;}#sk-container-id-1 div.sk-dashed-wrapped {border: 1px dashed gray;margin: 0 0.4em 0.5em 0.4em;box-sizing: border-box;padding-bottom: 0.4em;background-color: white;}#sk-container-id-1 div.sk-label label {font-family: monospace;font-weight: bold;display: inline-block;line-height: 1.2em;}#sk-container-id-1 div.sk-label-container {text-align: center;}#sk-container-id-1 div.sk-container {/* jupyter's `normalize.less` sets `[hidden] { display: none; }` but bootstrap.min.css set `[hidden] { display: none !important; }` so we also need the `!important` here to be able to override the default hidden behavior on the sphinx rendered scikit-learn.org. See: https://github.com/scikit-learn/scikit-learn/issues/21755 */display: inline-block !important;position: relative;}#sk-container-id-1 div.sk-text-repr-fallback {display: none;}</style><div id=\"sk-container-id-1\" class=\"sk-top-container\"><div class=\"sk-text-repr-fallback\"><pre>GridSearchCV(cv=5,\n",
       "             estimator=Pipeline(steps=[(&#x27;sampler&#x27;, RandomUnderSampler()),\n",
       "                                       (&#x27;transformer&#x27;,\n",
       "                                        ColumnTransformer(transformers=[(&#x27;num&#x27;,\n",
       "                                                                         Pipeline(steps=[(&#x27;imputer&#x27;,\n",
       "                                                                                          SimpleImputer(strategy=&#x27;median&#x27;)),\n",
       "                                                                                         (&#x27;scaler&#x27;,\n",
       "                                                                                          StandardScaler())]),\n",
       "                                                                         &lt;sklearn.compose._column_transformer.make_column_selector object at 0x7feb34c11ff0&gt;),\n",
       "                                                                        (&#x27;cat&#x27;,\n",
       "                                                                         Pipeline(steps=[(&#x27;encoder&#x27;,\n",
       "                                                                                          OneHotEncoder(handle_unknown=&#x27;ignore&#x27;))]),\n",
       "                                                                         &lt;sklearn.compose._column_transformer.make_column_selector object at 0x7feb34c12020&gt;)])),\n",
       "                                       (&#x27;imputer&#x27;,\n",
       "                                        SimpleImputer(strategy=&#x27;median&#x27;)),\n",
       "                                       (&#x27;scaler&#x27;, StandardScaler()),\n",
       "                                       (&#x27;estimator&#x27;, LogisticRegression())]),\n",
       "             n_jobs=-1, param_grid={}, return_train_score=True, scoring=&#x27;f1&#x27;,\n",
       "             verbose=1)</pre><b>In a Jupyter environment, please rerun this cell to show the HTML representation or trust the notebook. <br />On GitHub, the HTML representation is unable to render, please try loading this page with nbviewer.org.</b></div><div class=\"sk-container\" hidden><div class=\"sk-item sk-dashed-wrapped\"><div class=\"sk-label-container\"><div class=\"sk-label sk-toggleable\"><input class=\"sk-toggleable__control sk-hidden--visually\" id=\"sk-estimator-id-1\" type=\"checkbox\" ><label for=\"sk-estimator-id-1\" class=\"sk-toggleable__label sk-toggleable__label-arrow\">GridSearchCV</label><div class=\"sk-toggleable__content\"><pre>GridSearchCV(cv=5,\n",
       "             estimator=Pipeline(steps=[(&#x27;sampler&#x27;, RandomUnderSampler()),\n",
       "                                       (&#x27;transformer&#x27;,\n",
       "                                        ColumnTransformer(transformers=[(&#x27;num&#x27;,\n",
       "                                                                         Pipeline(steps=[(&#x27;imputer&#x27;,\n",
       "                                                                                          SimpleImputer(strategy=&#x27;median&#x27;)),\n",
       "                                                                                         (&#x27;scaler&#x27;,\n",
       "                                                                                          StandardScaler())]),\n",
       "                                                                         &lt;sklearn.compose._column_transformer.make_column_selector object at 0x7feb34c11ff0&gt;),\n",
       "                                                                        (&#x27;cat&#x27;,\n",
       "                                                                         Pipeline(steps=[(&#x27;encoder&#x27;,\n",
       "                                                                                          OneHotEncoder(handle_unknown=&#x27;ignore&#x27;))]),\n",
       "                                                                         &lt;sklearn.compose._column_transformer.make_column_selector object at 0x7feb34c12020&gt;)])),\n",
       "                                       (&#x27;imputer&#x27;,\n",
       "                                        SimpleImputer(strategy=&#x27;median&#x27;)),\n",
       "                                       (&#x27;scaler&#x27;, StandardScaler()),\n",
       "                                       (&#x27;estimator&#x27;, LogisticRegression())]),\n",
       "             n_jobs=-1, param_grid={}, return_train_score=True, scoring=&#x27;f1&#x27;,\n",
       "             verbose=1)</pre></div></div></div><div class=\"sk-parallel\"><div class=\"sk-parallel-item\"><div class=\"sk-item\"><div class=\"sk-label-container\"><div class=\"sk-label sk-toggleable\"><input class=\"sk-toggleable__control sk-hidden--visually\" id=\"sk-estimator-id-2\" type=\"checkbox\" ><label for=\"sk-estimator-id-2\" class=\"sk-toggleable__label sk-toggleable__label-arrow\">estimator: Pipeline</label><div class=\"sk-toggleable__content\"><pre>Pipeline(steps=[(&#x27;sampler&#x27;, RandomUnderSampler()),\n",
       "                (&#x27;transformer&#x27;,\n",
       "                 ColumnTransformer(transformers=[(&#x27;num&#x27;,\n",
       "                                                  Pipeline(steps=[(&#x27;imputer&#x27;,\n",
       "                                                                   SimpleImputer(strategy=&#x27;median&#x27;)),\n",
       "                                                                  (&#x27;scaler&#x27;,\n",
       "                                                                   StandardScaler())]),\n",
       "                                                  &lt;sklearn.compose._column_transformer.make_column_selector object at 0x7feb34c11ff0&gt;),\n",
       "                                                 (&#x27;cat&#x27;,\n",
       "                                                  Pipeline(steps=[(&#x27;encoder&#x27;,\n",
       "                                                                   OneHotEncoder(handle_unknown=&#x27;ignore&#x27;))]),\n",
       "                                                  &lt;sklearn.compose._column_transformer.make_column_selector object at 0x7feb34c12020&gt;)])),\n",
       "                (&#x27;imputer&#x27;, SimpleImputer(strategy=&#x27;median&#x27;)),\n",
       "                (&#x27;scaler&#x27;, StandardScaler()),\n",
       "                (&#x27;estimator&#x27;, LogisticRegression())])</pre></div></div></div><div class=\"sk-serial\"><div class=\"sk-item\"><div class=\"sk-serial\"><div class=\"sk-item\"><div class=\"sk-estimator sk-toggleable\"><input class=\"sk-toggleable__control sk-hidden--visually\" id=\"sk-estimator-id-3\" type=\"checkbox\" ><label for=\"sk-estimator-id-3\" class=\"sk-toggleable__label sk-toggleable__label-arrow\">RandomUnderSampler</label><div class=\"sk-toggleable__content\"><pre>RandomUnderSampler()</pre></div></div></div><div class=\"sk-item sk-dashed-wrapped\"><div class=\"sk-label-container\"><div class=\"sk-label sk-toggleable\"><input class=\"sk-toggleable__control sk-hidden--visually\" id=\"sk-estimator-id-4\" type=\"checkbox\" ><label for=\"sk-estimator-id-4\" class=\"sk-toggleable__label sk-toggleable__label-arrow\">transformer: ColumnTransformer</label><div class=\"sk-toggleable__content\"><pre>ColumnTransformer(transformers=[(&#x27;num&#x27;,\n",
       "                                 Pipeline(steps=[(&#x27;imputer&#x27;,\n",
       "                                                  SimpleImputer(strategy=&#x27;median&#x27;)),\n",
       "                                                 (&#x27;scaler&#x27;, StandardScaler())]),\n",
       "                                 &lt;sklearn.compose._column_transformer.make_column_selector object at 0x7feb34c11ff0&gt;),\n",
       "                                (&#x27;cat&#x27;,\n",
       "                                 Pipeline(steps=[(&#x27;encoder&#x27;,\n",
       "                                                  OneHotEncoder(handle_unknown=&#x27;ignore&#x27;))]),\n",
       "                                 &lt;sklearn.compose._column_transformer.make_column_selector object at 0x7feb34c12020&gt;)])</pre></div></div></div><div class=\"sk-parallel\"><div class=\"sk-parallel-item\"><div class=\"sk-item\"><div class=\"sk-label-container\"><div class=\"sk-label sk-toggleable\"><input class=\"sk-toggleable__control sk-hidden--visually\" id=\"sk-estimator-id-5\" type=\"checkbox\" ><label for=\"sk-estimator-id-5\" class=\"sk-toggleable__label sk-toggleable__label-arrow\">num</label><div class=\"sk-toggleable__content\"><pre>&lt;sklearn.compose._column_transformer.make_column_selector object at 0x7feb34c11ff0&gt;</pre></div></div></div><div class=\"sk-serial\"><div class=\"sk-item\"><div class=\"sk-serial\"><div class=\"sk-item\"><div class=\"sk-estimator sk-toggleable\"><input class=\"sk-toggleable__control sk-hidden--visually\" id=\"sk-estimator-id-6\" type=\"checkbox\" ><label for=\"sk-estimator-id-6\" class=\"sk-toggleable__label sk-toggleable__label-arrow\">SimpleImputer</label><div class=\"sk-toggleable__content\"><pre>SimpleImputer(strategy=&#x27;median&#x27;)</pre></div></div></div><div class=\"sk-item\"><div class=\"sk-estimator sk-toggleable\"><input class=\"sk-toggleable__control sk-hidden--visually\" id=\"sk-estimator-id-7\" type=\"checkbox\" ><label for=\"sk-estimator-id-7\" class=\"sk-toggleable__label sk-toggleable__label-arrow\">StandardScaler</label><div class=\"sk-toggleable__content\"><pre>StandardScaler()</pre></div></div></div></div></div></div></div></div><div class=\"sk-parallel-item\"><div class=\"sk-item\"><div class=\"sk-label-container\"><div class=\"sk-label sk-toggleable\"><input class=\"sk-toggleable__control sk-hidden--visually\" id=\"sk-estimator-id-8\" type=\"checkbox\" ><label for=\"sk-estimator-id-8\" class=\"sk-toggleable__label sk-toggleable__label-arrow\">cat</label><div class=\"sk-toggleable__content\"><pre>&lt;sklearn.compose._column_transformer.make_column_selector object at 0x7feb34c12020&gt;</pre></div></div></div><div class=\"sk-serial\"><div class=\"sk-item\"><div class=\"sk-serial\"><div class=\"sk-item\"><div class=\"sk-estimator sk-toggleable\"><input class=\"sk-toggleable__control sk-hidden--visually\" id=\"sk-estimator-id-9\" type=\"checkbox\" ><label for=\"sk-estimator-id-9\" class=\"sk-toggleable__label sk-toggleable__label-arrow\">OneHotEncoder</label><div class=\"sk-toggleable__content\"><pre>OneHotEncoder(handle_unknown=&#x27;ignore&#x27;)</pre></div></div></div></div></div></div></div></div></div></div><div class=\"sk-item\"><div class=\"sk-estimator sk-toggleable\"><input class=\"sk-toggleable__control sk-hidden--visually\" id=\"sk-estimator-id-10\" type=\"checkbox\" ><label for=\"sk-estimator-id-10\" class=\"sk-toggleable__label sk-toggleable__label-arrow\">SimpleImputer</label><div class=\"sk-toggleable__content\"><pre>SimpleImputer(strategy=&#x27;median&#x27;)</pre></div></div></div><div class=\"sk-item\"><div class=\"sk-estimator sk-toggleable\"><input class=\"sk-toggleable__control sk-hidden--visually\" id=\"sk-estimator-id-11\" type=\"checkbox\" ><label for=\"sk-estimator-id-11\" class=\"sk-toggleable__label sk-toggleable__label-arrow\">StandardScaler</label><div class=\"sk-toggleable__content\"><pre>StandardScaler()</pre></div></div></div><div class=\"sk-item\"><div class=\"sk-estimator sk-toggleable\"><input class=\"sk-toggleable__control sk-hidden--visually\" id=\"sk-estimator-id-12\" type=\"checkbox\" ><label for=\"sk-estimator-id-12\" class=\"sk-toggleable__label sk-toggleable__label-arrow\">LogisticRegression</label><div class=\"sk-toggleable__content\"><pre>LogisticRegression()</pre></div></div></div></div></div></div></div></div></div></div></div></div>"
      ],
      "text/plain": [
       "GridSearchCV(cv=5,\n",
       "             estimator=Pipeline(steps=[('sampler', RandomUnderSampler()),\n",
       "                                       ('transformer',\n",
       "                                        ColumnTransformer(transformers=[('num',\n",
       "                                                                         Pipeline(steps=[('imputer',\n",
       "                                                                                          SimpleImputer(strategy='median')),\n",
       "                                                                                         ('scaler',\n",
       "                                                                                          StandardScaler())]),\n",
       "                                                                         <sklearn.compose._column_transformer.make_column_selector object at 0x7feb34c11ff0>),\n",
       "                                                                        ('cat',\n",
       "                                                                         Pipeline(steps=[('encoder',\n",
       "                                                                                          OneHotEncoder(handle_unknown='ignore'))]),\n",
       "                                                                         <sklearn.compose._column_transformer.make_column_selector object at 0x7feb34c12020>)])),\n",
       "                                       ('imputer',\n",
       "                                        SimpleImputer(strategy='median')),\n",
       "                                       ('scaler', StandardScaler()),\n",
       "                                       ('estimator', LogisticRegression())]),\n",
       "             n_jobs=-1, param_grid={}, return_train_score=True, scoring='f1',\n",
       "             verbose=1)"
      ]
     },
     "execution_count": 10,
     "metadata": {},
     "output_type": "execute_result"
    }
   ],
   "source": [
    "grid = GridSearchCV(pipeline, param_grid={}, cv=5, scoring='f1', n_jobs=-1, return_train_score=True, verbose=1)\n",
    "grid.fit(X_train, y_train)"
   ]
  },
  {
   "cell_type": "code",
   "execution_count": 11,
   "metadata": {},
   "outputs": [],
   "source": [
    "def resultize(grid):\n",
    "\n",
    "    res  = pd.DataFrame(grid.cv_results_).sort_values(by='rank_test_score').head(5)\n",
    "    columns = [k for k in res.columns  if \"split\" not in k ]\n",
    "    res = res.loc[:, columns].round(2)\n",
    "    return res"
   ]
  },
  {
   "cell_type": "code",
   "execution_count": 12,
   "metadata": {},
   "outputs": [
    {
     "data": {
      "text/html": [
       "<div>\n",
       "<style scoped>\n",
       "    .dataframe tbody tr th:only-of-type {\n",
       "        vertical-align: middle;\n",
       "    }\n",
       "\n",
       "    .dataframe tbody tr th {\n",
       "        vertical-align: top;\n",
       "    }\n",
       "\n",
       "    .dataframe thead th {\n",
       "        text-align: right;\n",
       "    }\n",
       "</style>\n",
       "<table border=\"1\" class=\"dataframe\">\n",
       "  <thead>\n",
       "    <tr style=\"text-align: right;\">\n",
       "      <th></th>\n",
       "      <th>mean_fit_time</th>\n",
       "      <th>std_fit_time</th>\n",
       "      <th>mean_score_time</th>\n",
       "      <th>std_score_time</th>\n",
       "      <th>params</th>\n",
       "      <th>mean_test_score</th>\n",
       "      <th>std_test_score</th>\n",
       "      <th>rank_test_score</th>\n",
       "      <th>mean_train_score</th>\n",
       "      <th>std_train_score</th>\n",
       "    </tr>\n",
       "  </thead>\n",
       "  <tbody>\n",
       "    <tr>\n",
       "      <th>0</th>\n",
       "      <td>0.42</td>\n",
       "      <td>0.04</td>\n",
       "      <td>0.14</td>\n",
       "      <td>0.03</td>\n",
       "      <td>{}</td>\n",
       "      <td>0.2</td>\n",
       "      <td>0.01</td>\n",
       "      <td>1</td>\n",
       "      <td>0.21</td>\n",
       "      <td>0.0</td>\n",
       "    </tr>\n",
       "  </tbody>\n",
       "</table>\n",
       "</div>"
      ],
      "text/plain": [
       "   mean_fit_time  std_fit_time  mean_score_time  std_score_time params  \\\n",
       "0           0.42          0.04             0.14            0.03     {}   \n",
       "\n",
       "   mean_test_score  std_test_score  rank_test_score  mean_train_score  \\\n",
       "0              0.2            0.01                1              0.21   \n",
       "\n",
       "   std_train_score  \n",
       "0              0.0  "
      ]
     },
     "execution_count": 12,
     "metadata": {},
     "output_type": "execute_result"
    }
   ],
   "source": [
    "resultize(grid)"
   ]
  },
  {
   "cell_type": "code",
   "execution_count": 13,
   "metadata": {},
   "outputs": [
    {
     "data": {
      "text/html": [
       "<div>\n",
       "<style scoped>\n",
       "    .dataframe tbody tr th:only-of-type {\n",
       "        vertical-align: middle;\n",
       "    }\n",
       "\n",
       "    .dataframe tbody tr th {\n",
       "        vertical-align: top;\n",
       "    }\n",
       "\n",
       "    .dataframe thead th {\n",
       "        text-align: right;\n",
       "    }\n",
       "</style>\n",
       "<table border=\"1\" class=\"dataframe\">\n",
       "  <thead>\n",
       "    <tr style=\"text-align: right;\">\n",
       "      <th></th>\n",
       "      <th>mean_fit_time</th>\n",
       "      <th>std_fit_time</th>\n",
       "      <th>mean_score_time</th>\n",
       "      <th>std_score_time</th>\n",
       "      <th>params</th>\n",
       "      <th>mean_test_score</th>\n",
       "      <th>std_test_score</th>\n",
       "      <th>rank_test_score</th>\n",
       "    </tr>\n",
       "  </thead>\n",
       "  <tbody>\n",
       "    <tr>\n",
       "      <th>0</th>\n",
       "      <td>0.34</td>\n",
       "      <td>0.06</td>\n",
       "      <td>0.09</td>\n",
       "      <td>0.02</td>\n",
       "      <td>{}</td>\n",
       "      <td>0.2</td>\n",
       "      <td>0.01</td>\n",
       "      <td>1</td>\n",
       "    </tr>\n",
       "  </tbody>\n",
       "</table>\n",
       "</div>"
      ],
      "text/plain": [
       "   mean_fit_time  std_fit_time  mean_score_time  std_score_time params  \\\n",
       "0           0.34          0.06             0.09            0.02     {}   \n",
       "\n",
       "   mean_test_score  std_test_score  rank_test_score  \n",
       "0              0.2            0.01                1  "
      ]
     },
     "execution_count": 13,
     "metadata": {},
     "output_type": "execute_result"
    }
   ],
   "source": []
  },
  {
   "attachments": {},
   "cell_type": "markdown",
   "metadata": {},
   "source": [
    "## First approch"
   ]
  },
  {
   "cell_type": "code",
   "execution_count": 28,
   "metadata": {},
   "outputs": [],
   "source": [
    "def calcul_pnl_one_easy(montant, y_true, y_pred, taux=0.04, default_rate=1):\n",
    "\n",
    "    if y_pred : # ==1\n",
    "        return 0\n",
    "    \n",
    "    if y_true : \n",
    "        return -default_rate * montant\n",
    "\n",
    "    return montant * taux"
   ]
  },
  {
   "cell_type": "code",
   "execution_count": 31,
   "metadata": {},
   "outputs": [
    {
     "data": {
      "text/plain": [
       "4.0"
      ]
     },
     "execution_count": 31,
     "metadata": {},
     "output_type": "execute_result"
    }
   ],
   "source": [
    "calcul_pnl_one_easy(100, 0, 0)"
   ]
  },
  {
   "cell_type": "code",
   "execution_count": 32,
   "metadata": {},
   "outputs": [
    {
     "data": {
      "text/plain": [
       "0"
      ]
     },
     "execution_count": 32,
     "metadata": {},
     "output_type": "execute_result"
    }
   ],
   "source": [
    "calcul_pnl_one_easy(100, 0, 1)"
   ]
  },
  {
   "cell_type": "code",
   "execution_count": 33,
   "metadata": {},
   "outputs": [
    {
     "data": {
      "text/plain": [
       "-100"
      ]
     },
     "execution_count": 33,
     "metadata": {},
     "output_type": "execute_result"
    }
   ],
   "source": [
    "calcul_pnl_one_easy(100, 1, 0)"
   ]
  },
  {
   "cell_type": "code",
   "execution_count": 34,
   "metadata": {},
   "outputs": [
    {
     "data": {
      "text/plain": [
       "0"
      ]
     },
     "execution_count": 34,
     "metadata": {},
     "output_type": "execute_result"
    }
   ],
   "source": [
    "calcul_pnl_one_easy(100, 1, 1)"
   ]
  },
  {
   "cell_type": "code",
   "execution_count": 35,
   "metadata": {},
   "outputs": [
    {
     "data": {
      "text/plain": [
       "array([0, 1, 1, ..., 1, 0, 1])"
      ]
     },
     "execution_count": 35,
     "metadata": {},
     "output_type": "execute_result"
    }
   ],
   "source": [
    "y_pred_list = grid.predict(X_test)\n",
    "y_pred_list "
   ]
  },
  {
   "cell_type": "code",
   "execution_count": 36,
   "metadata": {},
   "outputs": [
    {
     "data": {
      "text/plain": [
       "array([0, 0, 0, ..., 0, 0, 0])"
      ]
     },
     "execution_count": 36,
     "metadata": {},
     "output_type": "execute_result"
    }
   ],
   "source": [
    "y_true_list = y_test.values\n",
    "y_true_list"
   ]
  },
  {
   "cell_type": "code",
   "execution_count": 37,
   "metadata": {},
   "outputs": [
    {
     "data": {
      "text/plain": [
       "array([ 714915.,  521280.,  550467., ..., 1314117.,  315000.,  196677.])"
      ]
     },
     "execution_count": 37,
     "metadata": {},
     "output_type": "execute_result"
    }
   ],
   "source": [
    "montant_list = X_test.loc[:, 'AMT_CREDIT'].values\n",
    "montant_list"
   ]
  },
  {
   "cell_type": "code",
   "execution_count": 40,
   "metadata": {},
   "outputs": [
    {
     "data": {
      "text/plain": [
       "-131095113.66000117"
      ]
     },
     "execution_count": 40,
     "metadata": {},
     "output_type": "execute_result"
    }
   ],
   "source": [
    "v = 0\n",
    "for m, y_true, y_pred in zip(montant_list, y_true_list, y_pred_list):\n",
    "    v += calcul_pnl_one_easy(m, y_true=y_true, y_pred=y_pred)\n",
    "v"
   ]
  },
  {
   "cell_type": "code",
   "execution_count": 42,
   "metadata": {},
   "outputs": [
    {
     "data": {
      "text/plain": [
       "16589585070.0"
      ]
     },
     "execution_count": 42,
     "metadata": {},
     "output_type": "execute_result"
    }
   ],
   "source": [
    "sum(montant_list)"
   ]
  },
  {
   "attachments": {},
   "cell_type": "markdown",
   "metadata": {},
   "source": [
    "## 02 predict proba"
   ]
  },
  {
   "cell_type": "code",
   "execution_count": 43,
   "metadata": {},
   "outputs": [
    {
     "data": {
      "text/plain": [
       "[0.6793,\n",
       " 0.4779,\n",
       " 0.3097,\n",
       " 0.5413,\n",
       " 0.2362,\n",
       " 0.2987,\n",
       " 0.6126,\n",
       " 0.3666,\n",
       " 0.4906,\n",
       " 0.342,\n",
       " 0.4468,\n",
       " 0.5212,\n",
       " 0.799,\n",
       " 0.6959,\n",
       " 0.4648,\n",
       " 0.5055,\n",
       " 0.6026,\n",
       " 0.6651,\n",
       " 0.5615,\n",
       " 0.6404,\n",
       " 0.7119,\n",
       " 0.4338,\n",
       " 0.5417,\n",
       " 0.2971,\n",
       " 0.8705,\n",
       " 0.6669,\n",
       " 0.5291,\n",
       " 0.5503,\n",
       " 0.3561,\n",
       " 0.5309,\n",
       " 0.4948,\n",
       " 0.5296,\n",
       " 0.5481,\n",
       " 0.5353,\n",
       " 0.4589,\n",
       " 0.4632,\n",
       " 0.627,\n",
       " 0.5263,\n",
       " 0.331,\n",
       " 0.4802,\n",
       " 0.4891,\n",
       " 0.4715,\n",
       " 0.6692,\n",
       " 0.5331,\n",
       " 0.7437,\n",
       " 0.4267,\n",
       " 0.4776,\n",
       " 0.8395,\n",
       " 0.4597,\n",
       " 0.3467,\n",
       " 0.7433,\n",
       " 0.4144,\n",
       " 0.384,\n",
       " 0.5359,\n",
       " 0.6246,\n",
       " 0.5389,\n",
       " 0.9202,\n",
       " 0.5361,\n",
       " 0.5113,\n",
       " 0.2729,\n",
       " 0.5912,\n",
       " 0.2598,\n",
       " 0.8082,\n",
       " 0.5214,\n",
       " 0.362,\n",
       " 0.5894,\n",
       " 0.4337,\n",
       " 0.6032,\n",
       " 0.4817,\n",
       " 0.2915,\n",
       " 0.6906,\n",
       " 0.3777,\n",
       " 0.5875,\n",
       " 0.2985,\n",
       " 0.7461,\n",
       " 0.6628,\n",
       " 0.7563,\n",
       " 0.7012,\n",
       " 0.603,\n",
       " 0.431,\n",
       " 0.7493,\n",
       " 0.3158,\n",
       " 0.4519,\n",
       " 0.61,\n",
       " 0.5806,\n",
       " 0.7489,\n",
       " 0.5395,\n",
       " 0.4907,\n",
       " 0.5155,\n",
       " 0.3375,\n",
       " 0.357,\n",
       " 0.6596,\n",
       " 0.3809,\n",
       " 0.4131,\n",
       " 0.4333,\n",
       " 0.7858,\n",
       " 0.5513,\n",
       " 0.275,\n",
       " 0.5101,\n",
       " 0.5536,\n",
       " 0.5697,\n",
       " 0.721,\n",
       " 0.6567,\n",
       " 0.7294,\n",
       " 0.4881,\n",
       " 0.6035,\n",
       " 0.4002,\n",
       " 0.4402,\n",
       " 0.4988,\n",
       " 0.4883,\n",
       " 0.5941,\n",
       " 0.5351,\n",
       " 0.4177,\n",
       " 0.669,\n",
       " 0.7434,\n",
       " 0.3512,\n",
       " 0.4488,\n",
       " 0.5198,\n",
       " 0.6287,\n",
       " 0.3697,\n",
       " 0.5279,\n",
       " 0.6385,\n",
       " 0.3862,\n",
       " 0.6788,\n",
       " 0.7135,\n",
       " 0.5072,\n",
       " 0.2888,\n",
       " 0.5592,\n",
       " 0.6001,\n",
       " 0.3545,\n",
       " 0.6768,\n",
       " 0.5221,\n",
       " 0.3812,\n",
       " 0.3962,\n",
       " 0.4247,\n",
       " 0.4607,\n",
       " 0.5976,\n",
       " 0.4405,\n",
       " 0.7158,\n",
       " 0.506,\n",
       " 0.4485,\n",
       " 0.4441,\n",
       " 0.5257,\n",
       " 0.5718,\n",
       " 0.658,\n",
       " 0.5147,\n",
       " 0.2432,\n",
       " 0.4067,\n",
       " 0.6067,\n",
       " 0.4419,\n",
       " 0.5642,\n",
       " 0.5771,\n",
       " 0.5786,\n",
       " 0.4353,\n",
       " 0.4971,\n",
       " 0.3897,\n",
       " 0.5111,\n",
       " 0.3913,\n",
       " 0.3907,\n",
       " 0.6653,\n",
       " 0.4416,\n",
       " 0.5338,\n",
       " 0.5271,\n",
       " 0.4455,\n",
       " 0.7001,\n",
       " 0.3734,\n",
       " 0.3564,\n",
       " 0.558,\n",
       " 0.6845,\n",
       " 0.4472,\n",
       " 0.5417,\n",
       " 0.2846,\n",
       " 0.5855,\n",
       " 0.5565,\n",
       " 0.2378,\n",
       " 0.6376,\n",
       " 0.4158,\n",
       " 0.4437,\n",
       " 0.6003,\n",
       " 0.7149,\n",
       " 0.4884,\n",
       " 0.527,\n",
       " 0.4359,\n",
       " 0.2864,\n",
       " 0.6481,\n",
       " 0.4569,\n",
       " 0.4933,\n",
       " 0.4197,\n",
       " 0.352,\n",
       " 0.3327,\n",
       " 0.4293,\n",
       " 0.5211,\n",
       " 0.3221,\n",
       " 0.6757,\n",
       " 0.5621,\n",
       " 0.3974,\n",
       " 0.4762,\n",
       " 0.4159,\n",
       " 0.6725,\n",
       " 0.5661,\n",
       " 0.3525,\n",
       " 0.7158,\n",
       " 0.3173,\n",
       " 0.4834,\n",
       " 0.5702,\n",
       " 0.2964,\n",
       " 0.4144,\n",
       " 0.5992,\n",
       " 0.6102,\n",
       " 0.4786,\n",
       " 0.5946,\n",
       " 0.5637,\n",
       " 0.2949,\n",
       " 0.6457,\n",
       " 0.4956,\n",
       " 0.397,\n",
       " 0.7099,\n",
       " 0.4859,\n",
       " 0.5515,\n",
       " 0.5625,\n",
       " 0.197,\n",
       " 0.5007,\n",
       " 0.6308,\n",
       " 0.3976,\n",
       " 0.2376,\n",
       " 0.5974,\n",
       " 0.5943,\n",
       " 0.302,\n",
       " 0.4874,\n",
       " 0.5732,\n",
       " 0.5583,\n",
       " 0.6513,\n",
       " 0.7003,\n",
       " 0.6198,\n",
       " 0.6021,\n",
       " 0.1859,\n",
       " 0.5328,\n",
       " 0.3201,\n",
       " 0.5836,\n",
       " 0.2958,\n",
       " 0.3726,\n",
       " 0.3723,\n",
       " 0.389,\n",
       " 0.4467,\n",
       " 0.7166,\n",
       " 0.7316,\n",
       " 0.6435,\n",
       " 0.3819,\n",
       " 0.3344,\n",
       " 0.5122,\n",
       " 0.7132,\n",
       " 0.6758,\n",
       " 0.734,\n",
       " 0.4413,\n",
       " 0.4915,\n",
       " 0.4752,\n",
       " 0.5895,\n",
       " 0.3765,\n",
       " 0.4729,\n",
       " 0.3845,\n",
       " 0.6106,\n",
       " 0.5554,\n",
       " 0.3694,\n",
       " 0.5716,\n",
       " 0.4194,\n",
       " 0.4445,\n",
       " 0.3643,\n",
       " 0.5837,\n",
       " 0.3278,\n",
       " 0.501,\n",
       " 0.4377,\n",
       " 0.494,\n",
       " 0.315,\n",
       " 0.5175,\n",
       " 0.2472,\n",
       " 0.3697,\n",
       " 0.3749,\n",
       " 0.7179,\n",
       " 0.6466,\n",
       " 0.4906,\n",
       " 0.7069,\n",
       " 0.3046,\n",
       " 0.593,\n",
       " 0.5409,\n",
       " 0.2954,\n",
       " 0.5736,\n",
       " 0.3554,\n",
       " 0.5146,\n",
       " 0.6706,\n",
       " 0.3961,\n",
       " 0.4207,\n",
       " 0.5328,\n",
       " 0.6853,\n",
       " 0.2975,\n",
       " 0.6666,\n",
       " 0.5132,\n",
       " 0.5785,\n",
       " 0.6523,\n",
       " 0.4229,\n",
       " 0.4245,\n",
       " 0.3142,\n",
       " 0.3184,\n",
       " 0.3623,\n",
       " 0.5643,\n",
       " 0.6568,\n",
       " 0.655,\n",
       " 0.254,\n",
       " 0.731,\n",
       " 0.7437,\n",
       " 0.7644,\n",
       " 0.4109,\n",
       " 0.863,\n",
       " 0.5785,\n",
       " 0.4744,\n",
       " 0.83,\n",
       " 0.4611,\n",
       " 0.522,\n",
       " 0.6873,\n",
       " 0.5659,\n",
       " 0.3762,\n",
       " 0.5301,\n",
       " 0.6251,\n",
       " 0.4354,\n",
       " 0.7367,\n",
       " 0.5586,\n",
       " 0.7018,\n",
       " 0.5174,\n",
       " 0.6478,\n",
       " 0.7559,\n",
       " 0.2754,\n",
       " 0.6597,\n",
       " 0.4666,\n",
       " 0.3978,\n",
       " 0.7475,\n",
       " 0.6939,\n",
       " 0.49,\n",
       " 0.4797,\n",
       " 0.3816,\n",
       " 0.6358,\n",
       " 0.4311,\n",
       " 0.6721,\n",
       " 0.7802,\n",
       " 0.6088,\n",
       " 0.3553,\n",
       " 0.4775,\n",
       " 0.6061,\n",
       " 0.5806,\n",
       " 0.3699,\n",
       " 0.6637,\n",
       " 0.4933,\n",
       " 0.288,\n",
       " 0.5587,\n",
       " 0.2713,\n",
       " 0.5195,\n",
       " 0.5865,\n",
       " 0.52,\n",
       " 0.3374,\n",
       " 0.4499,\n",
       " 0.5482,\n",
       " 0.5241,\n",
       " 0.3827,\n",
       " 0.2373,\n",
       " 0.6887,\n",
       " 0.4941,\n",
       " 0.6053,\n",
       " 0.7811,\n",
       " 0.5464,\n",
       " 0.4199,\n",
       " 0.2739,\n",
       " 0.3622,\n",
       " 0.3851,\n",
       " 0.496,\n",
       " 0.6352,\n",
       " 0.4467,\n",
       " 0.5193,\n",
       " 0.6158,\n",
       " 0.6605,\n",
       " 0.5954,\n",
       " 0.7588,\n",
       " 0.4536,\n",
       " 0.7099,\n",
       " 0.7677,\n",
       " 0.6318,\n",
       " 0.5597,\n",
       " 0.6203,\n",
       " 0.4561,\n",
       " 0.3328,\n",
       " 0.4994,\n",
       " 0.3855,\n",
       " 0.382,\n",
       " 0.5992,\n",
       " 0.6422,\n",
       " 0.514,\n",
       " 0.3791,\n",
       " 0.5206,\n",
       " 0.5201,\n",
       " 0.46,\n",
       " 0.856,\n",
       " 0.7974,\n",
       " 0.566,\n",
       " 0.575,\n",
       " 0.6185,\n",
       " 0.803,\n",
       " 0.5557,\n",
       " 0.6255,\n",
       " 0.3318,\n",
       " 0.5781,\n",
       " 0.627,\n",
       " 0.6591,\n",
       " 0.6896,\n",
       " 0.599,\n",
       " 0.6443,\n",
       " 0.4975,\n",
       " 0.5395,\n",
       " 0.824,\n",
       " 0.7617,\n",
       " 0.5765,\n",
       " 0.5609,\n",
       " 0.5608,\n",
       " 0.533,\n",
       " 0.5903,\n",
       " 0.44,\n",
       " 0.515,\n",
       " 0.5059,\n",
       " 0.6734,\n",
       " 0.4245,\n",
       " 0.7165,\n",
       " 0.5333,\n",
       " 0.4947,\n",
       " 0.5842,\n",
       " 0.7476,\n",
       " 0.6061,\n",
       " 0.5683,\n",
       " 0.3903,\n",
       " 0.5067,\n",
       " 0.4301,\n",
       " 0.7478,\n",
       " 0.3915,\n",
       " 0.6882,\n",
       " 0.6388,\n",
       " 0.5826,\n",
       " 0.8057,\n",
       " 0.6473,\n",
       " 0.4625,\n",
       " 0.5756,\n",
       " 0.4657,\n",
       " 0.4507,\n",
       " 0.5906,\n",
       " 0.5545,\n",
       " 0.5124,\n",
       " 0.5096,\n",
       " 0.5499,\n",
       " 0.4345,\n",
       " 0.7496,\n",
       " 0.2708,\n",
       " 0.5529,\n",
       " 0.4689,\n",
       " 0.4237,\n",
       " 0.5082,\n",
       " 0.6906,\n",
       " 0.5867,\n",
       " 0.3317,\n",
       " 0.5949,\n",
       " 0.6026,\n",
       " 0.5671,\n",
       " 0.461,\n",
       " 0.477,\n",
       " 0.6284,\n",
       " 0.5015,\n",
       " 0.483,\n",
       " 0.4178,\n",
       " 0.6606,\n",
       " 0.5391,\n",
       " 0.7839,\n",
       " 0.5466,\n",
       " 0.6068,\n",
       " 0.4716,\n",
       " 0.7249,\n",
       " 0.7174,\n",
       " 0.527,\n",
       " 0.4915,\n",
       " 0.3915,\n",
       " 0.5959,\n",
       " 0.6134,\n",
       " 0.6259,\n",
       " 0.4355,\n",
       " 0.4405,\n",
       " 0.5269,\n",
       " 0.561,\n",
       " 0.5105,\n",
       " 0.4653,\n",
       " 0.7567,\n",
       " 0.5234,\n",
       " 0.5984,\n",
       " 0.6741,\n",
       " 0.445,\n",
       " 0.4348,\n",
       " 0.4542,\n",
       " 0.4389,\n",
       " 0.4191,\n",
       " 0.4298,\n",
       " 0.4824,\n",
       " 0.3622,\n",
       " 0.4616,\n",
       " 0.601,\n",
       " 0.3758,\n",
       " 0.6006,\n",
       " 0.4737,\n",
       " 0.2929,\n",
       " 0.3064,\n",
       " 0.3512,\n",
       " 0.535,\n",
       " 0.3827,\n",
       " 0.661,\n",
       " 0.497,\n",
       " 0.3102,\n",
       " 0.6339,\n",
       " 0.3982,\n",
       " 0.6764,\n",
       " 0.4345,\n",
       " 0.4695,\n",
       " 0.5985,\n",
       " 0.4889,\n",
       " 0.6825,\n",
       " 0.6186,\n",
       " 0.4222,\n",
       " 0.4696,\n",
       " 0.5601,\n",
       " 0.7584,\n",
       " 0.6296,\n",
       " 0.5534,\n",
       " 0.484,\n",
       " 0.4602,\n",
       " 0.3156,\n",
       " 0.426,\n",
       " 0.696,\n",
       " 0.3224,\n",
       " 0.5555,\n",
       " 0.5263,\n",
       " 0.5245,\n",
       " 0.4411,\n",
       " 0.6104,\n",
       " 0.5706,\n",
       " 0.2799,\n",
       " 0.8448,\n",
       " 0.6305,\n",
       " 0.4901,\n",
       " 0.631,\n",
       " 0.6246,\n",
       " 0.4091,\n",
       " 0.5364,\n",
       " 0.7262,\n",
       " 0.4786,\n",
       " 0.3679,\n",
       " 0.6403,\n",
       " 0.474,\n",
       " 0.6551,\n",
       " 0.5623,\n",
       " 0.5296,\n",
       " 0.3864,\n",
       " 0.5463,\n",
       " 0.4668,\n",
       " 0.8196,\n",
       " 0.4949,\n",
       " 0.7846,\n",
       " 0.2985,\n",
       " 0.7098,\n",
       " 0.8782,\n",
       " 0.4191,\n",
       " 0.3184,\n",
       " 0.6579,\n",
       " 0.4886,\n",
       " 0.528,\n",
       " 0.6413,\n",
       " 0.7204,\n",
       " 0.5157,\n",
       " 0.4292,\n",
       " 0.5763,\n",
       " 0.5848,\n",
       " 0.5122,\n",
       " 0.7096,\n",
       " 0.8016,\n",
       " 0.63,\n",
       " 0.5068,\n",
       " 0.6715,\n",
       " 0.8321,\n",
       " 0.6058,\n",
       " 0.7044,\n",
       " 0.3668,\n",
       " 0.6607,\n",
       " 0.538,\n",
       " 0.5734,\n",
       " 0.7847,\n",
       " 0.847,\n",
       " 0.4345,\n",
       " 0.3346,\n",
       " 0.6148,\n",
       " 0.4545,\n",
       " 0.5814,\n",
       " 0.7596,\n",
       " 0.6905,\n",
       " 0.5772,\n",
       " 0.6218,\n",
       " 0.4419,\n",
       " 0.6536,\n",
       " 0.4751,\n",
       " 0.6417,\n",
       " 0.2923,\n",
       " 0.5432,\n",
       " 0.5505,\n",
       " 0.4357,\n",
       " 0.8042,\n",
       " 0.6183,\n",
       " 0.4043,\n",
       " 0.3237,\n",
       " 0.5595,\n",
       " 0.6679,\n",
       " 0.6596,\n",
       " 0.3372,\n",
       " 0.5572,\n",
       " 0.4311,\n",
       " 0.7482,\n",
       " 0.4322,\n",
       " 0.3964,\n",
       " 0.4298,\n",
       " 0.3663,\n",
       " 0.7263,\n",
       " 0.7741,\n",
       " 0.7107,\n",
       " 0.6765,\n",
       " 0.6577,\n",
       " 0.3666,\n",
       " 0.2613,\n",
       " 0.4803,\n",
       " 0.6182,\n",
       " 0.4007,\n",
       " 0.2981,\n",
       " 0.4269,\n",
       " 0.2816,\n",
       " 0.4534,\n",
       " 0.3975,\n",
       " 0.5462,\n",
       " 0.5188,\n",
       " 0.6929,\n",
       " 0.2488,\n",
       " 0.4768,\n",
       " 0.2001,\n",
       " 0.5648,\n",
       " 0.5454,\n",
       " 0.4369,\n",
       " 0.6209,\n",
       " 0.7089,\n",
       " 0.667,\n",
       " 0.636,\n",
       " 0.4541,\n",
       " 0.4037,\n",
       " 0.4711,\n",
       " 0.5942,\n",
       " 0.5721,\n",
       " 0.5752,\n",
       " 0.5567,\n",
       " 0.4888,\n",
       " 0.7497,\n",
       " 0.321,\n",
       " 0.5968,\n",
       " 0.4029,\n",
       " 0.6327,\n",
       " 0.6469,\n",
       " 0.5589,\n",
       " 0.4472,\n",
       " 0.7648,\n",
       " 0.3774,\n",
       " 0.4541,\n",
       " 0.4391,\n",
       " 0.5058,\n",
       " 0.3654,\n",
       " 0.4044,\n",
       " 0.5562,\n",
       " 0.4319,\n",
       " 0.6648,\n",
       " 0.4117,\n",
       " 0.6244,\n",
       " 0.3805,\n",
       " 0.7239,\n",
       " 0.4751,\n",
       " 0.4364,\n",
       " 0.5558,\n",
       " 0.3408,\n",
       " 0.4331,\n",
       " 0.5692,\n",
       " 0.4572,\n",
       " 0.5664,\n",
       " 0.4658,\n",
       " 0.6576,\n",
       " 0.4353,\n",
       " 0.6979,\n",
       " 0.7517,\n",
       " 0.6258,\n",
       " 0.5631,\n",
       " 0.4505,\n",
       " 0.4066,\n",
       " 0.3327,\n",
       " 0.5524,\n",
       " 0.3772,\n",
       " 0.5153,\n",
       " 0.3087,\n",
       " 0.5501,\n",
       " 0.4548,\n",
       " 0.7047,\n",
       " 0.4591,\n",
       " 0.2785,\n",
       " 0.6612,\n",
       " 0.845,\n",
       " 0.446,\n",
       " 0.572,\n",
       " 0.6526,\n",
       " 0.3527,\n",
       " 0.6821,\n",
       " 0.7714,\n",
       " 0.5441,\n",
       " 0.4298,\n",
       " 0.3716,\n",
       " 0.6546,\n",
       " 0.4205,\n",
       " 0.2489,\n",
       " 0.548,\n",
       " 0.7861,\n",
       " 0.4001,\n",
       " 0.5081,\n",
       " 0.5946,\n",
       " 0.5553,\n",
       " 0.7127,\n",
       " 0.3601,\n",
       " 0.793,\n",
       " 0.6305,\n",
       " 0.6241,\n",
       " 0.5981,\n",
       " 0.7787,\n",
       " 0.4304,\n",
       " 0.6817,\n",
       " 0.4839,\n",
       " 0.4018,\n",
       " 0.7694,\n",
       " 0.3972,\n",
       " 0.5736,\n",
       " 0.4559,\n",
       " 0.4507,\n",
       " 0.3067,\n",
       " 0.2801,\n",
       " 0.4996,\n",
       " 0.5843,\n",
       " 0.6325,\n",
       " 0.6078,\n",
       " 0.3273,\n",
       " 0.5874,\n",
       " 0.4334,\n",
       " 0.6486,\n",
       " 0.4908,\n",
       " 0.665,\n",
       " 0.5567,\n",
       " 0.4346,\n",
       " 0.3861,\n",
       " 0.5877,\n",
       " 0.5371,\n",
       " 0.5146,\n",
       " 0.6126,\n",
       " 0.7157,\n",
       " 0.7036,\n",
       " 0.3184,\n",
       " 0.4197,\n",
       " 0.5737,\n",
       " 0.4974,\n",
       " 0.7899,\n",
       " 0.5527,\n",
       " 0.4304,\n",
       " 0.4944,\n",
       " 0.6078,\n",
       " 0.5699,\n",
       " 0.8038,\n",
       " 0.6092,\n",
       " 0.7807,\n",
       " 0.445,\n",
       " 0.6128,\n",
       " 0.3555,\n",
       " 0.6442,\n",
       " 0.3169,\n",
       " 0.3487,\n",
       " 0.2993,\n",
       " 0.4898,\n",
       " 0.8034,\n",
       " 0.5924,\n",
       " 0.664,\n",
       " 0.3905,\n",
       " 0.5537,\n",
       " 0.6776,\n",
       " 0.6897,\n",
       " 0.6705,\n",
       " 0.7912,\n",
       " 0.6672,\n",
       " 0.5276,\n",
       " 0.7581,\n",
       " 0.565,\n",
       " 0.6257,\n",
       " 0.3831,\n",
       " 0.6158,\n",
       " 0.3772,\n",
       " 0.5291,\n",
       " 0.2674,\n",
       " 0.5611,\n",
       " 0.4215,\n",
       " 0.421,\n",
       " 0.5761,\n",
       " 0.4976,\n",
       " 0.5536,\n",
       " 0.8313,\n",
       " 0.5558,\n",
       " 0.6165,\n",
       " 0.6713,\n",
       " 0.6545,\n",
       " 0.5858,\n",
       " 0.2284,\n",
       " 0.4847,\n",
       " 0.3533,\n",
       " 0.763,\n",
       " 0.6667,\n",
       " 0.6983,\n",
       " 0.5595,\n",
       " 0.5994,\n",
       " 0.3896,\n",
       " 0.5746,\n",
       " 0.477,\n",
       " 0.4927,\n",
       " 0.4832,\n",
       " 0.8458,\n",
       " 0.2738,\n",
       " 0.7064,\n",
       " 0.4541,\n",
       " 0.7117,\n",
       " 0.3423,\n",
       " 0.4904,\n",
       " 0.445,\n",
       " 0.725,\n",
       " 0.663,\n",
       " 0.5411,\n",
       " 0.5685,\n",
       " 0.3918,\n",
       " 0.8107,\n",
       " 0.7349,\n",
       " 0.4871,\n",
       " 0.6355,\n",
       " 0.5694,\n",
       " 0.3865,\n",
       " 0.569,\n",
       " 0.5569,\n",
       " 0.4318,\n",
       " 0.5523,\n",
       " 0.4323,\n",
       " 0.7135,\n",
       " 0.5938,\n",
       " 0.4525,\n",
       " 0.5192,\n",
       " 0.3495,\n",
       " 0.6041,\n",
       " 0.5941,\n",
       " 0.5341,\n",
       " 0.2283,\n",
       " 0.4152,\n",
       " 0.4464,\n",
       " 0.5479,\n",
       " 0.6354,\n",
       " 0.4874,\n",
       " 0.2956,\n",
       " 0.5251,\n",
       " 0.3844,\n",
       " 0.2992,\n",
       " 0.4874,\n",
       " 0.5314,\n",
       " 0.551,\n",
       " 0.4191,\n",
       " 0.3853,\n",
       " 0.2136,\n",
       " 0.6576,\n",
       " 0.721,\n",
       " 0.6897,\n",
       " 0.6763,\n",
       " 0.5455,\n",
       " 0.4377,\n",
       " 0.6681,\n",
       " 0.4386,\n",
       " 0.7368,\n",
       " 0.7059,\n",
       " 0.7239,\n",
       " 0.5365,\n",
       " 0.5903,\n",
       " 0.454,\n",
       " 0.5039,\n",
       " 0.4022,\n",
       " 0.7205,\n",
       " 0.5372,\n",
       " 0.5405,\n",
       " 0.6272,\n",
       " 0.3022,\n",
       " 0.4395,\n",
       " 0.347,\n",
       " 0.4076,\n",
       " 0.745,\n",
       " 0.2262,\n",
       " 0.4341,\n",
       " 0.5651,\n",
       " 0.6352,\n",
       " 0.5458,\n",
       " 0.5957,\n",
       " 0.3767,\n",
       " 0.4233,\n",
       " 0.5279,\n",
       " 0.5326,\n",
       " 0.7314,\n",
       " 0.4274,\n",
       " 0.8527,\n",
       " 0.7083,\n",
       " 0.7912,\n",
       " 0.3012,\n",
       " 0.5066,\n",
       " 0.8496,\n",
       " 0.7377,\n",
       " 0.6581,\n",
       " 0.4822,\n",
       " 0.5141,\n",
       " 0.4569,\n",
       " 0.6008,\n",
       " 0.5769,\n",
       " 0.3789,\n",
       " 0.2681,\n",
       " 0.4868,\n",
       " 0.3889,\n",
       " 0.6211,\n",
       " 0.6344,\n",
       " 0.625,\n",
       " 0.6701,\n",
       " 0.6395,\n",
       " 0.5912,\n",
       " 0.3557,\n",
       " 0.7224,\n",
       " 0.5199,\n",
       " 0.6611,\n",
       " 0.5551,\n",
       " 0.4365,\n",
       " 0.3898,\n",
       " 0.5779,\n",
       " 0.5837,\n",
       " 0.4227,\n",
       " 0.5539,\n",
       " 0.5994,\n",
       " 0.6095,\n",
       " 0.2358,\n",
       " 0.3347,\n",
       " 0.3102,\n",
       " 0.5934,\n",
       " 0.3676,\n",
       " 0.3802,\n",
       " 0.3179,\n",
       " 0.4652,\n",
       " 0.4677,\n",
       " 0.8475,\n",
       " 0.2684,\n",
       " 0.7081,\n",
       " 0.2498,\n",
       " 0.5187,\n",
       " 0.4601,\n",
       " 0.7788,\n",
       " 0.6985,\n",
       " 0.4608,\n",
       " 0.3755,\n",
       " 0.6425,\n",
       " 0.6191,\n",
       " 0.5362,\n",
       " 0.6095,\n",
       " 0.5158,\n",
       " 0.4726,\n",
       " 0.3922,\n",
       " 0.4386,\n",
       " 0.5692,\n",
       " 0.4407,\n",
       " 0.5718,\n",
       " 0.4468,\n",
       " 0.4213,\n",
       " 0.6334,\n",
       " 0.5493,\n",
       " 0.7333,\n",
       " 0.8036,\n",
       " 0.3003,\n",
       " 0.3265,\n",
       " 0.3969,\n",
       " 0.5987,\n",
       " 0.462,\n",
       " 0.4925,\n",
       " 0.5842,\n",
       " 0.5899,\n",
       " 0.4663,\n",
       " 0.6293,\n",
       " ...]"
      ]
     },
     "execution_count": 43,
     "metadata": {},
     "output_type": "execute_result"
    }
   ],
   "source": [
    "y_pred_proba_list = grid.predict_proba(X_test)\n",
    "y_pred_proba_list = list(y_pred_proba_list[ :, 0])\n",
    "y_pred_proba_list = [round(x, 4) for x in y_pred_proba_list]\n",
    "y_pred_proba_list"
   ]
  },
  {
   "cell_type": "code",
   "execution_count": 73,
   "metadata": {},
   "outputs": [],
   "source": [
    "def calcul_pnl_one_complexe(montant, \n",
    "                            y_true, \n",
    "                            y_pred_proba, \n",
    "                            taux=0.04, \n",
    "                            default_rate=0.25, \n",
    "                            threshold=0.5, ):\n",
    "\n",
    "\n",
    "    y_pred = 0 if y_pred_proba > threshold else 1\n",
    "\n",
    "    if y_pred : \n",
    "        return 0\n",
    "    \n",
    "    if y_true :\n",
    "        return -default_rate* montant\n",
    "\n",
    "    return montant * taux"
   ]
  },
  {
   "cell_type": "code",
   "execution_count": 74,
   "metadata": {},
   "outputs": [
    {
     "data": {
      "text/plain": [
       "263280848.35499728"
      ]
     },
     "execution_count": 74,
     "metadata": {},
     "output_type": "execute_result"
    }
   ],
   "source": [
    "v = 0\n",
    "for m, y_true, y_pred_proba in zip(montant_list, y_true_list, y_pred_proba_list):\n",
    "    v += calcul_pnl_one_complexe(m, y_true=y_true, y_pred_proba=y_pred_proba)\n",
    "v"
   ]
  },
  {
   "cell_type": "code",
   "execution_count": 75,
   "metadata": {},
   "outputs": [
    {
     "data": {
      "text/plain": [
       "303680259.8549948"
      ]
     },
     "execution_count": 75,
     "metadata": {},
     "output_type": "execute_result"
    }
   ],
   "source": [
    "v = 0\n",
    "for m, y_true, y_pred_proba in zip(montant_list, y_true_list, y_pred_proba_list):\n",
    "    v += calcul_pnl_one_complexe(m, y_true=y_true, y_pred_proba=y_pred_proba,threshold=0.0)\n",
    "v"
   ]
  },
  {
   "cell_type": "code",
   "execution_count": 76,
   "metadata": {},
   "outputs": [
    {
     "data": {
      "text/plain": [
       "0"
      ]
     },
     "execution_count": 76,
     "metadata": {},
     "output_type": "execute_result"
    }
   ],
   "source": [
    "v = 0\n",
    "for m, y_true, y_pred_proba in zip(montant_list, y_true_list, y_pred_proba_list):\n",
    "    v += calcul_pnl_one_complexe(m, y_true=y_true, y_pred_proba=y_pred_proba,threshold=1)\n",
    "v"
   ]
  },
  {
   "cell_type": "code",
   "execution_count": 77,
   "metadata": {},
   "outputs": [],
   "source": [
    "threshold_list = np.linspace(0, 1, 100)\n",
    "pnl_list = []\n",
    "\n",
    "for threshold in threshold_list:\n",
    "    v = 0\n",
    "    for m, y_true, y_pred_proba in zip(montant_list, y_true_list, y_pred_proba_list):\n",
    "        v += calcul_pnl_one_complexe(m, y_true=y_true, y_pred_proba=y_pred_proba,threshold=threshold)\n",
    "    pnl_list.append(v)"
   ]
  },
  {
   "cell_type": "code",
   "execution_count": 78,
   "metadata": {},
   "outputs": [
    {
     "data": {
      "text/plain": [
       "[<matplotlib.lines.Line2D at 0x7feb4285e3b0>]"
      ]
     },
     "execution_count": 78,
     "metadata": {},
     "output_type": "execute_result"
    },
    {
     "data": {
      "image/png": "[encoded data removed]",
      "text/plain": [
       "<Figure size 640x480 with 1 Axes>"
      ]
     },
     "metadata": {},
     "output_type": "display_data"
    }
   ],
   "source": [
    "plt.plot(threshold_list, pnl_list)"
   ]
  },
  {
   "cell_type": "code",
   "execution_count": 79,
   "metadata": {},
   "outputs": [
    {
     "data": {
      "application/vnd.plotly.v1+json": {
       "config": {
        "plotlyServerURL": "https://plot.ly"
       },
       "data": [
        {
         "hovertemplate": "x=%{x}<br>y=%{y}<extra></extra>",
         "legendgroup": "",
         "line": {
          "color": "#636efa",
          "dash": "solid"
         },
         "marker": {
          "symbol": "circle"
         },
         "mode": "lines",
         "name": "",
         "orientation": "v",
         "showlegend": false,
         "type": "scatter",
         "x": [
          0,
          0.010101010101010102,
          0.020202020202020204,
          0.030303030303030304,
          0.04040404040404041,
          0.05050505050505051,
          0.06060606060606061,
          0.07070707070707072,
          0.08080808080808081,
          0.09090909090909091,
          0.10101010101010102,
          0.11111111111111112,
          0.12121212121212122,
          0.13131313131313133,
          0.14141414141414144,
          0.15151515151515152,
          0.16161616161616163,
          0.17171717171717174,
          0.18181818181818182,
          0.19191919191919193,
          0.20202020202020204,
          0.21212121212121213,
          0.22222222222222224,
          0.23232323232323235,
          0.24242424242424243,
          0.25252525252525254,
          0.26262626262626265,
          0.27272727272727276,
          0.2828282828282829,
          0.29292929292929293,
          0.30303030303030304,
          0.31313131313131315,
          0.32323232323232326,
          0.33333333333333337,
          0.3434343434343435,
          0.3535353535353536,
          0.36363636363636365,
          0.37373737373737376,
          0.38383838383838387,
          0.393939393939394,
          0.4040404040404041,
          0.4141414141414142,
          0.42424242424242425,
          0.43434343434343436,
          0.4444444444444445,
          0.4545454545454546,
          0.4646464646464647,
          0.4747474747474748,
          0.48484848484848486,
          0.494949494949495,
          0.5050505050505051,
          0.5151515151515152,
          0.5252525252525253,
          0.5353535353535354,
          0.5454545454545455,
          0.5555555555555556,
          0.5656565656565657,
          0.5757575757575758,
          0.5858585858585859,
          0.595959595959596,
          0.6060606060606061,
          0.6161616161616162,
          0.6262626262626263,
          0.6363636363636365,
          0.6464646464646465,
          0.6565656565656566,
          0.6666666666666667,
          0.6767676767676768,
          0.686868686868687,
          0.696969696969697,
          0.7070707070707072,
          0.7171717171717172,
          0.7272727272727273,
          0.7373737373737375,
          0.7474747474747475,
          0.7575757575757577,
          0.7676767676767677,
          0.7777777777777778,
          0.787878787878788,
          0.797979797979798,
          0.8080808080808082,
          0.8181818181818182,
          0.8282828282828284,
          0.8383838383838385,
          0.8484848484848485,
          0.8585858585858587,
          0.8686868686868687,
          0.8787878787878789,
          0.888888888888889,
          0.8989898989898991,
          0.9090909090909092,
          0.9191919191919192,
          0.9292929292929294,
          0.9393939393939394,
          0.9494949494949496,
          0.9595959595959597,
          0.9696969696969697,
          0.9797979797979799,
          0.98989898989899,
          1
         ],
         "xaxis": "x",
         "y": [
          303680259.8549948,
          303823134.8549949,
          303823134.8549949,
          303823134.8549949,
          303823134.8549949,
          303823134.8549949,
          303823134.8549949,
          303823134.8549949,
          303823134.8549949,
          303823134.8549949,
          303823134.8549949,
          303823134.8549949,
          303823134.8549949,
          303801681.73499477,
          303801681.73499477,
          304074372.5549948,
          304693150.6349948,
          304655696.23499495,
          304631018.95499504,
          304867407.82499474,
          306167633.32499504,
          306673600.769995,
          307136623.0049949,
          307061786.06999505,
          307625994.719995,
          308243858.08499473,
          311322362.17499465,
          312173007.029995,
          313383266.14499503,
          313935444.0899952,
          315521718.56999516,
          316657240.1549952,
          316924710.2549951,
          318949825.9949954,
          317931329.24999535,
          316953722.6099952,
          317859807.4649951,
          316044718.7399954,
          317437598.2049956,
          316547428.3649957,
          314126805.73499596,
          312047981.2799962,
          308602905.5699964,
          304497786.1049965,
          301048869.1049968,
          295642972.9349966,
          287908953.16499704,
          281076001.2449973,
          274176980.05499667,
          267447071.42999718,
          260379834.97499737,
          254279605.90499723,
          246252984.20999742,
          236915201.20499745,
          227584144.43999782,
          219504238.19999814,
          209463474.05999845,
          200440736.7299989,
          191582318.38499895,
          180840062.20499912,
          169127569.97999898,
          157816019.24999925,
          146627155.0799996,
          136082059.3349997,
          126830096.36999956,
          116993400.38999982,
          105112557.62999994,
          94962457.16999993,
          85996885.05000004,
          76934853.85500006,
          69777965.385,
          62369390.79,
          56077294.50000003,
          49830883.380000025,
          43835570.28000002,
          37216058.39999999,
          31218806.78999999,
          26679589.559999987,
          21966811.200000007,
          18089166.96000001,
          13875458.76,
          12563764.380000003,
          11220414.480000002,
          9971763.66,
          8667622.62,
          6209716.679999999,
          5063352.4799999995,
          3679127.46,
          2859329.52,
          2138455.44,
          1611076.32,
          1339025.76,
          945900,
          881100,
          216900,
          162000,
          0,
          0,
          0,
          0
         ],
         "yaxis": "y"
        }
       ],
       "layout": {
        "legend": {
         "tracegroupgap": 0
        },
        "margin": {
         "t": 60
        },
        "template": {
         "data": {
          "bar": [
           {
            "error_x": {
             "color": "#2a3f5f"
            },
            "error_y": {
             "color": "#2a3f5f"
            },
            "marker": {
             "line": {
              "color": "#E5ECF6",
              "width": 0.5
             },
             "pattern": {
              "fillmode": "overlay",
              "size": 10,
              "solidity": 0.2
             }
            },
            "type": "bar"
           }
          ],
          "barpolar": [
           {
            "marker": {
             "line": {
              "color": "#E5ECF6",
              "width": 0.5
             },
             "pattern": {
              "fillmode": "overlay",
              "size": 10,
              "solidity": 0.2
             }
            },
            "type": "barpolar"
           }
          ],
          "carpet": [
           {
            "aaxis": {
             "endlinecolor": "#2a3f5f",
             "gridcolor": "white",
             "linecolor": "white",
             "minorgridcolor": "white",
             "startlinecolor": "#2a3f5f"
            },
            "baxis": {
             "endlinecolor": "#2a3f5f",
             "gridcolor": "white",
             "linecolor": "white",
             "minorgridcolor": "white",
             "startlinecolor": "#2a3f5f"
            },
            "type": "carpet"
           }
          ],
          "choropleth": [
           {
            "colorbar": {
             "outlinewidth": 0,
             "ticks": ""
            },
            "type": "choropleth"
           }
          ],
          "contour": [
           {
            "colorbar": {
             "outlinewidth": 0,
             "ticks": ""
            },
            "colorscale": [
             [
              0,
              "#0d0887"
             ],
             [
              0.1111111111111111,
              "#46039f"
             ],
             [
              0.2222222222222222,
              "#7201a8"
             ],
             [
              0.3333333333333333,
              "#9c179e"
             ],
             [
              0.4444444444444444,
              "#bd3786"
             ],
             [
              0.5555555555555556,
              "#d8576b"
             ],
             [
              0.6666666666666666,
              "#ed7953"
             ],
             [
              0.7777777777777778,
              "#fb9f3a"
             ],
             [
              0.8888888888888888,
              "#fdca26"
             ],
             [
              1,
              "#f0f921"
             ]
            ],
            "type": "contour"
           }
          ],
          "contourcarpet": [
           {
            "colorbar": {
             "outlinewidth": 0,
             "ticks": ""
            },
            "type": "contourcarpet"
           }
          ],
          "heatmap": [
           {
            "colorbar": {
             "outlinewidth": 0,
             "ticks": ""
            },
            "colorscale": [
             [
              0,
              "#0d0887"
             ],
             [
              0.1111111111111111,
              "#46039f"
             ],
             [
              0.2222222222222222,
              "#7201a8"
             ],
             [
              0.3333333333333333,
              "#9c179e"
             ],
             [
              0.4444444444444444,
              "#bd3786"
             ],
             [
              0.5555555555555556,
              "#d8576b"
             ],
             [
              0.6666666666666666,
              "#ed7953"
             ],
             [
              0.7777777777777778,
              "#fb9f3a"
             ],
             [
              0.8888888888888888,
              "#fdca26"
             ],
             [
              1,
              "#f0f921"
             ]
            ],
            "type": "heatmap"
           }
          ],
          "heatmapgl": [
           {
            "colorbar": {
             "outlinewidth": 0,
             "ticks": ""
            },
            "colorscale": [
             [
              0,
              "#0d0887"
             ],
             [
              0.1111111111111111,
              "#46039f"
             ],
             [
              0.2222222222222222,
              "#7201a8"
             ],
             [
              0.3333333333333333,
              "#9c179e"
             ],
             [
              0.4444444444444444,
              "#bd3786"
             ],
             [
              0.5555555555555556,
              "#d8576b"
             ],
             [
              0.6666666666666666,
              "#ed7953"
             ],
             [
              0.7777777777777778,
              "#fb9f3a"
             ],
             [
              0.8888888888888888,
              "#fdca26"
             ],
             [
              1,
              "#f0f921"
             ]
            ],
            "type": "heatmapgl"
           }
          ],
          "histogram": [
           {
            "marker": {
             "pattern": {
              "fillmode": "overlay",
              "size": 10,
              "solidity": 0.2
             }
            },
            "type": "histogram"
           }
          ],
          "histogram2d": [
           {
            "colorbar": {
             "outlinewidth": 0,
             "ticks": ""
            },
            "colorscale": [
             [
              0,
              "#0d0887"
             ],
             [
              0.1111111111111111,
              "#46039f"
             ],
             [
              0.2222222222222222,
              "#7201a8"
             ],
             [
              0.3333333333333333,
              "#9c179e"
             ],
             [
              0.4444444444444444,
              "#bd3786"
             ],
             [
              0.5555555555555556,
              "#d8576b"
             ],
             [
              0.6666666666666666,
              "#ed7953"
             ],
             [
              0.7777777777777778,
              "#fb9f3a"
             ],
             [
              0.8888888888888888,
              "#fdca26"
             ],
             [
              1,
              "#f0f921"
             ]
            ],
            "type": "histogram2d"
           }
          ],
          "histogram2dcontour": [
           {
            "colorbar": {
             "outlinewidth": 0,
             "ticks": ""
            },
            "colorscale": [
             [
              0,
              "#0d0887"
             ],
             [
              0.1111111111111111,
              "#46039f"
             ],
             [
              0.2222222222222222,
              "#7201a8"
             ],
             [
              0.3333333333333333,
              "#9c179e"
             ],
             [
              0.4444444444444444,
              "#bd3786"
             ],
             [
              0.5555555555555556,
              "#d8576b"
             ],
             [
              0.6666666666666666,
              "#ed7953"
             ],
             [
              0.7777777777777778,
              "#fb9f3a"
             ],
             [
              0.8888888888888888,
              "#fdca26"
             ],
             [
              1,
              "#f0f921"
             ]
            ],
            "type": "histogram2dcontour"
           }
          ],
          "mesh3d": [
           {
            "colorbar": {
             "outlinewidth": 0,
             "ticks": ""
            },
            "type": "mesh3d"
           }
          ],
          "parcoords": [
           {
            "line": {
             "colorbar": {
              "outlinewidth": 0,
              "ticks": ""
             }
            },
            "type": "parcoords"
           }
          ],
          "pie": [
           {
            "automargin": true,
            "type": "pie"
           }
          ],
          "scatter": [
           {
            "fillpattern": {
             "fillmode": "overlay",
             "size": 10,
             "solidity": 0.2
            },
            "type": "scatter"
           }
          ],
          "scatter3d": [
           {
            "line": {
             "colorbar": {
              "outlinewidth": 0,
              "ticks": ""
             }
            },
            "marker": {
             "colorbar": {
              "outlinewidth": 0,
              "ticks": ""
             }
            },
            "type": "scatter3d"
           }
          ],
          "scattercarpet": [
           {
            "marker": {
             "colorbar": {
              "outlinewidth": 0,
              "ticks": ""
             }
            },
            "type": "scattercarpet"
           }
          ],
          "scattergeo": [
           {
            "marker": {
             "colorbar": {
              "outlinewidth": 0,
              "ticks": ""
             }
            },
            "type": "scattergeo"
           }
          ],
          "scattergl": [
           {
            "marker": {
             "colorbar": {
              "outlinewidth": 0,
              "ticks": ""
             }
            },
            "type": "scattergl"
           }
          ],
          "scattermapbox": [
           {
            "marker": {
             "colorbar": {
              "outlinewidth": 0,
              "ticks": ""
             }
            },
            "type": "scattermapbox"
           }
          ],
          "scatterpolar": [
           {
            "marker": {
             "colorbar": {
              "outlinewidth": 0,
              "ticks": ""
             }
            },
            "type": "scatterpolar"
           }
          ],
          "scatterpolargl": [
           {
            "marker": {
             "colorbar": {
              "outlinewidth": 0,
              "ticks": ""
             }
            },
            "type": "scatterpolargl"
           }
          ],
          "scatterternary": [
           {
            "marker": {
             "colorbar": {
              "outlinewidth": 0,
              "ticks": ""
             }
            },
            "type": "scatterternary"
           }
          ],
          "surface": [
           {
            "colorbar": {
             "outlinewidth": 0,
             "ticks": ""
            },
            "colorscale": [
             [
              0,
              "#0d0887"
             ],
             [
              0.1111111111111111,
              "#46039f"
             ],
             [
              0.2222222222222222,
              "#7201a8"
             ],
             [
              0.3333333333333333,
              "#9c179e"
             ],
             [
              0.4444444444444444,
              "#bd3786"
             ],
             [
              0.5555555555555556,
              "#d8576b"
             ],
             [
              0.6666666666666666,
              "#ed7953"
             ],
             [
              0.7777777777777778,
              "#fb9f3a"
             ],
             [
              0.8888888888888888,
              "#fdca26"
             ],
             [
              1,
              "#f0f921"
             ]
            ],
            "type": "surface"
           }
          ],
          "table": [
           {
            "cells": {
             "fill": {
              "color": "#EBF0F8"
             },
             "line": {
              "color": "white"
             }
            },
            "header": {
             "fill": {
              "color": "#C8D4E3"
             },
             "line": {
              "color": "white"
             }
            },
            "type": "table"
           }
          ]
         },
         "layout": {
          "annotationdefaults": {
           "arrowcolor": "#2a3f5f",
           "arrowhead": 0,
           "arrowwidth": 1
          },
          "autotypenumbers": "strict",
          "coloraxis": {
           "colorbar": {
            "outlinewidth": 0,
            "ticks": ""
           }
          },
          "colorscale": {
           "diverging": [
            [
             0,
             "#8e0152"
            ],
            [
             0.1,
             "#c51b7d"
            ],
            [
             0.2,
             "#de77ae"
            ],
            [
             0.3,
             "#f1b6da"
            ],
            [
             0.4,
             "#fde0ef"
            ],
            [
             0.5,
             "#f7f7f7"
            ],
            [
             0.6,
             "#e6f5d0"
            ],
            [
             0.7,
             "#b8e186"
            ],
            [
             0.8,
             "#7fbc41"
            ],
            [
             0.9,
             "#4d9221"
            ],
            [
             1,
             "#276419"
            ]
           ],
           "sequential": [
            [
             0,
             "#0d0887"
            ],
            [
             0.1111111111111111,
             "#46039f"
            ],
            [
             0.2222222222222222,
             "#7201a8"
            ],
            [
             0.3333333333333333,
             "#9c179e"
            ],
            [
             0.4444444444444444,
             "#bd3786"
            ],
            [
             0.5555555555555556,
             "#d8576b"
            ],
            [
             0.6666666666666666,
             "#ed7953"
            ],
            [
             0.7777777777777778,
             "#fb9f3a"
            ],
            [
             0.8888888888888888,
             "#fdca26"
            ],
            [
             1,
             "#f0f921"
            ]
           ],
           "sequentialminus": [
            [
             0,
             "#0d0887"
            ],
            [
             0.1111111111111111,
             "#46039f"
            ],
            [
             0.2222222222222222,
             "#7201a8"
            ],
            [
             0.3333333333333333,
             "#9c179e"
            ],
            [
             0.4444444444444444,
             "#bd3786"
            ],
            [
             0.5555555555555556,
             "#d8576b"
            ],
            [
             0.6666666666666666,
             "#ed7953"
            ],
            [
             0.7777777777777778,
             "#fb9f3a"
            ],
            [
             0.8888888888888888,
             "#fdca26"
            ],
            [
             1,
             "#f0f921"
            ]
           ]
          },
          "colorway": [
           "#636efa",
           "#EF553B",
           "#00cc96",
           "#ab63fa",
           "#FFA15A",
           "#19d3f3",
           "#FF6692",
           "#B6E880",
           "#FF97FF",
           "#FECB52"
          ],
          "font": {
           "color": "#2a3f5f"
          },
          "geo": {
           "bgcolor": "white",
           "lakecolor": "white",
           "landcolor": "#E5ECF6",
           "showlakes": true,
           "showland": true,
           "subunitcolor": "white"
          },
          "hoverlabel": {
           "align": "left"
          },
          "hovermode": "closest",
          "mapbox": {
           "style": "light"
          },
          "paper_bgcolor": "white",
          "plot_bgcolor": "#E5ECF6",
          "polar": {
           "angularaxis": {
            "gridcolor": "white",
            "linecolor": "white",
            "ticks": ""
           },
           "bgcolor": "#E5ECF6",
           "radialaxis": {
            "gridcolor": "white",
            "linecolor": "white",
            "ticks": ""
           }
          },
          "scene": {
           "xaxis": {
            "backgroundcolor": "#E5ECF6",
            "gridcolor": "white",
            "gridwidth": 2,
            "linecolor": "white",
            "showbackground": true,
            "ticks": "",
            "zerolinecolor": "white"
           },
           "yaxis": {
            "backgroundcolor": "#E5ECF6",
            "gridcolor": "white",
            "gridwidth": 2,
            "linecolor": "white",
            "showbackground": true,
            "ticks": "",
            "zerolinecolor": "white"
           },
           "zaxis": {
            "backgroundcolor": "#E5ECF6",
            "gridcolor": "white",
            "gridwidth": 2,
            "linecolor": "white",
            "showbackground": true,
            "ticks": "",
            "zerolinecolor": "white"
           }
          },
          "shapedefaults": {
           "line": {
            "color": "#2a3f5f"
           }
          },
          "ternary": {
           "aaxis": {
            "gridcolor": "white",
            "linecolor": "white",
            "ticks": ""
           },
           "baxis": {
            "gridcolor": "white",
            "linecolor": "white",
            "ticks": ""
           },
           "bgcolor": "#E5ECF6",
           "caxis": {
            "gridcolor": "white",
            "linecolor": "white",
            "ticks": ""
           }
          },
          "title": {
           "x": 0.05
          },
          "xaxis": {
           "automargin": true,
           "gridcolor": "white",
           "linecolor": "white",
           "ticks": "",
           "title": {
            "standoff": 15
           },
           "zerolinecolor": "white",
           "zerolinewidth": 2
          },
          "yaxis": {
           "automargin": true,
           "gridcolor": "white",
           "linecolor": "white",
           "ticks": "",
           "title": {
            "standoff": 15
           },
           "zerolinecolor": "white",
           "zerolinewidth": 2
          }
         }
        },
        "xaxis": {
         "anchor": "y",
         "domain": [
          0,
          1
         ],
         "title": {
          "text": "x"
         }
        },
        "yaxis": {
         "anchor": "x",
         "domain": [
          0,
          1
         ],
         "title": {
          "text": "y"
         }
        }
       }
      }
     },
     "metadata": {},
     "output_type": "display_data"
    }
   ],
   "source": [
    "import plotly.express as px\n",
    "\n",
    "\n",
    "px.line(x=threshold_list, y=pnl_list)"
   ]
  },
  {
   "cell_type": "code",
   "execution_count": null,
   "metadata": {},
   "outputs": [],
   "source": []
  },
  {
   "attachments": {},
   "cell_type": "markdown",
   "metadata": {},
   "source": [
    "## 03 With Good price"
   ]
  },
  {
   "cell_type": "code",
   "execution_count": 113,
   "metadata": {},
   "outputs": [],
   "source": [
    "def calcul_pnl_one_goods(montant, \n",
    "                         good_price,\n",
    "                            y_true, \n",
    "                            y_pred_proba, \n",
    "                            taux=0.03, \n",
    "                            loss_goods_rate=0.3,\n",
    "                            threshold=0.5, ):\n",
    "\n",
    "\n",
    "    y_pred = 0 if y_pred_proba > threshold else 1\n",
    "\n",
    "    if y_pred : \n",
    "        return 0\n",
    "    \n",
    "    if y_true :\n",
    "        value = (good_price * (1-loss_goods_rate)) -  montant\n",
    "        return  value if value < 0 else 0\n",
    "\n",
    "    return montant * taux"
   ]
  },
  {
   "cell_type": "code",
   "execution_count": 114,
   "metadata": {},
   "outputs": [
    {
     "data": {
      "text/plain": [
       "Index(['TARGET', 'NAME_CONTRACT_TYPE', 'CODE_GENDER', 'FLAG_OWN_CAR',\n",
       "       'FLAG_OWN_REALTY', 'CNT_CHILDREN', 'AMT_INCOME_TOTAL', 'AMT_CREDIT',\n",
       "       'AMT_ANNUITY', 'AMT_GOODS_PRICE', 'NAME_TYPE_SUITE', 'NAME_INCOME_TYPE',\n",
       "       'NAME_EDUCATION_TYPE', 'NAME_FAMILY_STATUS', 'NAME_HOUSING_TYPE',\n",
       "       'REGION_POPULATION_RELATIVE', 'DAYS_BIRTH', 'DAYS_EMPLOYED',\n",
       "       'DAYS_REGISTRATION'],\n",
       "      dtype='object')"
      ]
     },
     "execution_count": 114,
     "metadata": {},
     "output_type": "execute_result"
    }
   ],
   "source": [
    "data.columns"
   ]
  },
  {
   "cell_type": "code",
   "execution_count": 115,
   "metadata": {},
   "outputs": [
    {
     "data": {
      "text/plain": [
       "array([ 639000.,  450000.,  387000., ..., 1147500.,  315000.,  184500.])"
      ]
     },
     "execution_count": 115,
     "metadata": {},
     "output_type": "execute_result"
    }
   ],
   "source": [
    "goods_list = X_test.loc[:, 'AMT_GOODS_PRICE'].values\n",
    "goods_list"
   ]
  },
  {
   "cell_type": "code",
   "execution_count": 116,
   "metadata": {},
   "outputs": [],
   "source": [
    "threshold_list = np.linspace(0, 1, 100)\n",
    "pnl_list = []\n",
    "\n",
    "for threshold in threshold_list:\n",
    "    v = 0\n",
    "    for m, g, y_true, y_pred_proba in zip(montant_list, goods_list, y_true_list, y_pred_proba_list):\n",
    "        v += calcul_pnl_one_goods(m, g, y_true=y_true, y_pred_proba=y_pred_proba,threshold=threshold)\n",
    "    pnl_list.append(v)"
   ]
  },
  {
   "cell_type": "code",
   "execution_count": 117,
   "metadata": {},
   "outputs": [
    {
     "data": {
      "application/vnd.plotly.v1+json": {
       "config": {
        "plotlyServerURL": "https://plot.ly"
       },
       "data": [
        {
         "hovertemplate": "x=%{x}<br>y=%{y}<extra></extra>",
         "legendgroup": "",
         "line": {
          "color": "#636efa",
          "dash": "solid"
         },
         "marker": {
          "symbol": "circle"
         },
         "mode": "lines",
         "name": "",
         "orientation": "v",
         "showlegend": false,
         "type": "scatter",
         "x": [
          0,
          0.010101010101010102,
          0.020202020202020204,
          0.030303030303030304,
          0.04040404040404041,
          0.05050505050505051,
          0.06060606060606061,
          0.07070707070707072,
          0.08080808080808081,
          0.09090909090909091,
          0.10101010101010102,
          0.11111111111111112,
          0.12121212121212122,
          0.13131313131313133,
          0.14141414141414144,
          0.15151515151515152,
          0.16161616161616163,
          0.17171717171717174,
          0.18181818181818182,
          0.19191919191919193,
          0.20202020202020204,
          0.21212121212121213,
          0.22222222222222224,
          0.23232323232323235,
          0.24242424242424243,
          0.25252525252525254,
          0.26262626262626265,
          0.27272727272727276,
          0.2828282828282829,
          0.29292929292929293,
          0.30303030303030304,
          0.31313131313131315,
          0.32323232323232326,
          0.33333333333333337,
          0.3434343434343435,
          0.3535353535353536,
          0.36363636363636365,
          0.37373737373737376,
          0.38383838383838387,
          0.393939393939394,
          0.4040404040404041,
          0.4141414141414142,
          0.42424242424242425,
          0.43434343434343436,
          0.4444444444444445,
          0.4545454545454546,
          0.4646464646464647,
          0.4747474747474748,
          0.48484848484848486,
          0.494949494949495,
          0.5050505050505051,
          0.5151515151515152,
          0.5252525252525253,
          0.5353535353535354,
          0.5454545454545455,
          0.5555555555555556,
          0.5656565656565657,
          0.5757575757575758,
          0.5858585858585859,
          0.595959595959596,
          0.6060606060606061,
          0.6161616161616162,
          0.6262626262626263,
          0.6363636363636365,
          0.6464646464646465,
          0.6565656565656566,
          0.6666666666666667,
          0.6767676767676768,
          0.686868686868687,
          0.696969696969697,
          0.7070707070707072,
          0.7171717171717172,
          0.7272727272727273,
          0.7373737373737375,
          0.7474747474747475,
          0.7575757575757577,
          0.7676767676767677,
          0.7777777777777778,
          0.787878787878788,
          0.797979797979798,
          0.8080808080808082,
          0.8181818181818182,
          0.8282828282828284,
          0.8383838383838385,
          0.8484848484848485,
          0.8585858585858587,
          0.8686868686868687,
          0.8787878787878789,
          0.888888888888889,
          0.8989898989898991,
          0.9090909090909092,
          0.9191919191919192,
          0.9292929292929294,
          0.9393939393939394,
          0.9494949494949496,
          0.9595959595959597,
          0.9696969696969697,
          0.9797979797979799,
          0.98989898989899,
          1
         ],
         "xaxis": "x",
         "y": [
          -21292815.465000298,
          -21121365.465000305,
          -21121365.465000305,
          -21121365.465000305,
          -21121365.465000305,
          -21121365.465000305,
          -21121365.465000305,
          -21121365.465000305,
          -21121365.465000305,
          -21121365.465000305,
          -21121365.465000305,
          -21121365.465000305,
          -21121365.465000305,
          -21137455.305000298,
          -21137455.305000298,
          -20571424.065000318,
          -19306385.505000215,
          -19334476.30500025,
          -19147919.26500022,
          -18096661.800000176,
          -15576054.300000101,
          -14144117.310000008,
          -12720044.78999998,
          -12000173.084999977,
          -10089734.534999987,
          -7305960.1049999725,
          50172.52500004623,
          3729564.1350001404,
          8264164.815000217,
          12630465.180000016,
          19142236.664999858,
          25217588.38499987,
          30306929.984999683,
          39325707.53999969,
          43476756.07499971,
          47624190.34499969,
          56180391.47999975,
          60774613.15499976,
          71015479.78499962,
          77345515.52999969,
          82758972.86999969,
          88216282.48499975,
          92717440.51499994,
          96087744.13499992,
          101587593.51000024,
          104178321.94500022,
          103112255.43000017,
          104217930.99000004,
          105346876.41000004,
          107924376.05999994,
          108743856.75000001,
          111138468.88500012,
          110655103.77000019,
          108892396.48500016,
          106846413.2550002,
          106242237.44999994,
          103071743.81999992,
          102199736.38499984,
          100540405.84499995,
          96687016.33499993,
          91141417.25999995,
          86367543.7499999,
          80822046.0599999,
          75966716.96999994,
          72016369.96499996,
          67467147.47999994,
          60274859.53499995,
          54542350.43999997,
          50057286.97499997,
          44788579.10999997,
          40983991.69499996,
          37531770.02999999,
          34473901.499999985,
          31083243.659999985,
          27661645.70999999,
          23390345.924999997,
          19402884.404999994,
          16606942.92,
          13330647.900000004,
          11028058.469999999,
          8271258.57,
          7885369.034999999,
          7321669.109999999,
          7068760.245,
          6455154.465000001,
          4657287.51,
          3797514.3599999994,
          2759345.5949999997,
          2144497.1399999997,
          1603841.5799999998,
          1208307.2399999998,
          1004269.32,
          709425,
          660825,
          162675,
          121500,
          0,
          0,
          0,
          0
         ],
         "yaxis": "y"
        }
       ],
       "layout": {
        "legend": {
         "tracegroupgap": 0
        },
        "margin": {
         "t": 60
        },
        "template": {
         "data": {
          "bar": [
           {
            "error_x": {
             "color": "#2a3f5f"
            },
            "error_y": {
             "color": "#2a3f5f"
            },
            "marker": {
             "line": {
              "color": "#E5ECF6",
              "width": 0.5
             },
             "pattern": {
              "fillmode": "overlay",
              "size": 10,
              "solidity": 0.2
             }
            },
            "type": "bar"
           }
          ],
          "barpolar": [
           {
            "marker": {
             "line": {
              "color": "#E5ECF6",
              "width": 0.5
             },
             "pattern": {
              "fillmode": "overlay",
              "size": 10,
              "solidity": 0.2
             }
            },
            "type": "barpolar"
           }
          ],
          "carpet": [
           {
            "aaxis": {
             "endlinecolor": "#2a3f5f",
             "gridcolor": "white",
             "linecolor": "white",
             "minorgridcolor": "white",
             "startlinecolor": "#2a3f5f"
            },
            "baxis": {
             "endlinecolor": "#2a3f5f",
             "gridcolor": "white",
             "linecolor": "white",
             "minorgridcolor": "white",
             "startlinecolor": "#2a3f5f"
            },
            "type": "carpet"
           }
          ],
          "choropleth": [
           {
            "colorbar": {
             "outlinewidth": 0,
             "ticks": ""
            },
            "type": "choropleth"
           }
          ],
          "contour": [
           {
            "colorbar": {
             "outlinewidth": 0,
             "ticks": ""
            },
            "colorscale": [
             [
              0,
              "#0d0887"
             ],
             [
              0.1111111111111111,
              "#46039f"
             ],
             [
              0.2222222222222222,
              "#7201a8"
             ],
             [
              0.3333333333333333,
              "#9c179e"
             ],
             [
              0.4444444444444444,
              "#bd3786"
             ],
             [
              0.5555555555555556,
              "#d8576b"
             ],
             [
              0.6666666666666666,
              "#ed7953"
             ],
             [
              0.7777777777777778,
              "#fb9f3a"
             ],
             [
              0.8888888888888888,
              "#fdca26"
             ],
             [
              1,
              "#f0f921"
             ]
            ],
            "type": "contour"
           }
          ],
          "contourcarpet": [
           {
            "colorbar": {
             "outlinewidth": 0,
             "ticks": ""
            },
            "type": "contourcarpet"
           }
          ],
          "heatmap": [
           {
            "colorbar": {
             "outlinewidth": 0,
             "ticks": ""
            },
            "colorscale": [
             [
              0,
              "#0d0887"
             ],
             [
              0.1111111111111111,
              "#46039f"
             ],
             [
              0.2222222222222222,
              "#7201a8"
             ],
             [
              0.3333333333333333,
              "#9c179e"
             ],
             [
              0.4444444444444444,
              "#bd3786"
             ],
             [
              0.5555555555555556,
              "#d8576b"
             ],
             [
              0.6666666666666666,
              "#ed7953"
             ],
             [
              0.7777777777777778,
              "#fb9f3a"
             ],
             [
              0.8888888888888888,
              "#fdca26"
             ],
             [
              1,
              "#f0f921"
             ]
            ],
            "type": "heatmap"
           }
          ],
          "heatmapgl": [
           {
            "colorbar": {
             "outlinewidth": 0,
             "ticks": ""
            },
            "colorscale": [
             [
              0,
              "#0d0887"
             ],
             [
              0.1111111111111111,
              "#46039f"
             ],
             [
              0.2222222222222222,
              "#7201a8"
             ],
             [
              0.3333333333333333,
              "#9c179e"
             ],
             [
              0.4444444444444444,
              "#bd3786"
             ],
             [
              0.5555555555555556,
              "#d8576b"
             ],
             [
              0.6666666666666666,
              "#ed7953"
             ],
             [
              0.7777777777777778,
              "#fb9f3a"
             ],
             [
              0.8888888888888888,
              "#fdca26"
             ],
             [
              1,
              "#f0f921"
             ]
            ],
            "type": "heatmapgl"
           }
          ],
          "histogram": [
           {
            "marker": {
             "pattern": {
              "fillmode": "overlay",
              "size": 10,
              "solidity": 0.2
             }
            },
            "type": "histogram"
           }
          ],
          "histogram2d": [
           {
            "colorbar": {
             "outlinewidth": 0,
             "ticks": ""
            },
            "colorscale": [
             [
              0,
              "#0d0887"
             ],
             [
              0.1111111111111111,
              "#46039f"
             ],
             [
              0.2222222222222222,
              "#7201a8"
             ],
             [
              0.3333333333333333,
              "#9c179e"
             ],
             [
              0.4444444444444444,
              "#bd3786"
             ],
             [
              0.5555555555555556,
              "#d8576b"
             ],
             [
              0.6666666666666666,
              "#ed7953"
             ],
             [
              0.7777777777777778,
              "#fb9f3a"
             ],
             [
              0.8888888888888888,
              "#fdca26"
             ],
             [
              1,
              "#f0f921"
             ]
            ],
            "type": "histogram2d"
           }
          ],
          "histogram2dcontour": [
           {
            "colorbar": {
             "outlinewidth": 0,
             "ticks": ""
            },
            "colorscale": [
             [
              0,
              "#0d0887"
             ],
             [
              0.1111111111111111,
              "#46039f"
             ],
             [
              0.2222222222222222,
              "#7201a8"
             ],
             [
              0.3333333333333333,
              "#9c179e"
             ],
             [
              0.4444444444444444,
              "#bd3786"
             ],
             [
              0.5555555555555556,
              "#d8576b"
             ],
             [
              0.6666666666666666,
              "#ed7953"
             ],
             [
              0.7777777777777778,
              "#fb9f3a"
             ],
             [
              0.8888888888888888,
              "#fdca26"
             ],
             [
              1,
              "#f0f921"
             ]
            ],
            "type": "histogram2dcontour"
           }
          ],
          "mesh3d": [
           {
            "colorbar": {
             "outlinewidth": 0,
             "ticks": ""
            },
            "type": "mesh3d"
           }
          ],
          "parcoords": [
           {
            "line": {
             "colorbar": {
              "outlinewidth": 0,
              "ticks": ""
             }
            },
            "type": "parcoords"
           }
          ],
          "pie": [
           {
            "automargin": true,
            "type": "pie"
           }
          ],
          "scatter": [
           {
            "fillpattern": {
             "fillmode": "overlay",
             "size": 10,
             "solidity": 0.2
            },
            "type": "scatter"
           }
          ],
          "scatter3d": [
           {
            "line": {
             "colorbar": {
              "outlinewidth": 0,
              "ticks": ""
             }
            },
            "marker": {
             "colorbar": {
              "outlinewidth": 0,
              "ticks": ""
             }
            },
            "type": "scatter3d"
           }
          ],
          "scattercarpet": [
           {
            "marker": {
             "colorbar": {
              "outlinewidth": 0,
              "ticks": ""
             }
            },
            "type": "scattercarpet"
           }
          ],
          "scattergeo": [
           {
            "marker": {
             "colorbar": {
              "outlinewidth": 0,
              "ticks": ""
             }
            },
            "type": "scattergeo"
           }
          ],
          "scattergl": [
           {
            "marker": {
             "colorbar": {
              "outlinewidth": 0,
              "ticks": ""
             }
            },
            "type": "scattergl"
           }
          ],
          "scattermapbox": [
           {
            "marker": {
             "colorbar": {
              "outlinewidth": 0,
              "ticks": ""
             }
            },
            "type": "scattermapbox"
           }
          ],
          "scatterpolar": [
           {
            "marker": {
             "colorbar": {
              "outlinewidth": 0,
              "ticks": ""
             }
            },
            "type": "scatterpolar"
           }
          ],
          "scatterpolargl": [
           {
            "marker": {
             "colorbar": {
              "outlinewidth": 0,
              "ticks": ""
             }
            },
            "type": "scatterpolargl"
           }
          ],
          "scatterternary": [
           {
            "marker": {
             "colorbar": {
              "outlinewidth": 0,
              "ticks": ""
             }
            },
            "type": "scatterternary"
           }
          ],
          "surface": [
           {
            "colorbar": {
             "outlinewidth": 0,
             "ticks": ""
            },
            "colorscale": [
             [
              0,
              "#0d0887"
             ],
             [
              0.1111111111111111,
              "#46039f"
             ],
             [
              0.2222222222222222,
              "#7201a8"
             ],
             [
              0.3333333333333333,
              "#9c179e"
             ],
             [
              0.4444444444444444,
              "#bd3786"
             ],
             [
              0.5555555555555556,
              "#d8576b"
             ],
             [
              0.6666666666666666,
              "#ed7953"
             ],
             [
              0.7777777777777778,
              "#fb9f3a"
             ],
             [
              0.8888888888888888,
              "#fdca26"
             ],
             [
              1,
              "#f0f921"
             ]
            ],
            "type": "surface"
           }
          ],
          "table": [
           {
            "cells": {
             "fill": {
              "color": "#EBF0F8"
             },
             "line": {
              "color": "white"
             }
            },
            "header": {
             "fill": {
              "color": "#C8D4E3"
             },
             "line": {
              "color": "white"
             }
            },
            "type": "table"
           }
          ]
         },
         "layout": {
          "annotationdefaults": {
           "arrowcolor": "#2a3f5f",
           "arrowhead": 0,
           "arrowwidth": 1
          },
          "autotypenumbers": "strict",
          "coloraxis": {
           "colorbar": {
            "outlinewidth": 0,
            "ticks": ""
           }
          },
          "colorscale": {
           "diverging": [
            [
             0,
             "#8e0152"
            ],
            [
             0.1,
             "#c51b7d"
            ],
            [
             0.2,
             "#de77ae"
            ],
            [
             0.3,
             "#f1b6da"
            ],
            [
             0.4,
             "#fde0ef"
            ],
            [
             0.5,
             "#f7f7f7"
            ],
            [
             0.6,
             "#e6f5d0"
            ],
            [
             0.7,
             "#b8e186"
            ],
            [
             0.8,
             "#7fbc41"
            ],
            [
             0.9,
             "#4d9221"
            ],
            [
             1,
             "#276419"
            ]
           ],
           "sequential": [
            [
             0,
             "#0d0887"
            ],
            [
             0.1111111111111111,
             "#46039f"
            ],
            [
             0.2222222222222222,
             "#7201a8"
            ],
            [
             0.3333333333333333,
             "#9c179e"
            ],
            [
             0.4444444444444444,
             "#bd3786"
            ],
            [
             0.5555555555555556,
             "#d8576b"
            ],
            [
             0.6666666666666666,
             "#ed7953"
            ],
            [
             0.7777777777777778,
             "#fb9f3a"
            ],
            [
             0.8888888888888888,
             "#fdca26"
            ],
            [
             1,
             "#f0f921"
            ]
           ],
           "sequentialminus": [
            [
             0,
             "#0d0887"
            ],
            [
             0.1111111111111111,
             "#46039f"
            ],
            [
             0.2222222222222222,
             "#7201a8"
            ],
            [
             0.3333333333333333,
             "#9c179e"
            ],
            [
             0.4444444444444444,
             "#bd3786"
            ],
            [
             0.5555555555555556,
             "#d8576b"
            ],
            [
             0.6666666666666666,
             "#ed7953"
            ],
            [
             0.7777777777777778,
             "#fb9f3a"
            ],
            [
             0.8888888888888888,
             "#fdca26"
            ],
            [
             1,
             "#f0f921"
            ]
           ]
          },
          "colorway": [
           "#636efa",
           "#EF553B",
           "#00cc96",
           "#ab63fa",
           "#FFA15A",
           "#19d3f3",
           "#FF6692",
           "#B6E880",
           "#FF97FF",
           "#FECB52"
          ],
          "font": {
           "color": "#2a3f5f"
          },
          "geo": {
           "bgcolor": "white",
           "lakecolor": "white",
           "landcolor": "#E5ECF6",
           "showlakes": true,
           "showland": true,
           "subunitcolor": "white"
          },
          "hoverlabel": {
           "align": "left"
          },
          "hovermode": "closest",
          "mapbox": {
           "style": "light"
          },
          "paper_bgcolor": "white",
          "plot_bgcolor": "#E5ECF6",
          "polar": {
           "angularaxis": {
            "gridcolor": "white",
            "linecolor": "white",
            "ticks": ""
           },
           "bgcolor": "#E5ECF6",
           "radialaxis": {
            "gridcolor": "white",
            "linecolor": "white",
            "ticks": ""
           }
          },
          "scene": {
           "xaxis": {
            "backgroundcolor": "#E5ECF6",
            "gridcolor": "white",
            "gridwidth": 2,
            "linecolor": "white",
            "showbackground": true,
            "ticks": "",
            "zerolinecolor": "white"
           },
           "yaxis": {
            "backgroundcolor": "#E5ECF6",
            "gridcolor": "white",
            "gridwidth": 2,
            "linecolor": "white",
            "showbackground": true,
            "ticks": "",
            "zerolinecolor": "white"
           },
           "zaxis": {
            "backgroundcolor": "#E5ECF6",
            "gridcolor": "white",
            "gridwidth": 2,
            "linecolor": "white",
            "showbackground": true,
            "ticks": "",
            "zerolinecolor": "white"
           }
          },
          "shapedefaults": {
           "line": {
            "color": "#2a3f5f"
           }
          },
          "ternary": {
           "aaxis": {
            "gridcolor": "white",
            "linecolor": "white",
            "ticks": ""
           },
           "baxis": {
            "gridcolor": "white",
            "linecolor": "white",
            "ticks": ""
           },
           "bgcolor": "#E5ECF6",
           "caxis": {
            "gridcolor": "white",
            "linecolor": "white",
            "ticks": ""
           }
          },
          "title": {
           "x": 0.05
          },
          "xaxis": {
           "automargin": true,
           "gridcolor": "white",
           "linecolor": "white",
           "ticks": "",
           "title": {
            "standoff": 15
           },
           "zerolinecolor": "white",
           "zerolinewidth": 2
          },
          "yaxis": {
           "automargin": true,
           "gridcolor": "white",
           "linecolor": "white",
           "ticks": "",
           "title": {
            "standoff": 15
           },
           "zerolinecolor": "white",
           "zerolinewidth": 2
          }
         }
        },
        "xaxis": {
         "anchor": "y",
         "domain": [
          0,
          1
         ],
         "title": {
          "text": "x"
         }
        },
        "yaxis": {
         "anchor": "x",
         "domain": [
          0,
          1
         ],
         "title": {
          "text": "y"
         }
        }
       }
      }
     },
     "metadata": {},
     "output_type": "display_data"
    }
   ],
   "source": [
    "import plotly.express as px\n",
    "\n",
    "\n",
    "px.line(x=threshold_list, y=pnl_list)"
   ]
  }
 ],
 "metadata": {
  "kernelspec": {
   "display_name": ".venv",
   "language": "python",
   "name": "python3"
  },
  "language_info": {
   "codemirror_mode": {
    "name": "ipython",
    "version": 3
   },
   "file_extension": ".py",
   "mimetype": "text/x-python",
   "name": "python",
   "nbconvert_exporter": "python",
   "pygments_lexer": "ipython3",
   "version": "3.10.9"
  },
  "orig_nbformat": 4,
  "vscode": {
   "interpreter": {
    "hash": "183ab2bd8ccec9812d3d1ae406a19b0ed92e91740169522ae38a3ff77e860e4c"
   }
  }
 },
 "nbformat": 4,
 "nbformat_minor": 2
}
