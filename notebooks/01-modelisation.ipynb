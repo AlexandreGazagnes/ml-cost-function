{
 "cells": [
  {
   "cell_type": "code",
   "execution_count": 1,
   "metadata": {},
   "outputs": [
    {
     "name": "stdout",
     "output_type": "stream",
     "text": [
      "/tmp/ml-cost-function\n"
     ]
    },
    {
     "name": "stderr",
     "output_type": "stream",
     "text": [
      "/tmp/ml-cost-function/.venv/lib/python3.10/site-packages/IPython/core/magics/osm.py:417: UserWarning: using dhist requires you to install the `pickleshare` library.\n",
      "  self.shell.db['dhist'] = compress_dhist(dhist)[-100:]\n"
     ]
    }
   ],
   "source": [
    "cd .."
   ]
  },
  {
   "cell_type": "code",
   "execution_count": 4,
   "metadata": {},
   "outputs": [],
   "source": [
    "import pandas as pd\n",
    "import numpy as np\n",
    "import matplotlib.pyplot as plt\n",
    "import seaborn as sns\n",
    "import pickle\n",
    "import os\n",
    "\n",
    "from sklearn.model_selection import *\n",
    "from sklearn.metrics import *\n",
    "from sklearn.preprocessing import *\n",
    "from sklearn.linear_model import *\n",
    "from sklearn.ensemble import *\n",
    "from sklearn.pipeline import Pipeline\n",
    "from sklearn.compose import ColumnTransformer\n",
    "from sklearn.impute import SimpleImputer\n",
    "from sklearn.model_selection import GridSearchCV\n",
    "\n",
    "from sklearn.compose import * \n",
    "from sklearn.preprocessing import *\n",
    "from sklearn.feature_extraction import * \n",
    "from sklearn.feature_selection import *\n",
    "\n",
    "from sklearn.compose import ColumnTransformer\n",
    "from sklearn.datasets import fetch_openml\n",
    "from sklearn.feature_selection import SelectPercentile, chi2\n",
    "from sklearn.impute import SimpleImputer\n",
    "from sklearn.linear_model import LogisticRegression\n",
    "from sklearn.model_selection import RandomizedSearchCV, train_test_split\n",
    "from sklearn.preprocessing import OneHotEncoder, StandardScaler\n",
    "from sklearn.pipeline import Pipeline\n",
    "\n",
    "from imblearn.under_sampling import RandomUnderSampler\n",
    "from imblearn.pipeline import Pipeline as Pipeline"
   ]
  },
  {
   "cell_type": "code",
   "execution_count": 7,
   "metadata": {},
   "outputs": [
    {
     "data": {
      "text/html": [
       "<div>\n",
       "<style scoped>\n",
       "    .dataframe tbody tr th:only-of-type {\n",
       "        vertical-align: middle;\n",
       "    }\n",
       "\n",
       "    .dataframe tbody tr th {\n",
       "        vertical-align: top;\n",
       "    }\n",
       "\n",
       "    .dataframe thead th {\n",
       "        text-align: right;\n",
       "    }\n",
       "</style>\n",
       "<table border=\"1\" class=\"dataframe\">\n",
       "  <thead>\n",
       "    <tr style=\"text-align: right;\">\n",
       "      <th></th>\n",
       "      <th>TARGET</th>\n",
       "      <th>NAME_CONTRACT_TYPE</th>\n",
       "      <th>CODE_GENDER</th>\n",
       "      <th>FLAG_OWN_CAR</th>\n",
       "      <th>FLAG_OWN_REALTY</th>\n",
       "      <th>CNT_CHILDREN</th>\n",
       "      <th>AMT_INCOME_TOTAL</th>\n",
       "      <th>AMT_CREDIT</th>\n",
       "      <th>AMT_ANNUITY</th>\n",
       "      <th>AMT_GOODS_PRICE</th>\n",
       "      <th>...</th>\n",
       "      <th>FLAG_EMAIL</th>\n",
       "      <th>OCCUPATION_TYPE</th>\n",
       "      <th>CNT_FAM_MEMBERS</th>\n",
       "      <th>FLAG_DOCUMENT_2</th>\n",
       "      <th>FLAG_DOCUMENT_3</th>\n",
       "      <th>FLAG_DOCUMENT_4</th>\n",
       "      <th>FLAG_DOCUMENT_5</th>\n",
       "      <th>EXT_SOURCE_1</th>\n",
       "      <th>EXT_SOURCE_2</th>\n",
       "      <th>EXT_SOURCE_3</th>\n",
       "    </tr>\n",
       "  </thead>\n",
       "  <tbody>\n",
       "    <tr>\n",
       "      <th>0</th>\n",
       "      <td>0</td>\n",
       "      <td>Cash loans</td>\n",
       "      <td>F</td>\n",
       "      <td>N</td>\n",
       "      <td>N</td>\n",
       "      <td>0</td>\n",
       "      <td>103500.0</td>\n",
       "      <td>625536.0</td>\n",
       "      <td>26631.0</td>\n",
       "      <td>540000.0</td>\n",
       "      <td>...</td>\n",
       "      <td>0</td>\n",
       "      <td>NaN</td>\n",
       "      <td>1.0</td>\n",
       "      <td>0</td>\n",
       "      <td>1</td>\n",
       "      <td>0</td>\n",
       "      <td>0</td>\n",
       "      <td>NaN</td>\n",
       "      <td>0.694</td>\n",
       "      <td>0.479</td>\n",
       "    </tr>\n",
       "    <tr>\n",
       "      <th>1</th>\n",
       "      <td>0</td>\n",
       "      <td>Revolving loans</td>\n",
       "      <td>M</td>\n",
       "      <td>Y</td>\n",
       "      <td>Y</td>\n",
       "      <td>0</td>\n",
       "      <td>202500.0</td>\n",
       "      <td>292500.0</td>\n",
       "      <td>14625.0</td>\n",
       "      <td>292500.0</td>\n",
       "      <td>...</td>\n",
       "      <td>0</td>\n",
       "      <td>Sales staff</td>\n",
       "      <td>1.0</td>\n",
       "      <td>0</td>\n",
       "      <td>0</td>\n",
       "      <td>0</td>\n",
       "      <td>0</td>\n",
       "      <td>NaN</td>\n",
       "      <td>0.492</td>\n",
       "      <td>0.262</td>\n",
       "    </tr>\n",
       "    <tr>\n",
       "      <th>2</th>\n",
       "      <td>0</td>\n",
       "      <td>Cash loans</td>\n",
       "      <td>F</td>\n",
       "      <td>Y</td>\n",
       "      <td>Y</td>\n",
       "      <td>0</td>\n",
       "      <td>247500.0</td>\n",
       "      <td>1442596.5</td>\n",
       "      <td>46665.0</td>\n",
       "      <td>1129500.0</td>\n",
       "      <td>...</td>\n",
       "      <td>0</td>\n",
       "      <td>NaN</td>\n",
       "      <td>2.0</td>\n",
       "      <td>0</td>\n",
       "      <td>1</td>\n",
       "      <td>0</td>\n",
       "      <td>0</td>\n",
       "      <td>NaN</td>\n",
       "      <td>0.368</td>\n",
       "      <td>0.212</td>\n",
       "    </tr>\n",
       "    <tr>\n",
       "      <th>3</th>\n",
       "      <td>0</td>\n",
       "      <td>Cash loans</td>\n",
       "      <td>M</td>\n",
       "      <td>N</td>\n",
       "      <td>N</td>\n",
       "      <td>0</td>\n",
       "      <td>270000.0</td>\n",
       "      <td>545040.0</td>\n",
       "      <td>26509.5</td>\n",
       "      <td>450000.0</td>\n",
       "      <td>...</td>\n",
       "      <td>0</td>\n",
       "      <td>Security staff</td>\n",
       "      <td>2.0</td>\n",
       "      <td>0</td>\n",
       "      <td>1</td>\n",
       "      <td>0</td>\n",
       "      <td>0</td>\n",
       "      <td>NaN</td>\n",
       "      <td>0.755</td>\n",
       "      <td>0.213</td>\n",
       "    </tr>\n",
       "    <tr>\n",
       "      <th>4</th>\n",
       "      <td>0</td>\n",
       "      <td>Cash loans</td>\n",
       "      <td>M</td>\n",
       "      <td>Y</td>\n",
       "      <td>Y</td>\n",
       "      <td>0</td>\n",
       "      <td>450000.0</td>\n",
       "      <td>540000.0</td>\n",
       "      <td>56835.0</td>\n",
       "      <td>540000.0</td>\n",
       "      <td>...</td>\n",
       "      <td>0</td>\n",
       "      <td>Managers</td>\n",
       "      <td>2.0</td>\n",
       "      <td>0</td>\n",
       "      <td>0</td>\n",
       "      <td>0</td>\n",
       "      <td>0</td>\n",
       "      <td>0.279</td>\n",
       "      <td>0.720</td>\n",
       "      <td>0.546</td>\n",
       "    </tr>\n",
       "    <tr>\n",
       "      <th>...</th>\n",
       "      <td>...</td>\n",
       "      <td>...</td>\n",
       "      <td>...</td>\n",
       "      <td>...</td>\n",
       "      <td>...</td>\n",
       "      <td>...</td>\n",
       "      <td>...</td>\n",
       "      <td>...</td>\n",
       "      <td>...</td>\n",
       "      <td>...</td>\n",
       "      <td>...</td>\n",
       "      <td>...</td>\n",
       "      <td>...</td>\n",
       "      <td>...</td>\n",
       "      <td>...</td>\n",
       "      <td>...</td>\n",
       "      <td>...</td>\n",
       "      <td>...</td>\n",
       "      <td>...</td>\n",
       "      <td>...</td>\n",
       "      <td>...</td>\n",
       "    </tr>\n",
       "    <tr>\n",
       "      <th>74508</th>\n",
       "      <td>0</td>\n",
       "      <td>Cash loans</td>\n",
       "      <td>F</td>\n",
       "      <td>N</td>\n",
       "      <td>Y</td>\n",
       "      <td>1</td>\n",
       "      <td>270000.0</td>\n",
       "      <td>1113840.0</td>\n",
       "      <td>49063.5</td>\n",
       "      <td>900000.0</td>\n",
       "      <td>...</td>\n",
       "      <td>1</td>\n",
       "      <td>High skill tech staff</td>\n",
       "      <td>3.0</td>\n",
       "      <td>0</td>\n",
       "      <td>1</td>\n",
       "      <td>0</td>\n",
       "      <td>0</td>\n",
       "      <td>NaN</td>\n",
       "      <td>0.480</td>\n",
       "      <td>0.738</td>\n",
       "    </tr>\n",
       "    <tr>\n",
       "      <th>74509</th>\n",
       "      <td>0</td>\n",
       "      <td>Cash loans</td>\n",
       "      <td>F</td>\n",
       "      <td>N</td>\n",
       "      <td>N</td>\n",
       "      <td>0</td>\n",
       "      <td>270000.0</td>\n",
       "      <td>755190.0</td>\n",
       "      <td>36459.0</td>\n",
       "      <td>675000.0</td>\n",
       "      <td>...</td>\n",
       "      <td>0</td>\n",
       "      <td>Managers</td>\n",
       "      <td>2.0</td>\n",
       "      <td>0</td>\n",
       "      <td>1</td>\n",
       "      <td>0</td>\n",
       "      <td>0</td>\n",
       "      <td>NaN</td>\n",
       "      <td>0.680</td>\n",
       "      <td>0.201</td>\n",
       "    </tr>\n",
       "    <tr>\n",
       "      <th>74510</th>\n",
       "      <td>0</td>\n",
       "      <td>Cash loans</td>\n",
       "      <td>F</td>\n",
       "      <td>N</td>\n",
       "      <td>N</td>\n",
       "      <td>0</td>\n",
       "      <td>315000.0</td>\n",
       "      <td>1174090.5</td>\n",
       "      <td>49873.5</td>\n",
       "      <td>1080000.0</td>\n",
       "      <td>...</td>\n",
       "      <td>0</td>\n",
       "      <td>Waiters/barmen staff</td>\n",
       "      <td>1.0</td>\n",
       "      <td>0</td>\n",
       "      <td>1</td>\n",
       "      <td>0</td>\n",
       "      <td>0</td>\n",
       "      <td>NaN</td>\n",
       "      <td>0.688</td>\n",
       "      <td>0.274</td>\n",
       "    </tr>\n",
       "    <tr>\n",
       "      <th>74511</th>\n",
       "      <td>0</td>\n",
       "      <td>Cash loans</td>\n",
       "      <td>F</td>\n",
       "      <td>N</td>\n",
       "      <td>Y</td>\n",
       "      <td>0</td>\n",
       "      <td>315000.0</td>\n",
       "      <td>1812456.0</td>\n",
       "      <td>49972.5</td>\n",
       "      <td>1620000.0</td>\n",
       "      <td>...</td>\n",
       "      <td>0</td>\n",
       "      <td>High skill tech staff</td>\n",
       "      <td>2.0</td>\n",
       "      <td>0</td>\n",
       "      <td>1</td>\n",
       "      <td>0</td>\n",
       "      <td>0</td>\n",
       "      <td>NaN</td>\n",
       "      <td>0.643</td>\n",
       "      <td>0.400</td>\n",
       "    </tr>\n",
       "    <tr>\n",
       "      <th>74512</th>\n",
       "      <td>0</td>\n",
       "      <td>Cash loans</td>\n",
       "      <td>M</td>\n",
       "      <td>Y</td>\n",
       "      <td>N</td>\n",
       "      <td>2</td>\n",
       "      <td>195750.0</td>\n",
       "      <td>1350000.0</td>\n",
       "      <td>44748.0</td>\n",
       "      <td>1350000.0</td>\n",
       "      <td>...</td>\n",
       "      <td>1</td>\n",
       "      <td>Core staff</td>\n",
       "      <td>4.0</td>\n",
       "      <td>0</td>\n",
       "      <td>0</td>\n",
       "      <td>0</td>\n",
       "      <td>0</td>\n",
       "      <td>0.717</td>\n",
       "      <td>0.795</td>\n",
       "      <td>NaN</td>\n",
       "    </tr>\n",
       "  </tbody>\n",
       "</table>\n",
       "<p>74513 rows × 36 columns</p>\n",
       "</div>"
      ],
      "text/plain": [
       "       TARGET NAME_CONTRACT_TYPE CODE_GENDER FLAG_OWN_CAR FLAG_OWN_REALTY  \\\n",
       "0           0         Cash loans           F            N               N   \n",
       "1           0    Revolving loans           M            Y               Y   \n",
       "2           0         Cash loans           F            Y               Y   \n",
       "3           0         Cash loans           M            N               N   \n",
       "4           0         Cash loans           M            Y               Y   \n",
       "...       ...                ...         ...          ...             ...   \n",
       "74508       0         Cash loans           F            N               Y   \n",
       "74509       0         Cash loans           F            N               N   \n",
       "74510       0         Cash loans           F            N               N   \n",
       "74511       0         Cash loans           F            N               Y   \n",
       "74512       0         Cash loans           M            Y               N   \n",
       "\n",
       "       CNT_CHILDREN  AMT_INCOME_TOTAL  AMT_CREDIT  AMT_ANNUITY  \\\n",
       "0                 0          103500.0    625536.0      26631.0   \n",
       "1                 0          202500.0    292500.0      14625.0   \n",
       "2                 0          247500.0   1442596.5      46665.0   \n",
       "3                 0          270000.0    545040.0      26509.5   \n",
       "4                 0          450000.0    540000.0      56835.0   \n",
       "...             ...               ...         ...          ...   \n",
       "74508             1          270000.0   1113840.0      49063.5   \n",
       "74509             0          270000.0    755190.0      36459.0   \n",
       "74510             0          315000.0   1174090.5      49873.5   \n",
       "74511             0          315000.0   1812456.0      49972.5   \n",
       "74512             2          195750.0   1350000.0      44748.0   \n",
       "\n",
       "       AMT_GOODS_PRICE  ... FLAG_EMAIL        OCCUPATION_TYPE CNT_FAM_MEMBERS  \\\n",
       "0             540000.0  ...          0                    NaN             1.0   \n",
       "1             292500.0  ...          0            Sales staff             1.0   \n",
       "2            1129500.0  ...          0                    NaN             2.0   \n",
       "3             450000.0  ...          0         Security staff             2.0   \n",
       "4             540000.0  ...          0               Managers             2.0   \n",
       "...                ...  ...        ...                    ...             ...   \n",
       "74508         900000.0  ...          1  High skill tech staff             3.0   \n",
       "74509         675000.0  ...          0               Managers             2.0   \n",
       "74510        1080000.0  ...          0   Waiters/barmen staff             1.0   \n",
       "74511        1620000.0  ...          0  High skill tech staff             2.0   \n",
       "74512        1350000.0  ...          1             Core staff             4.0   \n",
       "\n",
       "      FLAG_DOCUMENT_2 FLAG_DOCUMENT_3  FLAG_DOCUMENT_4  FLAG_DOCUMENT_5  \\\n",
       "0                   0               1                0                0   \n",
       "1                   0               0                0                0   \n",
       "2                   0               1                0                0   \n",
       "3                   0               1                0                0   \n",
       "4                   0               0                0                0   \n",
       "...               ...             ...              ...              ...   \n",
       "74508               0               1                0                0   \n",
       "74509               0               1                0                0   \n",
       "74510               0               1                0                0   \n",
       "74511               0               1                0                0   \n",
       "74512               0               0                0                0   \n",
       "\n",
       "       EXT_SOURCE_1  EXT_SOURCE_2  EXT_SOURCE_3  \n",
       "0               NaN         0.694         0.479  \n",
       "1               NaN         0.492         0.262  \n",
       "2               NaN         0.368         0.212  \n",
       "3               NaN         0.755         0.213  \n",
       "4             0.279         0.720         0.546  \n",
       "...             ...           ...           ...  \n",
       "74508           NaN         0.480         0.738  \n",
       "74509           NaN         0.680         0.201  \n",
       "74510           NaN         0.688         0.274  \n",
       "74511           NaN         0.643         0.400  \n",
       "74512         0.717         0.795           NaN  \n",
       "\n",
       "[74513 rows x 36 columns]"
      ]
     },
     "execution_count": 7,
     "metadata": {},
     "output_type": "execute_result"
    }
   ],
   "source": [
    "data = pd.read_csv('data/data.csv')\n",
    "data"
   ]
  },
  {
   "cell_type": "code",
   "execution_count": 8,
   "metadata": {},
   "outputs": [
    {
     "data": {
      "text/html": [
       "<div>\n",
       "<style scoped>\n",
       "    .dataframe tbody tr th:only-of-type {\n",
       "        vertical-align: middle;\n",
       "    }\n",
       "\n",
       "    .dataframe tbody tr th {\n",
       "        vertical-align: top;\n",
       "    }\n",
       "\n",
       "    .dataframe thead th {\n",
       "        text-align: right;\n",
       "    }\n",
       "</style>\n",
       "<table border=\"1\" class=\"dataframe\">\n",
       "  <thead>\n",
       "    <tr style=\"text-align: right;\">\n",
       "      <th></th>\n",
       "      <th>TARGET</th>\n",
       "      <th>NAME_CONTRACT_TYPE</th>\n",
       "      <th>CODE_GENDER</th>\n",
       "      <th>FLAG_OWN_CAR</th>\n",
       "      <th>FLAG_OWN_REALTY</th>\n",
       "      <th>CNT_CHILDREN</th>\n",
       "      <th>AMT_INCOME_TOTAL</th>\n",
       "      <th>AMT_CREDIT</th>\n",
       "      <th>AMT_ANNUITY</th>\n",
       "      <th>AMT_GOODS_PRICE</th>\n",
       "      <th>NAME_TYPE_SUITE</th>\n",
       "      <th>NAME_INCOME_TYPE</th>\n",
       "      <th>NAME_EDUCATION_TYPE</th>\n",
       "      <th>NAME_FAMILY_STATUS</th>\n",
       "      <th>NAME_HOUSING_TYPE</th>\n",
       "      <th>REGION_POPULATION_RELATIVE</th>\n",
       "      <th>DAYS_BIRTH</th>\n",
       "      <th>DAYS_EMPLOYED</th>\n",
       "      <th>DAYS_REGISTRATION</th>\n",
       "      <th>DAYS_ID_PUBLISH</th>\n",
       "    </tr>\n",
       "  </thead>\n",
       "  <tbody>\n",
       "    <tr>\n",
       "      <th>0</th>\n",
       "      <td>0</td>\n",
       "      <td>Cash loans</td>\n",
       "      <td>F</td>\n",
       "      <td>N</td>\n",
       "      <td>N</td>\n",
       "      <td>0</td>\n",
       "      <td>103500.0</td>\n",
       "      <td>625536.0</td>\n",
       "      <td>26631.0</td>\n",
       "      <td>540000.0</td>\n",
       "      <td>Family</td>\n",
       "      <td>Working</td>\n",
       "      <td>Secondary / secondary special</td>\n",
       "      <td>Single / not married</td>\n",
       "      <td>Municipal apartment</td>\n",
       "      <td>0.033</td>\n",
       "      <td>-14921</td>\n",
       "      <td>-3844</td>\n",
       "      <td>-602.0</td>\n",
       "      <td>-4632</td>\n",
       "    </tr>\n",
       "    <tr>\n",
       "      <th>1</th>\n",
       "      <td>0</td>\n",
       "      <td>Revolving loans</td>\n",
       "      <td>M</td>\n",
       "      <td>Y</td>\n",
       "      <td>Y</td>\n",
       "      <td>0</td>\n",
       "      <td>202500.0</td>\n",
       "      <td>292500.0</td>\n",
       "      <td>14625.0</td>\n",
       "      <td>292500.0</td>\n",
       "      <td>Unaccompanied</td>\n",
       "      <td>Commercial associate</td>\n",
       "      <td>Higher education</td>\n",
       "      <td>Single / not married</td>\n",
       "      <td>House / apartment</td>\n",
       "      <td>0.010</td>\n",
       "      <td>-15458</td>\n",
       "      <td>-694</td>\n",
       "      <td>-9544.0</td>\n",
       "      <td>-3761</td>\n",
       "    </tr>\n",
       "    <tr>\n",
       "      <th>2</th>\n",
       "      <td>0</td>\n",
       "      <td>Cash loans</td>\n",
       "      <td>F</td>\n",
       "      <td>Y</td>\n",
       "      <td>Y</td>\n",
       "      <td>0</td>\n",
       "      <td>247500.0</td>\n",
       "      <td>1442596.5</td>\n",
       "      <td>46665.0</td>\n",
       "      <td>1129500.0</td>\n",
       "      <td>Unaccompanied</td>\n",
       "      <td>Commercial associate</td>\n",
       "      <td>Secondary / secondary special</td>\n",
       "      <td>Civil marriage</td>\n",
       "      <td>House / apartment</td>\n",
       "      <td>0.072</td>\n",
       "      <td>-15603</td>\n",
       "      <td>-334</td>\n",
       "      <td>-3873.0</td>\n",
       "      <td>-5051</td>\n",
       "    </tr>\n",
       "    <tr>\n",
       "      <th>3</th>\n",
       "      <td>0</td>\n",
       "      <td>Cash loans</td>\n",
       "      <td>M</td>\n",
       "      <td>N</td>\n",
       "      <td>N</td>\n",
       "      <td>0</td>\n",
       "      <td>270000.0</td>\n",
       "      <td>545040.0</td>\n",
       "      <td>26509.5</td>\n",
       "      <td>450000.0</td>\n",
       "      <td>Family</td>\n",
       "      <td>Commercial associate</td>\n",
       "      <td>Secondary / secondary special</td>\n",
       "      <td>Civil marriage</td>\n",
       "      <td>House / apartment</td>\n",
       "      <td>0.072</td>\n",
       "      <td>-16392</td>\n",
       "      <td>-3015</td>\n",
       "      <td>-8902.0</td>\n",
       "      <td>-4407</td>\n",
       "    </tr>\n",
       "    <tr>\n",
       "      <th>4</th>\n",
       "      <td>0</td>\n",
       "      <td>Cash loans</td>\n",
       "      <td>M</td>\n",
       "      <td>Y</td>\n",
       "      <td>Y</td>\n",
       "      <td>0</td>\n",
       "      <td>450000.0</td>\n",
       "      <td>540000.0</td>\n",
       "      <td>56835.0</td>\n",
       "      <td>540000.0</td>\n",
       "      <td>Unaccompanied</td>\n",
       "      <td>Working</td>\n",
       "      <td>Higher education</td>\n",
       "      <td>Married</td>\n",
       "      <td>House / apartment</td>\n",
       "      <td>0.026</td>\n",
       "      <td>-10941</td>\n",
       "      <td>-4026</td>\n",
       "      <td>-910.0</td>\n",
       "      <td>-3215</td>\n",
       "    </tr>\n",
       "    <tr>\n",
       "      <th>...</th>\n",
       "      <td>...</td>\n",
       "      <td>...</td>\n",
       "      <td>...</td>\n",
       "      <td>...</td>\n",
       "      <td>...</td>\n",
       "      <td>...</td>\n",
       "      <td>...</td>\n",
       "      <td>...</td>\n",
       "      <td>...</td>\n",
       "      <td>...</td>\n",
       "      <td>...</td>\n",
       "      <td>...</td>\n",
       "      <td>...</td>\n",
       "      <td>...</td>\n",
       "      <td>...</td>\n",
       "      <td>...</td>\n",
       "      <td>...</td>\n",
       "      <td>...</td>\n",
       "      <td>...</td>\n",
       "      <td>...</td>\n",
       "    </tr>\n",
       "    <tr>\n",
       "      <th>74508</th>\n",
       "      <td>0</td>\n",
       "      <td>Cash loans</td>\n",
       "      <td>F</td>\n",
       "      <td>N</td>\n",
       "      <td>Y</td>\n",
       "      <td>1</td>\n",
       "      <td>270000.0</td>\n",
       "      <td>1113840.0</td>\n",
       "      <td>49063.5</td>\n",
       "      <td>900000.0</td>\n",
       "      <td>Children</td>\n",
       "      <td>Working</td>\n",
       "      <td>Higher education</td>\n",
       "      <td>Married</td>\n",
       "      <td>House / apartment</td>\n",
       "      <td>0.004</td>\n",
       "      <td>-16790</td>\n",
       "      <td>-3590</td>\n",
       "      <td>-6150.0</td>\n",
       "      <td>-330</td>\n",
       "    </tr>\n",
       "    <tr>\n",
       "      <th>74509</th>\n",
       "      <td>0</td>\n",
       "      <td>Cash loans</td>\n",
       "      <td>F</td>\n",
       "      <td>N</td>\n",
       "      <td>N</td>\n",
       "      <td>0</td>\n",
       "      <td>270000.0</td>\n",
       "      <td>755190.0</td>\n",
       "      <td>36459.0</td>\n",
       "      <td>675000.0</td>\n",
       "      <td>Unaccompanied</td>\n",
       "      <td>Commercial associate</td>\n",
       "      <td>Higher education</td>\n",
       "      <td>Married</td>\n",
       "      <td>House / apartment</td>\n",
       "      <td>0.046</td>\n",
       "      <td>-18992</td>\n",
       "      <td>-1947</td>\n",
       "      <td>-4422.0</td>\n",
       "      <td>-2519</td>\n",
       "    </tr>\n",
       "    <tr>\n",
       "      <th>74510</th>\n",
       "      <td>0</td>\n",
       "      <td>Cash loans</td>\n",
       "      <td>F</td>\n",
       "      <td>N</td>\n",
       "      <td>N</td>\n",
       "      <td>0</td>\n",
       "      <td>315000.0</td>\n",
       "      <td>1174090.5</td>\n",
       "      <td>49873.5</td>\n",
       "      <td>1080000.0</td>\n",
       "      <td>Unaccompanied</td>\n",
       "      <td>Commercial associate</td>\n",
       "      <td>Secondary / secondary special</td>\n",
       "      <td>Single / not married</td>\n",
       "      <td>With parents</td>\n",
       "      <td>0.019</td>\n",
       "      <td>-17558</td>\n",
       "      <td>-2238</td>\n",
       "      <td>-4741.0</td>\n",
       "      <td>-1084</td>\n",
       "    </tr>\n",
       "    <tr>\n",
       "      <th>74511</th>\n",
       "      <td>0</td>\n",
       "      <td>Cash loans</td>\n",
       "      <td>F</td>\n",
       "      <td>N</td>\n",
       "      <td>Y</td>\n",
       "      <td>0</td>\n",
       "      <td>315000.0</td>\n",
       "      <td>1812456.0</td>\n",
       "      <td>49972.5</td>\n",
       "      <td>1620000.0</td>\n",
       "      <td>Unaccompanied</td>\n",
       "      <td>State servant</td>\n",
       "      <td>Higher education</td>\n",
       "      <td>Married</td>\n",
       "      <td>House / apartment</td>\n",
       "      <td>0.033</td>\n",
       "      <td>-19480</td>\n",
       "      <td>-985</td>\n",
       "      <td>-1017.0</td>\n",
       "      <td>-3023</td>\n",
       "    </tr>\n",
       "    <tr>\n",
       "      <th>74512</th>\n",
       "      <td>0</td>\n",
       "      <td>Cash loans</td>\n",
       "      <td>M</td>\n",
       "      <td>Y</td>\n",
       "      <td>N</td>\n",
       "      <td>2</td>\n",
       "      <td>195750.0</td>\n",
       "      <td>1350000.0</td>\n",
       "      <td>44748.0</td>\n",
       "      <td>1350000.0</td>\n",
       "      <td>Unaccompanied</td>\n",
       "      <td>Commercial associate</td>\n",
       "      <td>Secondary / secondary special</td>\n",
       "      <td>Married</td>\n",
       "      <td>House / apartment</td>\n",
       "      <td>0.046</td>\n",
       "      <td>-12838</td>\n",
       "      <td>-4659</td>\n",
       "      <td>-5061.0</td>\n",
       "      <td>-2442</td>\n",
       "    </tr>\n",
       "  </tbody>\n",
       "</table>\n",
       "<p>74513 rows × 20 columns</p>\n",
       "</div>"
      ],
      "text/plain": [
       "       TARGET NAME_CONTRACT_TYPE CODE_GENDER FLAG_OWN_CAR FLAG_OWN_REALTY  \\\n",
       "0           0         Cash loans           F            N               N   \n",
       "1           0    Revolving loans           M            Y               Y   \n",
       "2           0         Cash loans           F            Y               Y   \n",
       "3           0         Cash loans           M            N               N   \n",
       "4           0         Cash loans           M            Y               Y   \n",
       "...       ...                ...         ...          ...             ...   \n",
       "74508       0         Cash loans           F            N               Y   \n",
       "74509       0         Cash loans           F            N               N   \n",
       "74510       0         Cash loans           F            N               N   \n",
       "74511       0         Cash loans           F            N               Y   \n",
       "74512       0         Cash loans           M            Y               N   \n",
       "\n",
       "       CNT_CHILDREN  AMT_INCOME_TOTAL  AMT_CREDIT  AMT_ANNUITY  \\\n",
       "0                 0          103500.0    625536.0      26631.0   \n",
       "1                 0          202500.0    292500.0      14625.0   \n",
       "2                 0          247500.0   1442596.5      46665.0   \n",
       "3                 0          270000.0    545040.0      26509.5   \n",
       "4                 0          450000.0    540000.0      56835.0   \n",
       "...             ...               ...         ...          ...   \n",
       "74508             1          270000.0   1113840.0      49063.5   \n",
       "74509             0          270000.0    755190.0      36459.0   \n",
       "74510             0          315000.0   1174090.5      49873.5   \n",
       "74511             0          315000.0   1812456.0      49972.5   \n",
       "74512             2          195750.0   1350000.0      44748.0   \n",
       "\n",
       "       AMT_GOODS_PRICE NAME_TYPE_SUITE      NAME_INCOME_TYPE  \\\n",
       "0             540000.0          Family               Working   \n",
       "1             292500.0   Unaccompanied  Commercial associate   \n",
       "2            1129500.0   Unaccompanied  Commercial associate   \n",
       "3             450000.0          Family  Commercial associate   \n",
       "4             540000.0   Unaccompanied               Working   \n",
       "...                ...             ...                   ...   \n",
       "74508         900000.0        Children               Working   \n",
       "74509         675000.0   Unaccompanied  Commercial associate   \n",
       "74510        1080000.0   Unaccompanied  Commercial associate   \n",
       "74511        1620000.0   Unaccompanied         State servant   \n",
       "74512        1350000.0   Unaccompanied  Commercial associate   \n",
       "\n",
       "                 NAME_EDUCATION_TYPE    NAME_FAMILY_STATUS  \\\n",
       "0      Secondary / secondary special  Single / not married   \n",
       "1                   Higher education  Single / not married   \n",
       "2      Secondary / secondary special        Civil marriage   \n",
       "3      Secondary / secondary special        Civil marriage   \n",
       "4                   Higher education               Married   \n",
       "...                              ...                   ...   \n",
       "74508               Higher education               Married   \n",
       "74509               Higher education               Married   \n",
       "74510  Secondary / secondary special  Single / not married   \n",
       "74511               Higher education               Married   \n",
       "74512  Secondary / secondary special               Married   \n",
       "\n",
       "         NAME_HOUSING_TYPE  REGION_POPULATION_RELATIVE  DAYS_BIRTH  \\\n",
       "0      Municipal apartment                       0.033      -14921   \n",
       "1        House / apartment                       0.010      -15458   \n",
       "2        House / apartment                       0.072      -15603   \n",
       "3        House / apartment                       0.072      -16392   \n",
       "4        House / apartment                       0.026      -10941   \n",
       "...                    ...                         ...         ...   \n",
       "74508    House / apartment                       0.004      -16790   \n",
       "74509    House / apartment                       0.046      -18992   \n",
       "74510         With parents                       0.019      -17558   \n",
       "74511    House / apartment                       0.033      -19480   \n",
       "74512    House / apartment                       0.046      -12838   \n",
       "\n",
       "       DAYS_EMPLOYED  DAYS_REGISTRATION  DAYS_ID_PUBLISH  \n",
       "0              -3844             -602.0            -4632  \n",
       "1               -694            -9544.0            -3761  \n",
       "2               -334            -3873.0            -5051  \n",
       "3              -3015            -8902.0            -4407  \n",
       "4              -4026             -910.0            -3215  \n",
       "...              ...                ...              ...  \n",
       "74508          -3590            -6150.0             -330  \n",
       "74509          -1947            -4422.0            -2519  \n",
       "74510          -2238            -4741.0            -1084  \n",
       "74511           -985            -1017.0            -3023  \n",
       "74512          -4659            -5061.0            -2442  \n",
       "\n",
       "[74513 rows x 20 columns]"
      ]
     },
     "execution_count": 8,
     "metadata": {},
     "output_type": "execute_result"
    }
   ],
   "source": [
    "data = data.iloc[:, :20]\n",
    "data"
   ]
  },
  {
   "cell_type": "code",
   "execution_count": 9,
   "metadata": {},
   "outputs": [],
   "source": [
    "numeric_transformer = Pipeline(\n",
    "    steps=[(\"imputer\", SimpleImputer(strategy=\"median\")), (\"scaler\", StandardScaler())]\n",
    ")\n",
    "\n",
    "categorical_transformer = Pipeline(\n",
    "    steps=[\n",
    "        (\"encoder\", OneHotEncoder(handle_unknown=\"ignore\")),\n",
    "\n",
    "    ]\n",
    ")\n",
    "preprocessor = ColumnTransformer(\n",
    "    transformers=[\n",
    "        (\"num\", numeric_transformer, make_column_selector(dtype_include=np.number)),\n",
    "        (\"cat\", categorical_transformer, make_column_selector(dtype_exclude =np.number)),\n",
    "    ]\n",
    ")"
   ]
  },
  {
   "cell_type": "code",
   "execution_count": 10,
   "metadata": {},
   "outputs": [],
   "source": [
    "X = data.drop(columns=['TARGET'])\n",
    "y = data['TARGET']"
   ]
  },
  {
   "cell_type": "code",
   "execution_count": 11,
   "metadata": {},
   "outputs": [],
   "source": [
    "X_train, X_test, y_train, y_test = train_test_split(X, y, test_size=0.3, random_state=42)\n"
   ]
  },
  {
   "cell_type": "code",
   "execution_count": 12,
   "metadata": {},
   "outputs": [
    {
     "data": {
      "text/html": [
       "<div>\n",
       "<style scoped>\n",
       "    .dataframe tbody tr th:only-of-type {\n",
       "        vertical-align: middle;\n",
       "    }\n",
       "\n",
       "    .dataframe tbody tr th {\n",
       "        vertical-align: top;\n",
       "    }\n",
       "\n",
       "    .dataframe thead th {\n",
       "        text-align: right;\n",
       "    }\n",
       "</style>\n",
       "<table border=\"1\" class=\"dataframe\">\n",
       "  <thead>\n",
       "    <tr style=\"text-align: right;\">\n",
       "      <th></th>\n",
       "      <th>NAME_CONTRACT_TYPE</th>\n",
       "      <th>CODE_GENDER</th>\n",
       "      <th>FLAG_OWN_CAR</th>\n",
       "      <th>FLAG_OWN_REALTY</th>\n",
       "      <th>CNT_CHILDREN</th>\n",
       "      <th>AMT_INCOME_TOTAL</th>\n",
       "      <th>AMT_CREDIT</th>\n",
       "      <th>AMT_ANNUITY</th>\n",
       "      <th>AMT_GOODS_PRICE</th>\n",
       "      <th>NAME_TYPE_SUITE</th>\n",
       "      <th>NAME_INCOME_TYPE</th>\n",
       "      <th>NAME_EDUCATION_TYPE</th>\n",
       "      <th>NAME_FAMILY_STATUS</th>\n",
       "      <th>NAME_HOUSING_TYPE</th>\n",
       "      <th>REGION_POPULATION_RELATIVE</th>\n",
       "      <th>DAYS_BIRTH</th>\n",
       "      <th>DAYS_EMPLOYED</th>\n",
       "      <th>DAYS_REGISTRATION</th>\n",
       "      <th>DAYS_ID_PUBLISH</th>\n",
       "    </tr>\n",
       "  </thead>\n",
       "  <tbody>\n",
       "    <tr>\n",
       "      <th>61261</th>\n",
       "      <td>Cash loans</td>\n",
       "      <td>F</td>\n",
       "      <td>Y</td>\n",
       "      <td>Y</td>\n",
       "      <td>1</td>\n",
       "      <td>225000.0</td>\n",
       "      <td>265500.0</td>\n",
       "      <td>12910.5</td>\n",
       "      <td>265500.0</td>\n",
       "      <td>Spouse, partner</td>\n",
       "      <td>Working</td>\n",
       "      <td>Secondary / secondary special</td>\n",
       "      <td>Married</td>\n",
       "      <td>House / apartment</td>\n",
       "      <td>0.025</td>\n",
       "      <td>-13110</td>\n",
       "      <td>-3064</td>\n",
       "      <td>-511.0</td>\n",
       "      <td>-8</td>\n",
       "    </tr>\n",
       "    <tr>\n",
       "      <th>61725</th>\n",
       "      <td>Cash loans</td>\n",
       "      <td>F</td>\n",
       "      <td>N</td>\n",
       "      <td>Y</td>\n",
       "      <td>0</td>\n",
       "      <td>157500.0</td>\n",
       "      <td>526491.0</td>\n",
       "      <td>32337.0</td>\n",
       "      <td>454500.0</td>\n",
       "      <td>Unaccompanied</td>\n",
       "      <td>Commercial associate</td>\n",
       "      <td>Higher education</td>\n",
       "      <td>Single / not married</td>\n",
       "      <td>House / apartment</td>\n",
       "      <td>0.007</td>\n",
       "      <td>-11093</td>\n",
       "      <td>-1598</td>\n",
       "      <td>-4857.0</td>\n",
       "      <td>-2760</td>\n",
       "    </tr>\n",
       "    <tr>\n",
       "      <th>68198</th>\n",
       "      <td>Revolving loans</td>\n",
       "      <td>F</td>\n",
       "      <td>N</td>\n",
       "      <td>Y</td>\n",
       "      <td>2</td>\n",
       "      <td>112500.0</td>\n",
       "      <td>270000.0</td>\n",
       "      <td>13500.0</td>\n",
       "      <td>270000.0</td>\n",
       "      <td>Unaccompanied</td>\n",
       "      <td>Commercial associate</td>\n",
       "      <td>Secondary / secondary special</td>\n",
       "      <td>Single / not married</td>\n",
       "      <td>House / apartment</td>\n",
       "      <td>0.009</td>\n",
       "      <td>-14063</td>\n",
       "      <td>-399</td>\n",
       "      <td>-2491.0</td>\n",
       "      <td>-69</td>\n",
       "    </tr>\n",
       "    <tr>\n",
       "      <th>36891</th>\n",
       "      <td>Cash loans</td>\n",
       "      <td>F</td>\n",
       "      <td>Y</td>\n",
       "      <td>N</td>\n",
       "      <td>0</td>\n",
       "      <td>270000.0</td>\n",
       "      <td>679500.0</td>\n",
       "      <td>64516.5</td>\n",
       "      <td>679500.0</td>\n",
       "      <td>Unaccompanied</td>\n",
       "      <td>Working</td>\n",
       "      <td>Secondary / secondary special</td>\n",
       "      <td>Married</td>\n",
       "      <td>House / apartment</td>\n",
       "      <td>0.020</td>\n",
       "      <td>-15019</td>\n",
       "      <td>-1970</td>\n",
       "      <td>-3129.0</td>\n",
       "      <td>-3268</td>\n",
       "    </tr>\n",
       "    <tr>\n",
       "      <th>45218</th>\n",
       "      <td>Cash loans</td>\n",
       "      <td>F</td>\n",
       "      <td>Y</td>\n",
       "      <td>Y</td>\n",
       "      <td>0</td>\n",
       "      <td>72000.0</td>\n",
       "      <td>292500.0</td>\n",
       "      <td>14355.0</td>\n",
       "      <td>292500.0</td>\n",
       "      <td>Unaccompanied</td>\n",
       "      <td>Working</td>\n",
       "      <td>Secondary / secondary special</td>\n",
       "      <td>Married</td>\n",
       "      <td>House / apartment</td>\n",
       "      <td>0.029</td>\n",
       "      <td>-17590</td>\n",
       "      <td>-3170</td>\n",
       "      <td>-577.0</td>\n",
       "      <td>-1135</td>\n",
       "    </tr>\n",
       "    <tr>\n",
       "      <th>...</th>\n",
       "      <td>...</td>\n",
       "      <td>...</td>\n",
       "      <td>...</td>\n",
       "      <td>...</td>\n",
       "      <td>...</td>\n",
       "      <td>...</td>\n",
       "      <td>...</td>\n",
       "      <td>...</td>\n",
       "      <td>...</td>\n",
       "      <td>...</td>\n",
       "      <td>...</td>\n",
       "      <td>...</td>\n",
       "      <td>...</td>\n",
       "      <td>...</td>\n",
       "      <td>...</td>\n",
       "      <td>...</td>\n",
       "      <td>...</td>\n",
       "      <td>...</td>\n",
       "      <td>...</td>\n",
       "    </tr>\n",
       "    <tr>\n",
       "      <th>37194</th>\n",
       "      <td>Revolving loans</td>\n",
       "      <td>M</td>\n",
       "      <td>Y</td>\n",
       "      <td>N</td>\n",
       "      <td>1</td>\n",
       "      <td>157500.0</td>\n",
       "      <td>180000.0</td>\n",
       "      <td>9000.0</td>\n",
       "      <td>180000.0</td>\n",
       "      <td>Unaccompanied</td>\n",
       "      <td>Working</td>\n",
       "      <td>Higher education</td>\n",
       "      <td>Married</td>\n",
       "      <td>House / apartment</td>\n",
       "      <td>0.020</td>\n",
       "      <td>-10237</td>\n",
       "      <td>-3564</td>\n",
       "      <td>-1644.0</td>\n",
       "      <td>-2872</td>\n",
       "    </tr>\n",
       "    <tr>\n",
       "      <th>6265</th>\n",
       "      <td>Cash loans</td>\n",
       "      <td>F</td>\n",
       "      <td>N</td>\n",
       "      <td>Y</td>\n",
       "      <td>0</td>\n",
       "      <td>189000.0</td>\n",
       "      <td>454455.0</td>\n",
       "      <td>17262.0</td>\n",
       "      <td>319500.0</td>\n",
       "      <td>Family</td>\n",
       "      <td>Pensioner</td>\n",
       "      <td>Secondary / secondary special</td>\n",
       "      <td>Married</td>\n",
       "      <td>House / apartment</td>\n",
       "      <td>0.019</td>\n",
       "      <td>-23193</td>\n",
       "      <td>365243</td>\n",
       "      <td>-1216.0</td>\n",
       "      <td>-4212</td>\n",
       "    </tr>\n",
       "    <tr>\n",
       "      <th>54886</th>\n",
       "      <td>Cash loans</td>\n",
       "      <td>F</td>\n",
       "      <td>Y</td>\n",
       "      <td>Y</td>\n",
       "      <td>2</td>\n",
       "      <td>202500.0</td>\n",
       "      <td>538704.0</td>\n",
       "      <td>23859.0</td>\n",
       "      <td>481500.0</td>\n",
       "      <td>Unaccompanied</td>\n",
       "      <td>Working</td>\n",
       "      <td>Higher education</td>\n",
       "      <td>Married</td>\n",
       "      <td>House / apartment</td>\n",
       "      <td>0.025</td>\n",
       "      <td>-19330</td>\n",
       "      <td>-241</td>\n",
       "      <td>-245.0</td>\n",
       "      <td>-2837</td>\n",
       "    </tr>\n",
       "    <tr>\n",
       "      <th>860</th>\n",
       "      <td>Cash loans</td>\n",
       "      <td>F</td>\n",
       "      <td>N</td>\n",
       "      <td>Y</td>\n",
       "      <td>3</td>\n",
       "      <td>225000.0</td>\n",
       "      <td>1324440.0</td>\n",
       "      <td>47700.0</td>\n",
       "      <td>1170000.0</td>\n",
       "      <td>Unaccompanied</td>\n",
       "      <td>Commercial associate</td>\n",
       "      <td>Lower secondary</td>\n",
       "      <td>Married</td>\n",
       "      <td>House / apartment</td>\n",
       "      <td>0.019</td>\n",
       "      <td>-12977</td>\n",
       "      <td>-2633</td>\n",
       "      <td>-4436.0</td>\n",
       "      <td>-1657</td>\n",
       "    </tr>\n",
       "    <tr>\n",
       "      <th>15795</th>\n",
       "      <td>Cash loans</td>\n",
       "      <td>F</td>\n",
       "      <td>N</td>\n",
       "      <td>N</td>\n",
       "      <td>0</td>\n",
       "      <td>67500.0</td>\n",
       "      <td>254700.0</td>\n",
       "      <td>24939.0</td>\n",
       "      <td>225000.0</td>\n",
       "      <td>Unaccompanied</td>\n",
       "      <td>Pensioner</td>\n",
       "      <td>Secondary / secondary special</td>\n",
       "      <td>Married</td>\n",
       "      <td>With parents</td>\n",
       "      <td>0.046</td>\n",
       "      <td>-24587</td>\n",
       "      <td>365243</td>\n",
       "      <td>-5042.0</td>\n",
       "      <td>-4636</td>\n",
       "    </tr>\n",
       "  </tbody>\n",
       "</table>\n",
       "<p>52159 rows × 19 columns</p>\n",
       "</div>"
      ],
      "text/plain": [
       "      NAME_CONTRACT_TYPE CODE_GENDER FLAG_OWN_CAR FLAG_OWN_REALTY  \\\n",
       "61261         Cash loans           F            Y               Y   \n",
       "61725         Cash loans           F            N               Y   \n",
       "68198    Revolving loans           F            N               Y   \n",
       "36891         Cash loans           F            Y               N   \n",
       "45218         Cash loans           F            Y               Y   \n",
       "...                  ...         ...          ...             ...   \n",
       "37194    Revolving loans           M            Y               N   \n",
       "6265          Cash loans           F            N               Y   \n",
       "54886         Cash loans           F            Y               Y   \n",
       "860           Cash loans           F            N               Y   \n",
       "15795         Cash loans           F            N               N   \n",
       "\n",
       "       CNT_CHILDREN  AMT_INCOME_TOTAL  AMT_CREDIT  AMT_ANNUITY  \\\n",
       "61261             1          225000.0    265500.0      12910.5   \n",
       "61725             0          157500.0    526491.0      32337.0   \n",
       "68198             2          112500.0    270000.0      13500.0   \n",
       "36891             0          270000.0    679500.0      64516.5   \n",
       "45218             0           72000.0    292500.0      14355.0   \n",
       "...             ...               ...         ...          ...   \n",
       "37194             1          157500.0    180000.0       9000.0   \n",
       "6265              0          189000.0    454455.0      17262.0   \n",
       "54886             2          202500.0    538704.0      23859.0   \n",
       "860               3          225000.0   1324440.0      47700.0   \n",
       "15795             0           67500.0    254700.0      24939.0   \n",
       "\n",
       "       AMT_GOODS_PRICE  NAME_TYPE_SUITE      NAME_INCOME_TYPE  \\\n",
       "61261         265500.0  Spouse, partner               Working   \n",
       "61725         454500.0    Unaccompanied  Commercial associate   \n",
       "68198         270000.0    Unaccompanied  Commercial associate   \n",
       "36891         679500.0    Unaccompanied               Working   \n",
       "45218         292500.0    Unaccompanied               Working   \n",
       "...                ...              ...                   ...   \n",
       "37194         180000.0    Unaccompanied               Working   \n",
       "6265          319500.0           Family             Pensioner   \n",
       "54886         481500.0    Unaccompanied               Working   \n",
       "860          1170000.0    Unaccompanied  Commercial associate   \n",
       "15795         225000.0    Unaccompanied             Pensioner   \n",
       "\n",
       "                 NAME_EDUCATION_TYPE    NAME_FAMILY_STATUS  NAME_HOUSING_TYPE  \\\n",
       "61261  Secondary / secondary special               Married  House / apartment   \n",
       "61725               Higher education  Single / not married  House / apartment   \n",
       "68198  Secondary / secondary special  Single / not married  House / apartment   \n",
       "36891  Secondary / secondary special               Married  House / apartment   \n",
       "45218  Secondary / secondary special               Married  House / apartment   \n",
       "...                              ...                   ...                ...   \n",
       "37194               Higher education               Married  House / apartment   \n",
       "6265   Secondary / secondary special               Married  House / apartment   \n",
       "54886               Higher education               Married  House / apartment   \n",
       "860                  Lower secondary               Married  House / apartment   \n",
       "15795  Secondary / secondary special               Married       With parents   \n",
       "\n",
       "       REGION_POPULATION_RELATIVE  DAYS_BIRTH  DAYS_EMPLOYED  \\\n",
       "61261                       0.025      -13110          -3064   \n",
       "61725                       0.007      -11093          -1598   \n",
       "68198                       0.009      -14063           -399   \n",
       "36891                       0.020      -15019          -1970   \n",
       "45218                       0.029      -17590          -3170   \n",
       "...                           ...         ...            ...   \n",
       "37194                       0.020      -10237          -3564   \n",
       "6265                        0.019      -23193         365243   \n",
       "54886                       0.025      -19330           -241   \n",
       "860                         0.019      -12977          -2633   \n",
       "15795                       0.046      -24587         365243   \n",
       "\n",
       "       DAYS_REGISTRATION  DAYS_ID_PUBLISH  \n",
       "61261             -511.0               -8  \n",
       "61725            -4857.0            -2760  \n",
       "68198            -2491.0              -69  \n",
       "36891            -3129.0            -3268  \n",
       "45218             -577.0            -1135  \n",
       "...                  ...              ...  \n",
       "37194            -1644.0            -2872  \n",
       "6265             -1216.0            -4212  \n",
       "54886             -245.0            -2837  \n",
       "860              -4436.0            -1657  \n",
       "15795            -5042.0            -4636  \n",
       "\n",
       "[52159 rows x 19 columns]"
      ]
     },
     "execution_count": 12,
     "metadata": {},
     "output_type": "execute_result"
    }
   ],
   "source": [
    "X_train"
   ]
  },
  {
   "cell_type": "code",
   "execution_count": null,
   "metadata": {},
   "outputs": [],
   "source": []
  },
  {
   "cell_type": "code",
   "execution_count": 13,
   "metadata": {},
   "outputs": [
    {
     "data": {
      "text/html": [
       "<div>\n",
       "<style scoped>\n",
       "    .dataframe tbody tr th:only-of-type {\n",
       "        vertical-align: middle;\n",
       "    }\n",
       "\n",
       "    .dataframe tbody tr th {\n",
       "        vertical-align: top;\n",
       "    }\n",
       "\n",
       "    .dataframe thead th {\n",
       "        text-align: right;\n",
       "    }\n",
       "</style>\n",
       "<table border=\"1\" class=\"dataframe\">\n",
       "  <thead>\n",
       "    <tr style=\"text-align: right;\">\n",
       "      <th></th>\n",
       "      <th>NAME_CONTRACT_TYPE</th>\n",
       "      <th>CODE_GENDER</th>\n",
       "      <th>FLAG_OWN_CAR</th>\n",
       "      <th>FLAG_OWN_REALTY</th>\n",
       "      <th>CNT_CHILDREN</th>\n",
       "      <th>AMT_INCOME_TOTAL</th>\n",
       "      <th>AMT_CREDIT</th>\n",
       "      <th>AMT_ANNUITY</th>\n",
       "      <th>AMT_GOODS_PRICE</th>\n",
       "      <th>NAME_TYPE_SUITE</th>\n",
       "      <th>NAME_INCOME_TYPE</th>\n",
       "      <th>NAME_EDUCATION_TYPE</th>\n",
       "      <th>NAME_FAMILY_STATUS</th>\n",
       "      <th>NAME_HOUSING_TYPE</th>\n",
       "      <th>REGION_POPULATION_RELATIVE</th>\n",
       "      <th>DAYS_BIRTH</th>\n",
       "      <th>DAYS_EMPLOYED</th>\n",
       "      <th>DAYS_REGISTRATION</th>\n",
       "      <th>DAYS_ID_PUBLISH</th>\n",
       "    </tr>\n",
       "  </thead>\n",
       "  <tbody>\n",
       "    <tr>\n",
       "      <th>70779</th>\n",
       "      <td>Cash loans</td>\n",
       "      <td>M</td>\n",
       "      <td>Y</td>\n",
       "      <td>Y</td>\n",
       "      <td>0</td>\n",
       "      <td>184500.0</td>\n",
       "      <td>123768.0</td>\n",
       "      <td>4792.5</td>\n",
       "      <td>81000.0</td>\n",
       "      <td>Unaccompanied</td>\n",
       "      <td>Working</td>\n",
       "      <td>Secondary / secondary special</td>\n",
       "      <td>Married</td>\n",
       "      <td>House / apartment</td>\n",
       "      <td>0.019</td>\n",
       "      <td>-21859</td>\n",
       "      <td>-4054</td>\n",
       "      <td>-9265.0</td>\n",
       "      <td>-4308</td>\n",
       "    </tr>\n",
       "    <tr>\n",
       "      <th>14510</th>\n",
       "      <td>Cash loans</td>\n",
       "      <td>F</td>\n",
       "      <td>N</td>\n",
       "      <td>N</td>\n",
       "      <td>0</td>\n",
       "      <td>76500.0</td>\n",
       "      <td>855000.0</td>\n",
       "      <td>24997.5</td>\n",
       "      <td>855000.0</td>\n",
       "      <td>Unaccompanied</td>\n",
       "      <td>Commercial associate</td>\n",
       "      <td>Secondary / secondary special</td>\n",
       "      <td>Married</td>\n",
       "      <td>House / apartment</td>\n",
       "      <td>0.007</td>\n",
       "      <td>-15188</td>\n",
       "      <td>-3476</td>\n",
       "      <td>-4204.0</td>\n",
       "      <td>-4204</td>\n",
       "    </tr>\n",
       "    <tr>\n",
       "      <th>5073</th>\n",
       "      <td>Cash loans</td>\n",
       "      <td>M</td>\n",
       "      <td>Y</td>\n",
       "      <td>Y</td>\n",
       "      <td>0</td>\n",
       "      <td>450000.0</td>\n",
       "      <td>1971072.0</td>\n",
       "      <td>68512.5</td>\n",
       "      <td>1800000.0</td>\n",
       "      <td>Unaccompanied</td>\n",
       "      <td>Commercial associate</td>\n",
       "      <td>Higher education</td>\n",
       "      <td>Married</td>\n",
       "      <td>House / apartment</td>\n",
       "      <td>0.072</td>\n",
       "      <td>-18547</td>\n",
       "      <td>-2129</td>\n",
       "      <td>-2233.0</td>\n",
       "      <td>-67</td>\n",
       "    </tr>\n",
       "    <tr>\n",
       "      <th>3057</th>\n",
       "      <td>Cash loans</td>\n",
       "      <td>M</td>\n",
       "      <td>Y</td>\n",
       "      <td>Y</td>\n",
       "      <td>0</td>\n",
       "      <td>153000.0</td>\n",
       "      <td>1006920.0</td>\n",
       "      <td>42790.5</td>\n",
       "      <td>900000.0</td>\n",
       "      <td>Unaccompanied</td>\n",
       "      <td>Pensioner</td>\n",
       "      <td>Secondary / secondary special</td>\n",
       "      <td>Married</td>\n",
       "      <td>House / apartment</td>\n",
       "      <td>0.019</td>\n",
       "      <td>-22462</td>\n",
       "      <td>365243</td>\n",
       "      <td>-8015.0</td>\n",
       "      <td>-4606</td>\n",
       "    </tr>\n",
       "    <tr>\n",
       "      <th>58330</th>\n",
       "      <td>Cash loans</td>\n",
       "      <td>M</td>\n",
       "      <td>Y</td>\n",
       "      <td>Y</td>\n",
       "      <td>0</td>\n",
       "      <td>135000.0</td>\n",
       "      <td>343377.0</td>\n",
       "      <td>27256.5</td>\n",
       "      <td>283500.0</td>\n",
       "      <td>Family</td>\n",
       "      <td>Working</td>\n",
       "      <td>Higher education</td>\n",
       "      <td>Married</td>\n",
       "      <td>House / apartment</td>\n",
       "      <td>0.031</td>\n",
       "      <td>-16874</td>\n",
       "      <td>-3756</td>\n",
       "      <td>-7974.0</td>\n",
       "      <td>-411</td>\n",
       "    </tr>\n",
       "    <tr>\n",
       "      <th>...</th>\n",
       "      <td>...</td>\n",
       "      <td>...</td>\n",
       "      <td>...</td>\n",
       "      <td>...</td>\n",
       "      <td>...</td>\n",
       "      <td>...</td>\n",
       "      <td>...</td>\n",
       "      <td>...</td>\n",
       "      <td>...</td>\n",
       "      <td>...</td>\n",
       "      <td>...</td>\n",
       "      <td>...</td>\n",
       "      <td>...</td>\n",
       "      <td>...</td>\n",
       "      <td>...</td>\n",
       "      <td>...</td>\n",
       "      <td>...</td>\n",
       "      <td>...</td>\n",
       "      <td>...</td>\n",
       "    </tr>\n",
       "    <tr>\n",
       "      <th>9785</th>\n",
       "      <td>Revolving loans</td>\n",
       "      <td>F</td>\n",
       "      <td>N</td>\n",
       "      <td>Y</td>\n",
       "      <td>0</td>\n",
       "      <td>137025.0</td>\n",
       "      <td>135000.0</td>\n",
       "      <td>6750.0</td>\n",
       "      <td>135000.0</td>\n",
       "      <td>Unaccompanied</td>\n",
       "      <td>Commercial associate</td>\n",
       "      <td>Secondary / secondary special</td>\n",
       "      <td>Civil marriage</td>\n",
       "      <td>House / apartment</td>\n",
       "      <td>0.046</td>\n",
       "      <td>-13200</td>\n",
       "      <td>-99</td>\n",
       "      <td>-7067.0</td>\n",
       "      <td>-109</td>\n",
       "    </tr>\n",
       "    <tr>\n",
       "      <th>36311</th>\n",
       "      <td>Cash loans</td>\n",
       "      <td>F</td>\n",
       "      <td>N</td>\n",
       "      <td>Y</td>\n",
       "      <td>0</td>\n",
       "      <td>67500.0</td>\n",
       "      <td>284400.0</td>\n",
       "      <td>10215.0</td>\n",
       "      <td>225000.0</td>\n",
       "      <td>Unaccompanied</td>\n",
       "      <td>Pensioner</td>\n",
       "      <td>Secondary / secondary special</td>\n",
       "      <td>Widow</td>\n",
       "      <td>House / apartment</td>\n",
       "      <td>0.029</td>\n",
       "      <td>-22985</td>\n",
       "      <td>365243</td>\n",
       "      <td>-8835.0</td>\n",
       "      <td>-4091</td>\n",
       "    </tr>\n",
       "    <tr>\n",
       "      <th>7760</th>\n",
       "      <td>Cash loans</td>\n",
       "      <td>F</td>\n",
       "      <td>N</td>\n",
       "      <td>Y</td>\n",
       "      <td>0</td>\n",
       "      <td>180000.0</td>\n",
       "      <td>1147257.0</td>\n",
       "      <td>41337.0</td>\n",
       "      <td>927000.0</td>\n",
       "      <td>Unaccompanied</td>\n",
       "      <td>Commercial associate</td>\n",
       "      <td>Secondary / secondary special</td>\n",
       "      <td>Married</td>\n",
       "      <td>House / apartment</td>\n",
       "      <td>0.023</td>\n",
       "      <td>-15505</td>\n",
       "      <td>-109</td>\n",
       "      <td>-6215.0</td>\n",
       "      <td>-1903</td>\n",
       "    </tr>\n",
       "    <tr>\n",
       "      <th>675</th>\n",
       "      <td>Cash loans</td>\n",
       "      <td>F</td>\n",
       "      <td>N</td>\n",
       "      <td>Y</td>\n",
       "      <td>2</td>\n",
       "      <td>157500.0</td>\n",
       "      <td>945000.0</td>\n",
       "      <td>40167.0</td>\n",
       "      <td>945000.0</td>\n",
       "      <td>Unaccompanied</td>\n",
       "      <td>Commercial associate</td>\n",
       "      <td>Secondary / secondary special</td>\n",
       "      <td>Married</td>\n",
       "      <td>House / apartment</td>\n",
       "      <td>0.020</td>\n",
       "      <td>-15077</td>\n",
       "      <td>-2064</td>\n",
       "      <td>-7407.0</td>\n",
       "      <td>-4417</td>\n",
       "    </tr>\n",
       "    <tr>\n",
       "      <th>52058</th>\n",
       "      <td>Cash loans</td>\n",
       "      <td>F</td>\n",
       "      <td>N</td>\n",
       "      <td>Y</td>\n",
       "      <td>0</td>\n",
       "      <td>130500.0</td>\n",
       "      <td>454500.0</td>\n",
       "      <td>20151.0</td>\n",
       "      <td>454500.0</td>\n",
       "      <td>Unaccompanied</td>\n",
       "      <td>Commercial associate</td>\n",
       "      <td>Secondary / secondary special</td>\n",
       "      <td>Married</td>\n",
       "      <td>House / apartment</td>\n",
       "      <td>0.007</td>\n",
       "      <td>-16235</td>\n",
       "      <td>-5715</td>\n",
       "      <td>-1999.0</td>\n",
       "      <td>-4075</td>\n",
       "    </tr>\n",
       "  </tbody>\n",
       "</table>\n",
       "<p>22354 rows × 19 columns</p>\n",
       "</div>"
      ],
      "text/plain": [
       "      NAME_CONTRACT_TYPE CODE_GENDER FLAG_OWN_CAR FLAG_OWN_REALTY  \\\n",
       "70779         Cash loans           M            Y               Y   \n",
       "14510         Cash loans           F            N               N   \n",
       "5073          Cash loans           M            Y               Y   \n",
       "3057          Cash loans           M            Y               Y   \n",
       "58330         Cash loans           M            Y               Y   \n",
       "...                  ...         ...          ...             ...   \n",
       "9785     Revolving loans           F            N               Y   \n",
       "36311         Cash loans           F            N               Y   \n",
       "7760          Cash loans           F            N               Y   \n",
       "675           Cash loans           F            N               Y   \n",
       "52058         Cash loans           F            N               Y   \n",
       "\n",
       "       CNT_CHILDREN  AMT_INCOME_TOTAL  AMT_CREDIT  AMT_ANNUITY  \\\n",
       "70779             0          184500.0    123768.0       4792.5   \n",
       "14510             0           76500.0    855000.0      24997.5   \n",
       "5073              0          450000.0   1971072.0      68512.5   \n",
       "3057              0          153000.0   1006920.0      42790.5   \n",
       "58330             0          135000.0    343377.0      27256.5   \n",
       "...             ...               ...         ...          ...   \n",
       "9785              0          137025.0    135000.0       6750.0   \n",
       "36311             0           67500.0    284400.0      10215.0   \n",
       "7760              0          180000.0   1147257.0      41337.0   \n",
       "675               2          157500.0    945000.0      40167.0   \n",
       "52058             0          130500.0    454500.0      20151.0   \n",
       "\n",
       "       AMT_GOODS_PRICE NAME_TYPE_SUITE      NAME_INCOME_TYPE  \\\n",
       "70779          81000.0   Unaccompanied               Working   \n",
       "14510         855000.0   Unaccompanied  Commercial associate   \n",
       "5073         1800000.0   Unaccompanied  Commercial associate   \n",
       "3057          900000.0   Unaccompanied             Pensioner   \n",
       "58330         283500.0          Family               Working   \n",
       "...                ...             ...                   ...   \n",
       "9785          135000.0   Unaccompanied  Commercial associate   \n",
       "36311         225000.0   Unaccompanied             Pensioner   \n",
       "7760          927000.0   Unaccompanied  Commercial associate   \n",
       "675           945000.0   Unaccompanied  Commercial associate   \n",
       "52058         454500.0   Unaccompanied  Commercial associate   \n",
       "\n",
       "                 NAME_EDUCATION_TYPE NAME_FAMILY_STATUS  NAME_HOUSING_TYPE  \\\n",
       "70779  Secondary / secondary special            Married  House / apartment   \n",
       "14510  Secondary / secondary special            Married  House / apartment   \n",
       "5073                Higher education            Married  House / apartment   \n",
       "3057   Secondary / secondary special            Married  House / apartment   \n",
       "58330               Higher education            Married  House / apartment   \n",
       "...                              ...                ...                ...   \n",
       "9785   Secondary / secondary special     Civil marriage  House / apartment   \n",
       "36311  Secondary / secondary special              Widow  House / apartment   \n",
       "7760   Secondary / secondary special            Married  House / apartment   \n",
       "675    Secondary / secondary special            Married  House / apartment   \n",
       "52058  Secondary / secondary special            Married  House / apartment   \n",
       "\n",
       "       REGION_POPULATION_RELATIVE  DAYS_BIRTH  DAYS_EMPLOYED  \\\n",
       "70779                       0.019      -21859          -4054   \n",
       "14510                       0.007      -15188          -3476   \n",
       "5073                        0.072      -18547          -2129   \n",
       "3057                        0.019      -22462         365243   \n",
       "58330                       0.031      -16874          -3756   \n",
       "...                           ...         ...            ...   \n",
       "9785                        0.046      -13200            -99   \n",
       "36311                       0.029      -22985         365243   \n",
       "7760                        0.023      -15505           -109   \n",
       "675                         0.020      -15077          -2064   \n",
       "52058                       0.007      -16235          -5715   \n",
       "\n",
       "       DAYS_REGISTRATION  DAYS_ID_PUBLISH  \n",
       "70779            -9265.0            -4308  \n",
       "14510            -4204.0            -4204  \n",
       "5073             -2233.0              -67  \n",
       "3057             -8015.0            -4606  \n",
       "58330            -7974.0             -411  \n",
       "...                  ...              ...  \n",
       "9785             -7067.0             -109  \n",
       "36311            -8835.0            -4091  \n",
       "7760             -6215.0            -1903  \n",
       "675              -7407.0            -4417  \n",
       "52058            -1999.0            -4075  \n",
       "\n",
       "[22354 rows x 19 columns]"
      ]
     },
     "execution_count": 13,
     "metadata": {},
     "output_type": "execute_result"
    }
   ],
   "source": [
    "X_test"
   ]
  },
  {
   "cell_type": "code",
   "execution_count": 14,
   "metadata": {},
   "outputs": [],
   "source": [
    "pipeline = Pipeline(\n",
    "    [\n",
    "        ('sampler', RandomUnderSampler()),\n",
    "        (\"transformer\", preprocessor),\n",
    "        ('imputer', SimpleImputer(strategy='median')),\n",
    "        # ('scaler', StandardScaler()),\n",
    "        ('estimator', LogisticRegression()),    \n",
    "    ]\n",
    ")"
   ]
  },
  {
   "cell_type": "code",
   "execution_count": 15,
   "metadata": {},
   "outputs": [
    {
     "name": "stdout",
     "output_type": "stream",
     "text": [
      "Fitting 5 folds for each of 1 candidates, totalling 5 fits\n"
     ]
    },
    {
     "name": "stderr",
     "output_type": "stream",
     "text": [
      "/tmp/ml-cost-function/.venv/lib/python3.10/site-packages/sklearn/linear_model/_logistic.py:460: ConvergenceWarning: lbfgs failed to converge (status=1):\n",
      "STOP: TOTAL NO. of ITERATIONS REACHED LIMIT.\n",
      "\n",
      "Increase the number of iterations (max_iter) or scale the data as shown in:\n",
      "    https://scikit-learn.org/stable/modules/preprocessing.html\n",
      "Please also refer to the documentation for alternative solver options:\n",
      "    https://scikit-learn.org/stable/modules/linear_model.html#logistic-regression\n",
      "  n_iter_i = _check_optimize_result(\n",
      "/tmp/ml-cost-function/.venv/lib/python3.10/site-packages/sklearn/linear_model/_logistic.py:460: ConvergenceWarning: lbfgs failed to converge (status=1):\n",
      "STOP: TOTAL NO. of ITERATIONS REACHED LIMIT.\n",
      "\n",
      "Increase the number of iterations (max_iter) or scale the data as shown in:\n",
      "    https://scikit-learn.org/stable/modules/preprocessing.html\n",
      "Please also refer to the documentation for alternative solver options:\n",
      "    https://scikit-learn.org/stable/modules/linear_model.html#logistic-regression\n",
      "  n_iter_i = _check_optimize_result(\n",
      "/tmp/ml-cost-function/.venv/lib/python3.10/site-packages/sklearn/linear_model/_logistic.py:460: ConvergenceWarning: lbfgs failed to converge (status=1):\n",
      "STOP: TOTAL NO. of ITERATIONS REACHED LIMIT.\n",
      "\n",
      "Increase the number of iterations (max_iter) or scale the data as shown in:\n",
      "    https://scikit-learn.org/stable/modules/preprocessing.html\n",
      "Please also refer to the documentation for alternative solver options:\n",
      "    https://scikit-learn.org/stable/modules/linear_model.html#logistic-regression\n",
      "  n_iter_i = _check_optimize_result(\n",
      "/tmp/ml-cost-function/.venv/lib/python3.10/site-packages/sklearn/linear_model/_logistic.py:460: ConvergenceWarning: lbfgs failed to converge (status=1):\n",
      "STOP: TOTAL NO. of ITERATIONS REACHED LIMIT.\n",
      "\n",
      "Increase the number of iterations (max_iter) or scale the data as shown in:\n",
      "    https://scikit-learn.org/stable/modules/preprocessing.html\n",
      "Please also refer to the documentation for alternative solver options:\n",
      "    https://scikit-learn.org/stable/modules/linear_model.html#logistic-regression\n",
      "  n_iter_i = _check_optimize_result(\n",
      "/tmp/ml-cost-function/.venv/lib/python3.10/site-packages/sklearn/linear_model/_logistic.py:460: ConvergenceWarning: lbfgs failed to converge (status=1):\n",
      "STOP: TOTAL NO. of ITERATIONS REACHED LIMIT.\n",
      "\n",
      "Increase the number of iterations (max_iter) or scale the data as shown in:\n",
      "    https://scikit-learn.org/stable/modules/preprocessing.html\n",
      "Please also refer to the documentation for alternative solver options:\n",
      "    https://scikit-learn.org/stable/modules/linear_model.html#logistic-regression\n",
      "  n_iter_i = _check_optimize_result(\n",
      "/tmp/ml-cost-function/.venv/lib/python3.10/site-packages/sklearn/linear_model/_logistic.py:460: ConvergenceWarning: lbfgs failed to converge (status=1):\n",
      "STOP: TOTAL NO. of ITERATIONS REACHED LIMIT.\n",
      "\n",
      "Increase the number of iterations (max_iter) or scale the data as shown in:\n",
      "    https://scikit-learn.org/stable/modules/preprocessing.html\n",
      "Please also refer to the documentation for alternative solver options:\n",
      "    https://scikit-learn.org/stable/modules/linear_model.html#logistic-regression\n",
      "  n_iter_i = _check_optimize_result(\n"
     ]
    },
    {
     "data": {
      "text/html": [
       "<style>#sk-container-id-1 {color: black;}#sk-container-id-1 pre{padding: 0;}#sk-container-id-1 div.sk-toggleable {background-color: white;}#sk-container-id-1 label.sk-toggleable__label {cursor: pointer;display: block;width: 100%;margin-bottom: 0;padding: 0.3em;box-sizing: border-box;text-align: center;}#sk-container-id-1 label.sk-toggleable__label-arrow:before {content: \"▸\";float: left;margin-right: 0.25em;color: #696969;}#sk-container-id-1 label.sk-toggleable__label-arrow:hover:before {color: black;}#sk-container-id-1 div.sk-estimator:hover label.sk-toggleable__label-arrow:before {color: black;}#sk-container-id-1 div.sk-toggleable__content {max-height: 0;max-width: 0;overflow: hidden;text-align: left;background-color: #f0f8ff;}#sk-container-id-1 div.sk-toggleable__content pre {margin: 0.2em;color: black;border-radius: 0.25em;background-color: #f0f8ff;}#sk-container-id-1 input.sk-toggleable__control:checked~div.sk-toggleable__content {max-height: 200px;max-width: 100%;overflow: auto;}#sk-container-id-1 input.sk-toggleable__control:checked~label.sk-toggleable__label-arrow:before {content: \"▾\";}#sk-container-id-1 div.sk-estimator input.sk-toggleable__control:checked~label.sk-toggleable__label {background-color: #d4ebff;}#sk-container-id-1 div.sk-label input.sk-toggleable__control:checked~label.sk-toggleable__label {background-color: #d4ebff;}#sk-container-id-1 input.sk-hidden--visually {border: 0;clip: rect(1px 1px 1px 1px);clip: rect(1px, 1px, 1px, 1px);height: 1px;margin: -1px;overflow: hidden;padding: 0;position: absolute;width: 1px;}#sk-container-id-1 div.sk-estimator {font-family: monospace;background-color: #f0f8ff;border: 1px dotted black;border-radius: 0.25em;box-sizing: border-box;margin-bottom: 0.5em;}#sk-container-id-1 div.sk-estimator:hover {background-color: #d4ebff;}#sk-container-id-1 div.sk-parallel-item::after {content: \"\";width: 100%;border-bottom: 1px solid gray;flex-grow: 1;}#sk-container-id-1 div.sk-label:hover label.sk-toggleable__label {background-color: #d4ebff;}#sk-container-id-1 div.sk-serial::before {content: \"\";position: absolute;border-left: 1px solid gray;box-sizing: border-box;top: 0;bottom: 0;left: 50%;z-index: 0;}#sk-container-id-1 div.sk-serial {display: flex;flex-direction: column;align-items: center;background-color: white;padding-right: 0.2em;padding-left: 0.2em;position: relative;}#sk-container-id-1 div.sk-item {position: relative;z-index: 1;}#sk-container-id-1 div.sk-parallel {display: flex;align-items: stretch;justify-content: center;background-color: white;position: relative;}#sk-container-id-1 div.sk-item::before, #sk-container-id-1 div.sk-parallel-item::before {content: \"\";position: absolute;border-left: 1px solid gray;box-sizing: border-box;top: 0;bottom: 0;left: 50%;z-index: -1;}#sk-container-id-1 div.sk-parallel-item {display: flex;flex-direction: column;z-index: 1;position: relative;background-color: white;}#sk-container-id-1 div.sk-parallel-item:first-child::after {align-self: flex-end;width: 50%;}#sk-container-id-1 div.sk-parallel-item:last-child::after {align-self: flex-start;width: 50%;}#sk-container-id-1 div.sk-parallel-item:only-child::after {width: 0;}#sk-container-id-1 div.sk-dashed-wrapped {border: 1px dashed gray;margin: 0 0.4em 0.5em 0.4em;box-sizing: border-box;padding-bottom: 0.4em;background-color: white;}#sk-container-id-1 div.sk-label label {font-family: monospace;font-weight: bold;display: inline-block;line-height: 1.2em;}#sk-container-id-1 div.sk-label-container {text-align: center;}#sk-container-id-1 div.sk-container {/* jupyter's `normalize.less` sets `[hidden] { display: none; }` but bootstrap.min.css set `[hidden] { display: none !important; }` so we also need the `!important` here to be able to override the default hidden behavior on the sphinx rendered scikit-learn.org. See: https://github.com/scikit-learn/scikit-learn/issues/21755 */display: inline-block !important;position: relative;}#sk-container-id-1 div.sk-text-repr-fallback {display: none;}</style><div id=\"sk-container-id-1\" class=\"sk-top-container\"><div class=\"sk-text-repr-fallback\"><pre>GridSearchCV(cv=5,\n",
       "             estimator=Pipeline(steps=[(&#x27;sampler&#x27;, RandomUnderSampler()),\n",
       "                                       (&#x27;transformer&#x27;,\n",
       "                                        ColumnTransformer(transformers=[(&#x27;num&#x27;,\n",
       "                                                                         Pipeline(steps=[(&#x27;imputer&#x27;,\n",
       "                                                                                          SimpleImputer(strategy=&#x27;median&#x27;)),\n",
       "                                                                                         (&#x27;scaler&#x27;,\n",
       "                                                                                          StandardScaler())]),\n",
       "                                                                         &lt;sklearn.compose._column_transformer.make_column_selector object at 0x7fe9b961bd90&gt;),\n",
       "                                                                        (&#x27;cat&#x27;,\n",
       "                                                                         Pipeline(steps=[(&#x27;encoder&#x27;,\n",
       "                                                                                          OneHotEncoder(handle_unknown=&#x27;ignore&#x27;))]),\n",
       "                                                                         &lt;sklearn.compose._column_transformer.make_column_selector object at 0x7fe9b961a5c0&gt;)])),\n",
       "                                       (&#x27;imputer&#x27;,\n",
       "                                        SimpleImputer(strategy=&#x27;median&#x27;)),\n",
       "                                       (&#x27;estimator&#x27;, LogisticRegression())]),\n",
       "             n_jobs=-1, param_grid={}, return_train_score=True, scoring=&#x27;f1&#x27;,\n",
       "             verbose=1)</pre><b>In a Jupyter environment, please rerun this cell to show the HTML representation or trust the notebook. <br />On GitHub, the HTML representation is unable to render, please try loading this page with nbviewer.org.</b></div><div class=\"sk-container\" hidden><div class=\"sk-item sk-dashed-wrapped\"><div class=\"sk-label-container\"><div class=\"sk-label sk-toggleable\"><input class=\"sk-toggleable__control sk-hidden--visually\" id=\"sk-estimator-id-1\" type=\"checkbox\" ><label for=\"sk-estimator-id-1\" class=\"sk-toggleable__label sk-toggleable__label-arrow\">GridSearchCV</label><div class=\"sk-toggleable__content\"><pre>GridSearchCV(cv=5,\n",
       "             estimator=Pipeline(steps=[(&#x27;sampler&#x27;, RandomUnderSampler()),\n",
       "                                       (&#x27;transformer&#x27;,\n",
       "                                        ColumnTransformer(transformers=[(&#x27;num&#x27;,\n",
       "                                                                         Pipeline(steps=[(&#x27;imputer&#x27;,\n",
       "                                                                                          SimpleImputer(strategy=&#x27;median&#x27;)),\n",
       "                                                                                         (&#x27;scaler&#x27;,\n",
       "                                                                                          StandardScaler())]),\n",
       "                                                                         &lt;sklearn.compose._column_transformer.make_column_selector object at 0x7fe9b961bd90&gt;),\n",
       "                                                                        (&#x27;cat&#x27;,\n",
       "                                                                         Pipeline(steps=[(&#x27;encoder&#x27;,\n",
       "                                                                                          OneHotEncoder(handle_unknown=&#x27;ignore&#x27;))]),\n",
       "                                                                         &lt;sklearn.compose._column_transformer.make_column_selector object at 0x7fe9b961a5c0&gt;)])),\n",
       "                                       (&#x27;imputer&#x27;,\n",
       "                                        SimpleImputer(strategy=&#x27;median&#x27;)),\n",
       "                                       (&#x27;estimator&#x27;, LogisticRegression())]),\n",
       "             n_jobs=-1, param_grid={}, return_train_score=True, scoring=&#x27;f1&#x27;,\n",
       "             verbose=1)</pre></div></div></div><div class=\"sk-parallel\"><div class=\"sk-parallel-item\"><div class=\"sk-item\"><div class=\"sk-label-container\"><div class=\"sk-label sk-toggleable\"><input class=\"sk-toggleable__control sk-hidden--visually\" id=\"sk-estimator-id-2\" type=\"checkbox\" ><label for=\"sk-estimator-id-2\" class=\"sk-toggleable__label sk-toggleable__label-arrow\">estimator: Pipeline</label><div class=\"sk-toggleable__content\"><pre>Pipeline(steps=[(&#x27;sampler&#x27;, RandomUnderSampler()),\n",
       "                (&#x27;transformer&#x27;,\n",
       "                 ColumnTransformer(transformers=[(&#x27;num&#x27;,\n",
       "                                                  Pipeline(steps=[(&#x27;imputer&#x27;,\n",
       "                                                                   SimpleImputer(strategy=&#x27;median&#x27;)),\n",
       "                                                                  (&#x27;scaler&#x27;,\n",
       "                                                                   StandardScaler())]),\n",
       "                                                  &lt;sklearn.compose._column_transformer.make_column_selector object at 0x7fe9b961bd90&gt;),\n",
       "                                                 (&#x27;cat&#x27;,\n",
       "                                                  Pipeline(steps=[(&#x27;encoder&#x27;,\n",
       "                                                                   OneHotEncoder(handle_unknown=&#x27;ignore&#x27;))]),\n",
       "                                                  &lt;sklearn.compose._column_transformer.make_column_selector object at 0x7fe9b961a5c0&gt;)])),\n",
       "                (&#x27;imputer&#x27;, SimpleImputer(strategy=&#x27;median&#x27;)),\n",
       "                (&#x27;estimator&#x27;, LogisticRegression())])</pre></div></div></div><div class=\"sk-serial\"><div class=\"sk-item\"><div class=\"sk-serial\"><div class=\"sk-item\"><div class=\"sk-estimator sk-toggleable\"><input class=\"sk-toggleable__control sk-hidden--visually\" id=\"sk-estimator-id-3\" type=\"checkbox\" ><label for=\"sk-estimator-id-3\" class=\"sk-toggleable__label sk-toggleable__label-arrow\">RandomUnderSampler</label><div class=\"sk-toggleable__content\"><pre>RandomUnderSampler()</pre></div></div></div><div class=\"sk-item sk-dashed-wrapped\"><div class=\"sk-label-container\"><div class=\"sk-label sk-toggleable\"><input class=\"sk-toggleable__control sk-hidden--visually\" id=\"sk-estimator-id-4\" type=\"checkbox\" ><label for=\"sk-estimator-id-4\" class=\"sk-toggleable__label sk-toggleable__label-arrow\">transformer: ColumnTransformer</label><div class=\"sk-toggleable__content\"><pre>ColumnTransformer(transformers=[(&#x27;num&#x27;,\n",
       "                                 Pipeline(steps=[(&#x27;imputer&#x27;,\n",
       "                                                  SimpleImputer(strategy=&#x27;median&#x27;)),\n",
       "                                                 (&#x27;scaler&#x27;, StandardScaler())]),\n",
       "                                 &lt;sklearn.compose._column_transformer.make_column_selector object at 0x7fe9b961bd90&gt;),\n",
       "                                (&#x27;cat&#x27;,\n",
       "                                 Pipeline(steps=[(&#x27;encoder&#x27;,\n",
       "                                                  OneHotEncoder(handle_unknown=&#x27;ignore&#x27;))]),\n",
       "                                 &lt;sklearn.compose._column_transformer.make_column_selector object at 0x7fe9b961a5c0&gt;)])</pre></div></div></div><div class=\"sk-parallel\"><div class=\"sk-parallel-item\"><div class=\"sk-item\"><div class=\"sk-label-container\"><div class=\"sk-label sk-toggleable\"><input class=\"sk-toggleable__control sk-hidden--visually\" id=\"sk-estimator-id-5\" type=\"checkbox\" ><label for=\"sk-estimator-id-5\" class=\"sk-toggleable__label sk-toggleable__label-arrow\">num</label><div class=\"sk-toggleable__content\"><pre>&lt;sklearn.compose._column_transformer.make_column_selector object at 0x7fe9b961bd90&gt;</pre></div></div></div><div class=\"sk-serial\"><div class=\"sk-item\"><div class=\"sk-serial\"><div class=\"sk-item\"><div class=\"sk-estimator sk-toggleable\"><input class=\"sk-toggleable__control sk-hidden--visually\" id=\"sk-estimator-id-6\" type=\"checkbox\" ><label for=\"sk-estimator-id-6\" class=\"sk-toggleable__label sk-toggleable__label-arrow\">SimpleImputer</label><div class=\"sk-toggleable__content\"><pre>SimpleImputer(strategy=&#x27;median&#x27;)</pre></div></div></div><div class=\"sk-item\"><div class=\"sk-estimator sk-toggleable\"><input class=\"sk-toggleable__control sk-hidden--visually\" id=\"sk-estimator-id-7\" type=\"checkbox\" ><label for=\"sk-estimator-id-7\" class=\"sk-toggleable__label sk-toggleable__label-arrow\">StandardScaler</label><div class=\"sk-toggleable__content\"><pre>StandardScaler()</pre></div></div></div></div></div></div></div></div><div class=\"sk-parallel-item\"><div class=\"sk-item\"><div class=\"sk-label-container\"><div class=\"sk-label sk-toggleable\"><input class=\"sk-toggleable__control sk-hidden--visually\" id=\"sk-estimator-id-8\" type=\"checkbox\" ><label for=\"sk-estimator-id-8\" class=\"sk-toggleable__label sk-toggleable__label-arrow\">cat</label><div class=\"sk-toggleable__content\"><pre>&lt;sklearn.compose._column_transformer.make_column_selector object at 0x7fe9b961a5c0&gt;</pre></div></div></div><div class=\"sk-serial\"><div class=\"sk-item\"><div class=\"sk-serial\"><div class=\"sk-item\"><div class=\"sk-estimator sk-toggleable\"><input class=\"sk-toggleable__control sk-hidden--visually\" id=\"sk-estimator-id-9\" type=\"checkbox\" ><label for=\"sk-estimator-id-9\" class=\"sk-toggleable__label sk-toggleable__label-arrow\">OneHotEncoder</label><div class=\"sk-toggleable__content\"><pre>OneHotEncoder(handle_unknown=&#x27;ignore&#x27;)</pre></div></div></div></div></div></div></div></div></div></div><div class=\"sk-item\"><div class=\"sk-estimator sk-toggleable\"><input class=\"sk-toggleable__control sk-hidden--visually\" id=\"sk-estimator-id-10\" type=\"checkbox\" ><label for=\"sk-estimator-id-10\" class=\"sk-toggleable__label sk-toggleable__label-arrow\">SimpleImputer</label><div class=\"sk-toggleable__content\"><pre>SimpleImputer(strategy=&#x27;median&#x27;)</pre></div></div></div><div class=\"sk-item\"><div class=\"sk-estimator sk-toggleable\"><input class=\"sk-toggleable__control sk-hidden--visually\" id=\"sk-estimator-id-11\" type=\"checkbox\" ><label for=\"sk-estimator-id-11\" class=\"sk-toggleable__label sk-toggleable__label-arrow\">LogisticRegression</label><div class=\"sk-toggleable__content\"><pre>LogisticRegression()</pre></div></div></div></div></div></div></div></div></div></div></div></div>"
      ],
      "text/plain": [
       "GridSearchCV(cv=5,\n",
       "             estimator=Pipeline(steps=[('sampler', RandomUnderSampler()),\n",
       "                                       ('transformer',\n",
       "                                        ColumnTransformer(transformers=[('num',\n",
       "                                                                         Pipeline(steps=[('imputer',\n",
       "                                                                                          SimpleImputer(strategy='median')),\n",
       "                                                                                         ('scaler',\n",
       "                                                                                          StandardScaler())]),\n",
       "                                                                         <sklearn.compose._column_transformer.make_column_selector object at 0x7fe9b961bd90>),\n",
       "                                                                        ('cat',\n",
       "                                                                         Pipeline(steps=[('encoder',\n",
       "                                                                                          OneHotEncoder(handle_unknown='ignore'))]),\n",
       "                                                                         <sklearn.compose._column_transformer.make_column_selector object at 0x7fe9b961a5c0>)])),\n",
       "                                       ('imputer',\n",
       "                                        SimpleImputer(strategy='median')),\n",
       "                                       ('estimator', LogisticRegression())]),\n",
       "             n_jobs=-1, param_grid={}, return_train_score=True, scoring='f1',\n",
       "             verbose=1)"
      ]
     },
     "execution_count": 15,
     "metadata": {},
     "output_type": "execute_result"
    }
   ],
   "source": [
    "grid = GridSearchCV(pipeline, param_grid={}, cv=5, scoring='f1', n_jobs=-1, return_train_score=True, verbose=1)\n",
    "grid.fit(X_train, y_train)"
   ]
  },
  {
   "cell_type": "code",
   "execution_count": 16,
   "metadata": {},
   "outputs": [],
   "source": [
    "def resultize(grid):\n",
    "\n",
    "    res  = pd.DataFrame(grid.cv_results_).sort_values(by='rank_test_score').head(5)\n",
    "    columns = [k for k in res.columns  if \"split\" not in k ]\n",
    "    res = res.loc[:, columns].round(2)\n",
    "    return res"
   ]
  },
  {
   "cell_type": "code",
   "execution_count": 17,
   "metadata": {},
   "outputs": [
    {
     "data": {
      "text/html": [
       "<div>\n",
       "<style scoped>\n",
       "    .dataframe tbody tr th:only-of-type {\n",
       "        vertical-align: middle;\n",
       "    }\n",
       "\n",
       "    .dataframe tbody tr th {\n",
       "        vertical-align: top;\n",
       "    }\n",
       "\n",
       "    .dataframe thead th {\n",
       "        text-align: right;\n",
       "    }\n",
       "</style>\n",
       "<table border=\"1\" class=\"dataframe\">\n",
       "  <thead>\n",
       "    <tr style=\"text-align: right;\">\n",
       "      <th></th>\n",
       "      <th>mean_fit_time</th>\n",
       "      <th>std_fit_time</th>\n",
       "      <th>mean_score_time</th>\n",
       "      <th>std_score_time</th>\n",
       "      <th>params</th>\n",
       "      <th>mean_test_score</th>\n",
       "      <th>std_test_score</th>\n",
       "      <th>rank_test_score</th>\n",
       "      <th>mean_train_score</th>\n",
       "      <th>std_train_score</th>\n",
       "    </tr>\n",
       "  </thead>\n",
       "  <tbody>\n",
       "    <tr>\n",
       "      <th>0</th>\n",
       "      <td>0.44</td>\n",
       "      <td>0.05</td>\n",
       "      <td>0.08</td>\n",
       "      <td>0.01</td>\n",
       "      <td>{}</td>\n",
       "      <td>0.21</td>\n",
       "      <td>0.0</td>\n",
       "      <td>1</td>\n",
       "      <td>0.21</td>\n",
       "      <td>0.0</td>\n",
       "    </tr>\n",
       "  </tbody>\n",
       "</table>\n",
       "</div>"
      ],
      "text/plain": [
       "   mean_fit_time  std_fit_time  mean_score_time  std_score_time params  \\\n",
       "0           0.44          0.05             0.08            0.01     {}   \n",
       "\n",
       "   mean_test_score  std_test_score  rank_test_score  mean_train_score  \\\n",
       "0             0.21             0.0                1              0.21   \n",
       "\n",
       "   std_train_score  \n",
       "0              0.0  "
      ]
     },
     "execution_count": 17,
     "metadata": {},
     "output_type": "execute_result"
    }
   ],
   "source": [
    "resultize(grid)"
   ]
  },
  {
   "cell_type": "code",
   "execution_count": null,
   "metadata": {},
   "outputs": [],
   "source": []
  },
  {
   "attachments": {},
   "cell_type": "markdown",
   "metadata": {},
   "source": [
    "## First approch"
   ]
  },
  {
   "cell_type": "code",
   "execution_count": 19,
   "metadata": {},
   "outputs": [],
   "source": [
    "def calcul_pnl_one_easy(montant, y_true, y_pred, taux=0.04, default_rate=1):\n",
    "\n",
    "    if y_pred :\n",
    "        return 0\n",
    "    \n",
    "    if y_true : \n",
    "        return -default_rate * montant\n",
    "\n",
    "    return montant * taux"
   ]
  },
  {
   "cell_type": "code",
   "execution_count": 20,
   "metadata": {},
   "outputs": [
    {
     "data": {
      "text/plain": [
       "4.0"
      ]
     },
     "execution_count": 20,
     "metadata": {},
     "output_type": "execute_result"
    }
   ],
   "source": [
    "calcul_pnl_one_easy(100, 0, 0)"
   ]
  },
  {
   "cell_type": "code",
   "execution_count": 21,
   "metadata": {},
   "outputs": [
    {
     "data": {
      "text/plain": [
       "0"
      ]
     },
     "execution_count": 21,
     "metadata": {},
     "output_type": "execute_result"
    }
   ],
   "source": [
    "calcul_pnl_one_easy(100, 0, 1)"
   ]
  },
  {
   "cell_type": "code",
   "execution_count": 22,
   "metadata": {},
   "outputs": [
    {
     "data": {
      "text/plain": [
       "-100"
      ]
     },
     "execution_count": 22,
     "metadata": {},
     "output_type": "execute_result"
    }
   ],
   "source": [
    "calcul_pnl_one_easy(100, 1, 0)"
   ]
  },
  {
   "cell_type": "code",
   "execution_count": 23,
   "metadata": {},
   "outputs": [
    {
     "data": {
      "text/plain": [
       "0"
      ]
     },
     "execution_count": 23,
     "metadata": {},
     "output_type": "execute_result"
    }
   ],
   "source": [
    "calcul_pnl_one_easy(100, 1, 1)"
   ]
  },
  {
   "cell_type": "code",
   "execution_count": 24,
   "metadata": {},
   "outputs": [
    {
     "data": {
      "text/plain": [
       "array([0, 0, 0, ..., 1, 0, 0])"
      ]
     },
     "execution_count": 24,
     "metadata": {},
     "output_type": "execute_result"
    }
   ],
   "source": [
    "y_pred_list = grid.predict(X_test)\n",
    "y_pred_list "
   ]
  },
  {
   "cell_type": "code",
   "execution_count": 25,
   "metadata": {},
   "outputs": [
    {
     "data": {
      "text/plain": [
       "array([0, 0, 0, ..., 0, 0, 0])"
      ]
     },
     "execution_count": 25,
     "metadata": {},
     "output_type": "execute_result"
    }
   ],
   "source": [
    "y_true_list = y_test.values\n",
    "y_true_list"
   ]
  },
  {
   "cell_type": "code",
   "execution_count": 27,
   "metadata": {},
   "outputs": [
    {
     "data": {
      "text/plain": [
       "array([ 123768.,  855000., 1971072., ..., 1147257.,  945000.,  454500.])"
      ]
     },
     "execution_count": 27,
     "metadata": {},
     "output_type": "execute_result"
    }
   ],
   "source": [
    "montant_list = X_test.loc[:, 'AMT_CREDIT'].values\n",
    "montant_list"
   ]
  },
  {
   "cell_type": "code",
   "execution_count": null,
   "metadata": {},
   "outputs": [],
   "source": [
    "l1 = [\"a\", \"b\"]\n",
    "l2 = [0 ,1]"
   ]
  },
  {
   "cell_type": "code",
   "execution_count": 28,
   "metadata": {},
   "outputs": [
    {
     "data": {
      "text/plain": [
       "-114492646.98000106"
      ]
     },
     "execution_count": 28,
     "metadata": {},
     "output_type": "execute_result"
    }
   ],
   "source": [
    "v = 0\n",
    "for m, y_true, y_pred in zip(montant_list, y_true_list, y_pred_list):\n",
    "    v += calcul_pnl_one_easy(m, y_true=y_true, y_pred=y_pred)\n",
    "v"
   ]
  },
  {
   "cell_type": "code",
   "execution_count": 29,
   "metadata": {},
   "outputs": [
    {
     "data": {
      "text/plain": [
       "13404531492.0"
      ]
     },
     "execution_count": 29,
     "metadata": {},
     "output_type": "execute_result"
    }
   ],
   "source": [
    "sum(montant_list)"
   ]
  },
  {
   "attachments": {},
   "cell_type": "markdown",
   "metadata": {},
   "source": [
    "## 02 predict proba"
   ]
  },
  {
   "cell_type": "code",
   "execution_count": 33,
   "metadata": {},
   "outputs": [
    {
     "data": {
      "text/plain": [
       "[0.573,\n",
       " 0.6136,\n",
       " 0.746,\n",
       " 0.6386,\n",
       " 0.5944,\n",
       " 0.4954,\n",
       " 0.6314,\n",
       " 0.5388,\n",
       " 0.6507,\n",
       " 0.7426,\n",
       " 0.513,\n",
       " 0.3673,\n",
       " 0.3291,\n",
       " 0.7143,\n",
       " 0.6623,\n",
       " 0.5409,\n",
       " 0.5471,\n",
       " 0.7532,\n",
       " 0.2566,\n",
       " 0.4949,\n",
       " 0.7131,\n",
       " 0.5218,\n",
       " 0.5528,\n",
       " 0.5545,\n",
       " 0.4276,\n",
       " 0.8124,\n",
       " 0.5628,\n",
       " 0.8402,\n",
       " 0.6227,\n",
       " 0.5123,\n",
       " 0.6461,\n",
       " 0.3473,\n",
       " 0.4855,\n",
       " 0.2659,\n",
       " 0.4487,\n",
       " 0.5168,\n",
       " 0.6613,\n",
       " 0.6316,\n",
       " 0.5818,\n",
       " 0.4198,\n",
       " 0.3417,\n",
       " 0.4129,\n",
       " 0.5143,\n",
       " 0.5412,\n",
       " 0.6096,\n",
       " 0.559,\n",
       " 0.4267,\n",
       " 0.5327,\n",
       " 0.547,\n",
       " 0.7988,\n",
       " 0.618,\n",
       " 0.3313,\n",
       " 0.4202,\n",
       " 0.5208,\n",
       " 0.6685,\n",
       " 0.4311,\n",
       " 0.6243,\n",
       " 0.7452,\n",
       " 0.3311,\n",
       " 0.4326,\n",
       " 0.5797,\n",
       " 0.3864,\n",
       " 0.487,\n",
       " 0.6121,\n",
       " 0.6799,\n",
       " 0.5303,\n",
       " 0.7098,\n",
       " 0.3668,\n",
       " 0.6063,\n",
       " 0.4524,\n",
       " 0.6219,\n",
       " 0.4922,\n",
       " 0.5893,\n",
       " 0.5756,\n",
       " 0.3139,\n",
       " 0.5593,\n",
       " 0.6576,\n",
       " 0.4614,\n",
       " 0.3534,\n",
       " 0.4593,\n",
       " 0.45,\n",
       " 0.4612,\n",
       " 0.4585,\n",
       " 0.6304,\n",
       " 0.47,\n",
       " 0.7861,\n",
       " 0.6638,\n",
       " 0.4584,\n",
       " 0.7223,\n",
       " 0.2734,\n",
       " 0.588,\n",
       " 0.6346,\n",
       " 0.6861,\n",
       " 0.6396,\n",
       " 0.8353,\n",
       " 0.5244,\n",
       " 0.6518,\n",
       " 0.3518,\n",
       " 0.7449,\n",
       " 0.6715,\n",
       " 0.3148,\n",
       " 0.4275,\n",
       " 0.5113,\n",
       " 0.4518,\n",
       " 0.6132,\n",
       " 0.5172,\n",
       " 0.8166,\n",
       " 0.3982,\n",
       " 0.2092,\n",
       " 0.5838,\n",
       " 0.7637,\n",
       " 0.6046,\n",
       " 0.4435,\n",
       " 0.5183,\n",
       " 0.6759,\n",
       " 0.4924,\n",
       " 0.3152,\n",
       " 0.8411,\n",
       " 0.6168,\n",
       " 0.3758,\n",
       " 0.4154,\n",
       " 0.5931,\n",
       " 0.9111,\n",
       " 0.7528,\n",
       " 0.634,\n",
       " 0.7709,\n",
       " 0.576,\n",
       " 0.4758,\n",
       " 0.7931,\n",
       " 0.6475,\n",
       " 0.6396,\n",
       " 0.5526,\n",
       " 0.6509,\n",
       " 0.5144,\n",
       " 0.702,\n",
       " 0.5058,\n",
       " 0.7302,\n",
       " 0.2819,\n",
       " 0.5004,\n",
       " 0.3009,\n",
       " 0.3558,\n",
       " 0.6002,\n",
       " 0.3844,\n",
       " 0.535,\n",
       " 0.4518,\n",
       " 0.3259,\n",
       " 0.451,\n",
       " 0.5928,\n",
       " 0.5557,\n",
       " 0.3082,\n",
       " 0.4801,\n",
       " 0.4886,\n",
       " 0.7366,\n",
       " 0.7018,\n",
       " 0.3808,\n",
       " 0.6289,\n",
       " 0.7308,\n",
       " 0.4411,\n",
       " 0.4428,\n",
       " 0.5235,\n",
       " 0.6402,\n",
       " 0.7693,\n",
       " 0.3219,\n",
       " 0.4414,\n",
       " 0.5472,\n",
       " 0.2884,\n",
       " 0.3905,\n",
       " 0.4653,\n",
       " 0.5854,\n",
       " 0.5202,\n",
       " 0.759,\n",
       " 0.4793,\n",
       " 0.2945,\n",
       " 0.5823,\n",
       " 0.4434,\n",
       " 0.4975,\n",
       " 0.658,\n",
       " 0.6592,\n",
       " 0.7713,\n",
       " 0.626,\n",
       " 0.4269,\n",
       " 0.4399,\n",
       " 0.7613,\n",
       " 0.4497,\n",
       " 0.5828,\n",
       " 0.6198,\n",
       " 0.1863,\n",
       " 0.6704,\n",
       " 0.3223,\n",
       " 0.5492,\n",
       " 0.3524,\n",
       " 0.3387,\n",
       " 0.5502,\n",
       " 0.5562,\n",
       " 0.364,\n",
       " 0.5369,\n",
       " 0.6445,\n",
       " 0.6402,\n",
       " 0.5179,\n",
       " 0.4062,\n",
       " 0.4471,\n",
       " 0.5483,\n",
       " 0.5043,\n",
       " 0.6314,\n",
       " 0.5364,\n",
       " 0.7337,\n",
       " 0.4559,\n",
       " 0.3717,\n",
       " 0.3668,\n",
       " 0.6297,\n",
       " 0.2862,\n",
       " 0.4045,\n",
       " 0.4963,\n",
       " 0.477,\n",
       " 0.5181,\n",
       " 0.5643,\n",
       " 0.511,\n",
       " 0.6335,\n",
       " 0.5003,\n",
       " 0.6038,\n",
       " 0.5691,\n",
       " 0.6163,\n",
       " 0.6277,\n",
       " 0.4569,\n",
       " 0.4467,\n",
       " 0.6303,\n",
       " 0.3016,\n",
       " 0.5949,\n",
       " 0.5052,\n",
       " 0.6378,\n",
       " 0.2546,\n",
       " 0.5225,\n",
       " 0.6636,\n",
       " 0.7138,\n",
       " 0.4474,\n",
       " 0.4626,\n",
       " 0.8339,\n",
       " 0.3387,\n",
       " 0.3238,\n",
       " 0.6387,\n",
       " 0.6095,\n",
       " 0.2817,\n",
       " 0.5669,\n",
       " 0.6932,\n",
       " 0.6018,\n",
       " 0.5152,\n",
       " 0.4666,\n",
       " 0.178,\n",
       " 0.62,\n",
       " 0.5463,\n",
       " 0.3305,\n",
       " 0.5415,\n",
       " 0.3799,\n",
       " 0.5896,\n",
       " 0.2636,\n",
       " 0.8901,\n",
       " 0.8242,\n",
       " 0.7055,\n",
       " 0.4451,\n",
       " 0.3623,\n",
       " 0.6986,\n",
       " 0.669,\n",
       " 0.6395,\n",
       " 0.5315,\n",
       " 0.5114,\n",
       " 0.6009,\n",
       " 0.4432,\n",
       " 0.6767,\n",
       " 0.6577,\n",
       " 0.7832,\n",
       " 0.3562,\n",
       " 0.7846,\n",
       " 0.4253,\n",
       " 0.6864,\n",
       " 0.5592,\n",
       " 0.6809,\n",
       " 0.4098,\n",
       " 0.4474,\n",
       " 0.5312,\n",
       " 0.522,\n",
       " 0.3325,\n",
       " 0.3713,\n",
       " 0.6066,\n",
       " 0.4111,\n",
       " 0.3671,\n",
       " 0.3496,\n",
       " 0.6254,\n",
       " 0.642,\n",
       " 0.4396,\n",
       " 0.4577,\n",
       " 0.4102,\n",
       " 0.5566,\n",
       " 0.5701,\n",
       " 0.568,\n",
       " 0.2418,\n",
       " 0.4409,\n",
       " 0.4261,\n",
       " 0.3961,\n",
       " 0.5802,\n",
       " 0.4854,\n",
       " 0.5763,\n",
       " 0.5795,\n",
       " 0.675,\n",
       " 0.524,\n",
       " 0.4334,\n",
       " 0.5367,\n",
       " 0.4282,\n",
       " 0.5814,\n",
       " 0.4457,\n",
       " 0.6668,\n",
       " 0.6573,\n",
       " 0.3874,\n",
       " 0.3753,\n",
       " 0.4206,\n",
       " 0.7567,\n",
       " 0.4995,\n",
       " 0.3796,\n",
       " 0.5496,\n",
       " 0.4039,\n",
       " 0.5377,\n",
       " 0.4519,\n",
       " 0.55,\n",
       " 0.6923,\n",
       " 0.7646,\n",
       " 0.5634,\n",
       " 0.737,\n",
       " 0.337,\n",
       " 0.7206,\n",
       " 0.4868,\n",
       " 0.6735,\n",
       " 0.654,\n",
       " 0.6063,\n",
       " 0.5304,\n",
       " 0.6917,\n",
       " 0.3921,\n",
       " 0.2264,\n",
       " 0.6099,\n",
       " 0.3854,\n",
       " 0.3777,\n",
       " 0.5701,\n",
       " 0.5697,\n",
       " 0.5613,\n",
       " 0.6154,\n",
       " 0.4523,\n",
       " 0.33,\n",
       " 0.5436,\n",
       " 0.612,\n",
       " 0.6196,\n",
       " 0.3421,\n",
       " 0.4725,\n",
       " 0.6373,\n",
       " 0.8042,\n",
       " 0.6678,\n",
       " 0.243,\n",
       " 0.4135,\n",
       " 0.2679,\n",
       " 0.4838,\n",
       " 0.5558,\n",
       " 0.5204,\n",
       " 0.759,\n",
       " 0.5233,\n",
       " 0.7641,\n",
       " 0.6071,\n",
       " 0.6049,\n",
       " 0.3552,\n",
       " 0.5341,\n",
       " 0.4876,\n",
       " 0.6517,\n",
       " 0.6914,\n",
       " 0.7736,\n",
       " 0.8279,\n",
       " 0.3232,\n",
       " 0.4431,\n",
       " 0.634,\n",
       " 0.4885,\n",
       " 0.458,\n",
       " 0.7188,\n",
       " 0.6898,\n",
       " 0.8763,\n",
       " 0.3458,\n",
       " 0.6375,\n",
       " 0.6072,\n",
       " 0.3502,\n",
       " 0.566,\n",
       " 0.4795,\n",
       " 0.463,\n",
       " 0.4668,\n",
       " 0.4871,\n",
       " 0.6646,\n",
       " 0.5004,\n",
       " 0.8496,\n",
       " 0.3783,\n",
       " 0.4973,\n",
       " 0.4379,\n",
       " 0.7312,\n",
       " 0.7293,\n",
       " 0.6553,\n",
       " 0.3968,\n",
       " 0.5832,\n",
       " 0.633,\n",
       " 0.4967,\n",
       " 0.4675,\n",
       " 0.4383,\n",
       " 0.2918,\n",
       " 0.3479,\n",
       " 0.4895,\n",
       " 0.3627,\n",
       " 0.4925,\n",
       " 0.5115,\n",
       " 0.2719,\n",
       " 0.6934,\n",
       " 0.5928,\n",
       " 0.7282,\n",
       " 0.5872,\n",
       " 0.4193,\n",
       " 0.5675,\n",
       " 0.3499,\n",
       " 0.3466,\n",
       " 0.4128,\n",
       " 0.4774,\n",
       " 0.6482,\n",
       " 0.6786,\n",
       " 0.4259,\n",
       " 0.6931,\n",
       " 0.3171,\n",
       " 0.591,\n",
       " 0.2343,\n",
       " 0.4329,\n",
       " 0.4065,\n",
       " 0.6324,\n",
       " 0.5047,\n",
       " 0.4338,\n",
       " 0.4681,\n",
       " 0.492,\n",
       " 0.4795,\n",
       " 0.6155,\n",
       " 0.3229,\n",
       " 0.4725,\n",
       " 0.449,\n",
       " 0.5221,\n",
       " 0.4598,\n",
       " 0.3162,\n",
       " 0.8136,\n",
       " 0.6256,\n",
       " 0.3691,\n",
       " 0.3989,\n",
       " 0.3897,\n",
       " 0.3674,\n",
       " 0.6812,\n",
       " 0.4511,\n",
       " 0.3993,\n",
       " 0.3479,\n",
       " 0.848,\n",
       " 0.5824,\n",
       " 0.4704,\n",
       " 0.386,\n",
       " 0.7466,\n",
       " 0.4125,\n",
       " 0.6678,\n",
       " 0.6429,\n",
       " 0.6395,\n",
       " 0.4794,\n",
       " 0.5967,\n",
       " 0.7021,\n",
       " 0.6921,\n",
       " 0.7,\n",
       " 0.3631,\n",
       " 0.7317,\n",
       " 0.4056,\n",
       " 0.4403,\n",
       " 0.4833,\n",
       " 0.8251,\n",
       " 0.5879,\n",
       " 0.4085,\n",
       " 0.2791,\n",
       " 0.7928,\n",
       " 0.4985,\n",
       " 0.6219,\n",
       " 0.5605,\n",
       " 0.405,\n",
       " 0.4967,\n",
       " 0.5815,\n",
       " 0.5439,\n",
       " 0.294,\n",
       " 0.5924,\n",
       " 0.7338,\n",
       " 0.3937,\n",
       " 0.316,\n",
       " 0.703,\n",
       " 0.6663,\n",
       " 0.3593,\n",
       " 0.7188,\n",
       " 0.355,\n",
       " 0.5459,\n",
       " 0.5727,\n",
       " 0.4809,\n",
       " 0.3813,\n",
       " 0.337,\n",
       " 0.484,\n",
       " 0.3825,\n",
       " 0.6486,\n",
       " 0.3197,\n",
       " 0.8067,\n",
       " 0.516,\n",
       " 0.4989,\n",
       " 0.4323,\n",
       " 0.4604,\n",
       " 0.4109,\n",
       " 0.8135,\n",
       " 0.5345,\n",
       " 0.4837,\n",
       " 0.608,\n",
       " 0.5346,\n",
       " 0.4766,\n",
       " 0.5387,\n",
       " 0.3912,\n",
       " 0.6316,\n",
       " 0.7129,\n",
       " 0.4999,\n",
       " 0.4207,\n",
       " 0.5672,\n",
       " 0.4038,\n",
       " 0.4508,\n",
       " 0.4916,\n",
       " 0.6749,\n",
       " 0.5725,\n",
       " 0.5219,\n",
       " 0.5328,\n",
       " 0.308,\n",
       " 0.4847,\n",
       " 0.6689,\n",
       " 0.6688,\n",
       " 0.6384,\n",
       " 0.3529,\n",
       " 0.4914,\n",
       " 0.5041,\n",
       " 0.6151,\n",
       " 0.4892,\n",
       " 0.5807,\n",
       " 0.4971,\n",
       " 0.4862,\n",
       " 0.6301,\n",
       " 0.4581,\n",
       " 0.3955,\n",
       " 0.5598,\n",
       " 0.6437,\n",
       " 0.3943,\n",
       " 0.3157,\n",
       " 0.2679,\n",
       " 0.6267,\n",
       " 0.3936,\n",
       " 0.5428,\n",
       " 0.4399,\n",
       " 0.2938,\n",
       " 0.631,\n",
       " 0.2488,\n",
       " 0.6149,\n",
       " 0.2358,\n",
       " 0.8486,\n",
       " 0.3793,\n",
       " 0.4558,\n",
       " 0.5772,\n",
       " 0.4414,\n",
       " 0.2499,\n",
       " 0.5071,\n",
       " 0.4994,\n",
       " 0.4359,\n",
       " 0.7779,\n",
       " 0.4399,\n",
       " 0.6806,\n",
       " 0.2331,\n",
       " 0.572,\n",
       " 0.3172,\n",
       " 0.64,\n",
       " 0.5232,\n",
       " 0.3929,\n",
       " 0.31,\n",
       " 0.7125,\n",
       " 0.406,\n",
       " 0.4711,\n",
       " 0.6232,\n",
       " 0.3612,\n",
       " 0.6145,\n",
       " 0.528,\n",
       " 0.5906,\n",
       " 0.5067,\n",
       " 0.5184,\n",
       " 0.7269,\n",
       " 0.3316,\n",
       " 0.4604,\n",
       " 0.5699,\n",
       " 0.5474,\n",
       " 0.3022,\n",
       " 0.4909,\n",
       " 0.5138,\n",
       " 0.6236,\n",
       " 0.677,\n",
       " 0.3777,\n",
       " 0.5307,\n",
       " 0.2986,\n",
       " 0.5794,\n",
       " 0.6575,\n",
       " 0.2507,\n",
       " 0.5363,\n",
       " 0.4293,\n",
       " 0.4079,\n",
       " 0.6417,\n",
       " 0.4766,\n",
       " 0.6552,\n",
       " 0.4445,\n",
       " 0.5477,\n",
       " 0.6731,\n",
       " 0.7664,\n",
       " 0.5446,\n",
       " 0.5883,\n",
       " 0.5713,\n",
       " 0.3004,\n",
       " 0.4901,\n",
       " 0.6125,\n",
       " 0.4587,\n",
       " 0.6392,\n",
       " 0.6148,\n",
       " 0.7467,\n",
       " 0.595,\n",
       " 0.6709,\n",
       " 0.5965,\n",
       " 0.43,\n",
       " 0.2949,\n",
       " 0.4421,\n",
       " 0.6154,\n",
       " 0.5415,\n",
       " 0.5889,\n",
       " 0.605,\n",
       " 0.6023,\n",
       " 0.5889,\n",
       " 0.4029,\n",
       " 0.4466,\n",
       " 0.3022,\n",
       " 0.4674,\n",
       " 0.5071,\n",
       " 0.4077,\n",
       " 0.6073,\n",
       " 0.5605,\n",
       " 0.3836,\n",
       " 0.3188,\n",
       " 0.5452,\n",
       " 0.548,\n",
       " 0.3532,\n",
       " 0.3529,\n",
       " 0.6062,\n",
       " 0.5388,\n",
       " 0.7977,\n",
       " 0.5387,\n",
       " 0.6118,\n",
       " 0.3838,\n",
       " 0.4282,\n",
       " 0.2892,\n",
       " 0.3638,\n",
       " 0.3808,\n",
       " 0.7694,\n",
       " 0.2579,\n",
       " 0.6673,\n",
       " 0.4754,\n",
       " 0.3083,\n",
       " 0.2554,\n",
       " 0.2609,\n",
       " 0.544,\n",
       " 0.5828,\n",
       " 0.6784,\n",
       " 0.4111,\n",
       " 0.5738,\n",
       " 0.4025,\n",
       " 0.3443,\n",
       " 0.4753,\n",
       " 0.5316,\n",
       " 0.4228,\n",
       " 0.4985,\n",
       " 0.4414,\n",
       " 0.5772,\n",
       " 0.696,\n",
       " 0.6841,\n",
       " 0.7924,\n",
       " 0.2743,\n",
       " 0.629,\n",
       " 0.479,\n",
       " 0.3021,\n",
       " 0.5431,\n",
       " 0.3459,\n",
       " 0.3804,\n",
       " 0.5738,\n",
       " 0.5633,\n",
       " 0.8005,\n",
       " 0.516,\n",
       " 0.5759,\n",
       " 0.6997,\n",
       " 0.7058,\n",
       " 0.5826,\n",
       " 0.5105,\n",
       " 0.4019,\n",
       " 0.4324,\n",
       " 0.4904,\n",
       " 0.3435,\n",
       " 0.5002,\n",
       " 0.3739,\n",
       " 0.6936,\n",
       " 0.4024,\n",
       " 0.7597,\n",
       " 0.7084,\n",
       " 0.3236,\n",
       " 0.7019,\n",
       " 0.6752,\n",
       " 0.5091,\n",
       " 0.4643,\n",
       " 0.5442,\n",
       " 0.4949,\n",
       " 0.725,\n",
       " 0.3536,\n",
       " 0.2242,\n",
       " 0.6241,\n",
       " 0.446,\n",
       " 0.5834,\n",
       " 0.549,\n",
       " 0.4629,\n",
       " 0.5023,\n",
       " 0.708,\n",
       " 0.5203,\n",
       " 0.5155,\n",
       " 0.5459,\n",
       " 0.307,\n",
       " 0.5229,\n",
       " 0.3732,\n",
       " 0.3986,\n",
       " 0.4703,\n",
       " 0.5895,\n",
       " 0.4715,\n",
       " 0.3733,\n",
       " 0.4205,\n",
       " 0.3841,\n",
       " 0.3778,\n",
       " 0.7568,\n",
       " 0.5964,\n",
       " 0.6461,\n",
       " 0.6444,\n",
       " 0.2715,\n",
       " 0.6004,\n",
       " 0.4274,\n",
       " 0.5092,\n",
       " 0.4667,\n",
       " 0.7398,\n",
       " 0.3914,\n",
       " 0.5189,\n",
       " 0.4464,\n",
       " 0.6532,\n",
       " 0.4145,\n",
       " 0.4833,\n",
       " 0.6985,\n",
       " 0.8455,\n",
       " 0.27,\n",
       " 0.4089,\n",
       " 0.596,\n",
       " 0.5058,\n",
       " 0.5102,\n",
       " 0.5025,\n",
       " 0.5722,\n",
       " 0.6116,\n",
       " 0.6382,\n",
       " 0.462,\n",
       " 0.7535,\n",
       " 0.3992,\n",
       " 0.7167,\n",
       " 0.4637,\n",
       " 0.3532,\n",
       " 0.604,\n",
       " 0.4452,\n",
       " 0.8048,\n",
       " 0.588,\n",
       " 0.6778,\n",
       " 0.337,\n",
       " 0.2599,\n",
       " 0.265,\n",
       " 0.4723,\n",
       " 0.3291,\n",
       " 0.6786,\n",
       " 0.2871,\n",
       " 0.4473,\n",
       " 0.7289,\n",
       " 0.4545,\n",
       " 0.5735,\n",
       " 0.2498,\n",
       " 0.5184,\n",
       " 0.5661,\n",
       " 0.4963,\n",
       " 0.4288,\n",
       " 0.496,\n",
       " 0.5584,\n",
       " 0.4607,\n",
       " 0.4714,\n",
       " 0.5568,\n",
       " 0.7507,\n",
       " 0.3947,\n",
       " 0.2517,\n",
       " 0.7127,\n",
       " 0.3363,\n",
       " 0.6283,\n",
       " 0.4243,\n",
       " 0.4148,\n",
       " 0.4048,\n",
       " 0.4208,\n",
       " 0.4727,\n",
       " 0.7343,\n",
       " 0.311,\n",
       " 0.407,\n",
       " 0.4537,\n",
       " 0.4641,\n",
       " 0.4608,\n",
       " 0.5426,\n",
       " 0.4294,\n",
       " 0.7114,\n",
       " 0.4014,\n",
       " 0.5607,\n",
       " 0.4707,\n",
       " 0.3504,\n",
       " 0.528,\n",
       " 0.3882,\n",
       " 0.5349,\n",
       " 0.4519,\n",
       " 0.4001,\n",
       " 0.3591,\n",
       " 0.6296,\n",
       " 0.4863,\n",
       " 0.3734,\n",
       " 0.8866,\n",
       " 0.4366,\n",
       " 0.6084,\n",
       " 0.5775,\n",
       " 0.2869,\n",
       " 0.5813,\n",
       " 0.4891,\n",
       " 0.4371,\n",
       " 0.8024,\n",
       " 0.5606,\n",
       " 0.6231,\n",
       " 0.5695,\n",
       " 0.81,\n",
       " 0.7674,\n",
       " 0.4205,\n",
       " 0.5093,\n",
       " 0.637,\n",
       " 0.8239,\n",
       " 0.3744,\n",
       " 0.7135,\n",
       " 0.5655,\n",
       " 0.3967,\n",
       " 0.8168,\n",
       " 0.6386,\n",
       " 0.4337,\n",
       " 0.4115,\n",
       " 0.4056,\n",
       " 0.3586,\n",
       " 0.5335,\n",
       " 0.5012,\n",
       " 0.3796,\n",
       " 0.4513,\n",
       " 0.2188,\n",
       " 0.3606,\n",
       " 0.6051,\n",
       " 0.8189,\n",
       " 0.592,\n",
       " 0.618,\n",
       " 0.3352,\n",
       " 0.528,\n",
       " 0.6298,\n",
       " 0.6275,\n",
       " 0.4557,\n",
       " 0.5024,\n",
       " 0.6833,\n",
       " 0.3473,\n",
       " 0.5344,\n",
       " 0.4905,\n",
       " 0.398,\n",
       " 0.6077,\n",
       " 0.5555,\n",
       " 0.352,\n",
       " 0.6912,\n",
       " 0.5525,\n",
       " 0.494,\n",
       " 0.8399,\n",
       " 0.4874,\n",
       " 0.3968,\n",
       " 0.6377,\n",
       " 0.3848,\n",
       " 0.3325,\n",
       " 0.1778,\n",
       " 0.4096,\n",
       " 0.2639,\n",
       " 0.5506,\n",
       " 0.3801,\n",
       " 0.6185,\n",
       " 0.8872,\n",
       " 0.4348,\n",
       " 0.3989,\n",
       " 0.42,\n",
       " 0.466,\n",
       " 0.6655,\n",
       " 0.3532,\n",
       " 0.6155,\n",
       " 0.4126,\n",
       " 0.6245,\n",
       " 0.7801,\n",
       " 0.7324,\n",
       " 0.5236,\n",
       " 0.5496,\n",
       " 0.5168,\n",
       " 0.3397,\n",
       " 0.3661,\n",
       " 0.4771,\n",
       " 0.3831,\n",
       " 0.6474,\n",
       " 0.3855,\n",
       " 0.6456,\n",
       " 0.3516,\n",
       " 0.4837,\n",
       " 0.621,\n",
       " 0.4745,\n",
       " 0.5537,\n",
       " 0.5063,\n",
       " 0.5099,\n",
       " 0.6262,\n",
       " 0.321,\n",
       " 0.5124,\n",
       " 0.811,\n",
       " 0.5512,\n",
       " 0.5618,\n",
       " 0.5456,\n",
       " 0.458,\n",
       " 0.449,\n",
       " 0.3794,\n",
       " 0.3365,\n",
       " 0.9065,\n",
       " 0.543,\n",
       " 0.6211,\n",
       " 0.638,\n",
       " 0.5158,\n",
       " 0.336,\n",
       " 0.5527,\n",
       " 0.601,\n",
       " 0.5444,\n",
       " 0.4096,\n",
       " 0.6818,\n",
       " 0.5039,\n",
       " 0.7573,\n",
       " 0.6272,\n",
       " 0.41,\n",
       " 0.467,\n",
       " 0.29,\n",
       " 0.5374,\n",
       " 0.6408,\n",
       " 0.5644,\n",
       " 0.5603,\n",
       " 0.623,\n",
       " 0.6709,\n",
       " 0.6694,\n",
       " 0.6783,\n",
       " 0.3698,\n",
       " 0.4786,\n",
       " 0.6211,\n",
       " 0.4996,\n",
       " 0.7069,\n",
       " 0.3055,\n",
       " 0.4788,\n",
       " 0.7085,\n",
       " 0.3831,\n",
       " 0.6653,\n",
       " 0.571,\n",
       " 0.5076,\n",
       " 0.4791,\n",
       " 0.5753,\n",
       " 0.2885,\n",
       " 0.5392,\n",
       " 0.5336,\n",
       " 0.3664,\n",
       " 0.5229,\n",
       " 0.3979,\n",
       " 0.6381,\n",
       " 0.5785,\n",
       " 0.5733,\n",
       " 0.5172,\n",
       " 0.5106,\n",
       " 0.2415,\n",
       " 0.4819,\n",
       " 0.4782,\n",
       " 0.6476,\n",
       " 0.4209,\n",
       " 0.4756,\n",
       " 0.7736,\n",
       " 0.5783,\n",
       " 0.5525,\n",
       " 0.6757,\n",
       " 0.4389,\n",
       " 0.5388,\n",
       " ...]"
      ]
     },
     "execution_count": 33,
     "metadata": {},
     "output_type": "execute_result"
    }
   ],
   "source": [
    "y_pred_proba_list = grid.predict_proba(X_test)\n",
    "y_pred_proba_list = list(y_pred_proba_list[ :, 0])\n",
    "y_pred_proba_list = [round(x, 4) for x in y_pred_proba_list]\n",
    "y_pred_proba_list"
   ]
  },
  {
   "cell_type": "code",
   "execution_count": 36,
   "metadata": {},
   "outputs": [],
   "source": [
    "def calcul_pnl_one_complexe(montant, \n",
    "                            y_true, \n",
    "                            y_pred_proba, \n",
    "                            taux=0.04, \n",
    "                            default_rate=1, \n",
    "                            threshold=0.5, ):\n",
    "\n",
    "\n",
    "    y_pred = 0 if y_pred_proba > threshold else 1\n",
    "\n",
    "    if y_pred : \n",
    "        return 0\n",
    "    \n",
    "    if y_true :\n",
    "        return -default_rate* montant\n",
    "\n",
    "    return montant * taux"
   ]
  },
  {
   "cell_type": "code",
   "execution_count": 37,
   "metadata": {},
   "outputs": [
    {
     "data": {
      "text/plain": [
       "-113743974.60000107"
      ]
     },
     "execution_count": 37,
     "metadata": {},
     "output_type": "execute_result"
    }
   ],
   "source": [
    "v = 0\n",
    "for m, y_true, y_pred_proba in zip(montant_list, y_true_list, y_pred_proba_list):\n",
    "    v += calcul_pnl_one_complexe(m, y_true=y_true, y_pred_proba=y_pred_proba)\n",
    "v"
   ]
  },
  {
   "cell_type": "code",
   "execution_count": 38,
   "metadata": {},
   "outputs": [
    {
     "data": {
      "text/plain": [
       "-536612589.71999776"
      ]
     },
     "execution_count": 38,
     "metadata": {},
     "output_type": "execute_result"
    }
   ],
   "source": [
    "v = 0\n",
    "for m, y_true, y_pred_proba in zip(montant_list, y_true_list, y_pred_proba_list):\n",
    "    v += calcul_pnl_one_complexe(m, y_true=y_true, y_pred_proba=y_pred_proba,threshold=0.0)\n",
    "v"
   ]
  },
  {
   "cell_type": "code",
   "execution_count": 39,
   "metadata": {},
   "outputs": [
    {
     "data": {
      "text/plain": [
       "0"
      ]
     },
     "execution_count": 39,
     "metadata": {},
     "output_type": "execute_result"
    }
   ],
   "source": [
    "v = 0\n",
    "for m, y_true, y_pred_proba in zip(montant_list, y_true_list, y_pred_proba_list):\n",
    "    v += calcul_pnl_one_complexe(m, y_true=y_true, y_pred_proba=y_pred_proba,threshold=1)\n",
    "v"
   ]
  },
  {
   "cell_type": "code",
   "execution_count": 40,
   "metadata": {},
   "outputs": [],
   "source": [
    "threshold_list = np.linspace(0, 1, 100)\n",
    "pnl_list = []\n",
    "\n",
    "_\n",
    "taux = 0.04\n",
    "default_rate = 1 \n",
    "for threshold in threshold_list:\n",
    "    v = 0\n",
    "    for m, y_true, y_pred_proba in zip(montant_list, y_true_list, y_pred_proba_list):\n",
    "        v += calcul_pnl_one_complexe(m, y_true=y_true, y_pred_proba=y_pred_proba,threshold=threshold, default_rate=default_rate, taux=taux  )\n",
    "    pnl_list.append(v)"
   ]
  },
  {
   "cell_type": "code",
   "execution_count": 41,
   "metadata": {},
   "outputs": [
    {
     "data": {
      "text/plain": [
       "[<matplotlib.lines.Line2D at 0x7fe9fd249180>]"
      ]
     },
     "execution_count": 41,
     "metadata": {},
     "output_type": "execute_result"
    },
    {
     "data": {
      "image/png": "[encoded data removed]",
      "text/plain": [
       "<Figure size 640x480 with 1 Axes>"
      ]
     },
     "metadata": {},
     "output_type": "display_data"
    }
   ],
   "source": [
    "plt.plot(threshold_list, pnl_list)"
   ]
  },
  {
   "cell_type": "code",
   "execution_count": 43,
   "metadata": {},
   "outputs": [
    {
     "data": {
      "application/vnd.plotly.v1+json": {
       "config": {
        "plotlyServerURL": "https://plot.ly"
       },
       "data": [
        {
         "hovertemplate": "x=%{x}<br>y=%{y}<extra></extra>",
         "legendgroup": "",
         "line": {
          "color": "#636efa",
          "dash": "solid"
         },
         "marker": {
          "symbol": "circle"
         },
         "mode": "lines",
         "name": "",
         "orientation": "v",
         "showlegend": false,
         "type": "scatter",
         "x": [
          0,
          0.010101010101010102,
          0.020202020202020204,
          0.030303030303030304,
          0.04040404040404041,
          0.05050505050505051,
          0.06060606060606061,
          0.07070707070707072,
          0.08080808080808081,
          0.09090909090909091,
          0.10101010101010102,
          0.11111111111111112,
          0.12121212121212122,
          0.13131313131313133,
          0.14141414141414144,
          0.15151515151515152,
          0.16161616161616163,
          0.17171717171717174,
          0.18181818181818182,
          0.19191919191919193,
          0.20202020202020204,
          0.21212121212121213,
          0.22222222222222224,
          0.23232323232323235,
          0.24242424242424243,
          0.25252525252525254,
          0.26262626262626265,
          0.27272727272727276,
          0.2828282828282829,
          0.29292929292929293,
          0.30303030303030304,
          0.31313131313131315,
          0.32323232323232326,
          0.33333333333333337,
          0.3434343434343435,
          0.3535353535353536,
          0.36363636363636365,
          0.37373737373737376,
          0.38383838383838387,
          0.393939393939394,
          0.4040404040404041,
          0.4141414141414142,
          0.42424242424242425,
          0.43434343434343436,
          0.4444444444444445,
          0.4545454545454546,
          0.4646464646464647,
          0.4747474747474748,
          0.48484848484848486,
          0.494949494949495,
          0.5050505050505051,
          0.5151515151515152,
          0.5252525252525253,
          0.5353535353535354,
          0.5454545454545455,
          0.5555555555555556,
          0.5656565656565657,
          0.5757575757575758,
          0.5858585858585859,
          0.595959595959596,
          0.6060606060606061,
          0.6161616161616162,
          0.6262626262626263,
          0.6363636363636365,
          0.6464646464646465,
          0.6565656565656566,
          0.6666666666666667,
          0.6767676767676768,
          0.686868686868687,
          0.696969696969697,
          0.7070707070707072,
          0.7171717171717172,
          0.7272727272727273,
          0.7373737373737375,
          0.7474747474747475,
          0.7575757575757577,
          0.7676767676767677,
          0.7777777777777778,
          0.787878787878788,
          0.797979797979798,
          0.8080808080808082,
          0.8181818181818182,
          0.8282828282828284,
          0.8383838383838385,
          0.8484848484848485,
          0.8585858585858587,
          0.8686868686868687,
          0.8787878787878789,
          0.888888888888889,
          0.8989898989898991,
          0.9090909090909092,
          0.9191919191919192,
          0.9292929292929294,
          0.9393939393939394,
          0.9494949494949496,
          0.9595959595959597,
          0.9696969696969697,
          0.9797979797979799,
          0.98989898989899,
          1
         ],
         "xaxis": "x",
         "y": [
          -536612589.71999776,
          -536612589.71999776,
          -536612589.71999776,
          -536612589.71999776,
          -536612589.71999776,
          -536612589.71999776,
          -536612589.71999776,
          -536612589.71999776,
          -536612589.71999776,
          -536612589.71999776,
          -536612589.71999776,
          -536634042.83999777,
          -536634042.83999777,
          -536035830.83999777,
          -535419453.2399977,
          -535445056.4399977,
          -535516165.4399977,
          -535416667.7399977,
          -533362828.31999755,
          -532091429.6399976,
          -527419648.9799976,
          -524724459.6599977,
          -519178902.11999875,
          -514397123.2799989,
          -507956752.0799988,
          -500028795.1799992,
          -487001648.69999915,
          -472073258.879999,
          -456085020.2399989,
          -446141456.0999989,
          -435601367.9999985,
          -422537864.57999885,
          -407502947.87999934,
          -391244558.21999997,
          -371214804.4200003,
          -356334086.5200008,
          -339385537.4400011,
          -317816816.0400015,
          -297014668.0200011,
          -280987266.9600023,
          -258651995.58000314,
          -246872504.16000235,
          -230526889.0200019,
          -215455979.88000184,
          -203003719.7400015,
          -184775930.46000135,
          -160953795.7200016,
          -145627635.0600017,
          -137390642.2800013,
          -119473844.04000103,
          -112149280.80000101,
          -98186110.92000069,
          -86843577.78000054,
          -75518056.80000025,
          -68154274.98000023,
          -59330167.74000002,
          -56687493.96000003,
          -44499809.33999988,
          -34850042.81999983,
          -23452813.439999864,
          -15024158.2799999,
          -3314117.8800000157,
          -491694.47999999754,
          4385731.860000009,
          9618816.060000036,
          10415503.980000025,
          10333101.78000002,
          7328495.339999988,
          8715344.760000004,
          4705794.180000005,
          7522774.559999996,
          12400570.80000002,
          11547057.420000019,
          8302547.880000003,
          7880981.760000001,
          6276445.199999999,
          4088289.239999999,
          5248324.079999999,
          3726604.2600000002,
          6188734.259999998,
          7250018.4,
          5470284.42,
          3209234.5799999996,
          4472270.1,
          2319319.4400000004,
          690059.16,
          945953.8200000002,
          3705353.8199999994,
          3129401.34,
          2055943.08,
          1408483.08,
          1162440,
          414000,
          270000,
          198000,
          144000,
          90000,
          0,
          0,
          0
         ],
         "yaxis": "y"
        }
       ],
       "layout": {
        "legend": {
         "tracegroupgap": 0
        },
        "margin": {
         "t": 60
        },
        "template": {
         "data": {
          "bar": [
           {
            "error_x": {
             "color": "#2a3f5f"
            },
            "error_y": {
             "color": "#2a3f5f"
            },
            "marker": {
             "line": {
              "color": "#E5ECF6",
              "width": 0.5
             },
             "pattern": {
              "fillmode": "overlay",
              "size": 10,
              "solidity": 0.2
             }
            },
            "type": "bar"
           }
          ],
          "barpolar": [
           {
            "marker": {
             "line": {
              "color": "#E5ECF6",
              "width": 0.5
             },
             "pattern": {
              "fillmode": "overlay",
              "size": 10,
              "solidity": 0.2
             }
            },
            "type": "barpolar"
           }
          ],
          "carpet": [
           {
            "aaxis": {
             "endlinecolor": "#2a3f5f",
             "gridcolor": "white",
             "linecolor": "white",
             "minorgridcolor": "white",
             "startlinecolor": "#2a3f5f"
            },
            "baxis": {
             "endlinecolor": "#2a3f5f",
             "gridcolor": "white",
             "linecolor": "white",
             "minorgridcolor": "white",
             "startlinecolor": "#2a3f5f"
            },
            "type": "carpet"
           }
          ],
          "choropleth": [
           {
            "colorbar": {
             "outlinewidth": 0,
             "ticks": ""
            },
            "type": "choropleth"
           }
          ],
          "contour": [
           {
            "colorbar": {
             "outlinewidth": 0,
             "ticks": ""
            },
            "colorscale": [
             [
              0,
              "#0d0887"
             ],
             [
              0.1111111111111111,
              "#46039f"
             ],
             [
              0.2222222222222222,
              "#7201a8"
             ],
             [
              0.3333333333333333,
              "#9c179e"
             ],
             [
              0.4444444444444444,
              "#bd3786"
             ],
             [
              0.5555555555555556,
              "#d8576b"
             ],
             [
              0.6666666666666666,
              "#ed7953"
             ],
             [
              0.7777777777777778,
              "#fb9f3a"
             ],
             [
              0.8888888888888888,
              "#fdca26"
             ],
             [
              1,
              "#f0f921"
             ]
            ],
            "type": "contour"
           }
          ],
          "contourcarpet": [
           {
            "colorbar": {
             "outlinewidth": 0,
             "ticks": ""
            },
            "type": "contourcarpet"
           }
          ],
          "heatmap": [
           {
            "colorbar": {
             "outlinewidth": 0,
             "ticks": ""
            },
            "colorscale": [
             [
              0,
              "#0d0887"
             ],
             [
              0.1111111111111111,
              "#46039f"
             ],
             [
              0.2222222222222222,
              "#7201a8"
             ],
             [
              0.3333333333333333,
              "#9c179e"
             ],
             [
              0.4444444444444444,
              "#bd3786"
             ],
             [
              0.5555555555555556,
              "#d8576b"
             ],
             [
              0.6666666666666666,
              "#ed7953"
             ],
             [
              0.7777777777777778,
              "#fb9f3a"
             ],
             [
              0.8888888888888888,
              "#fdca26"
             ],
             [
              1,
              "#f0f921"
             ]
            ],
            "type": "heatmap"
           }
          ],
          "heatmapgl": [
           {
            "colorbar": {
             "outlinewidth": 0,
             "ticks": ""
            },
            "colorscale": [
             [
              0,
              "#0d0887"
             ],
             [
              0.1111111111111111,
              "#46039f"
             ],
             [
              0.2222222222222222,
              "#7201a8"
             ],
             [
              0.3333333333333333,
              "#9c179e"
             ],
             [
              0.4444444444444444,
              "#bd3786"
             ],
             [
              0.5555555555555556,
              "#d8576b"
             ],
             [
              0.6666666666666666,
              "#ed7953"
             ],
             [
              0.7777777777777778,
              "#fb9f3a"
             ],
             [
              0.8888888888888888,
              "#fdca26"
             ],
             [
              1,
              "#f0f921"
             ]
            ],
            "type": "heatmapgl"
           }
          ],
          "histogram": [
           {
            "marker": {
             "pattern": {
              "fillmode": "overlay",
              "size": 10,
              "solidity": 0.2
             }
            },
            "type": "histogram"
           }
          ],
          "histogram2d": [
           {
            "colorbar": {
             "outlinewidth": 0,
             "ticks": ""
            },
            "colorscale": [
             [
              0,
              "#0d0887"
             ],
             [
              0.1111111111111111,
              "#46039f"
             ],
             [
              0.2222222222222222,
              "#7201a8"
             ],
             [
              0.3333333333333333,
              "#9c179e"
             ],
             [
              0.4444444444444444,
              "#bd3786"
             ],
             [
              0.5555555555555556,
              "#d8576b"
             ],
             [
              0.6666666666666666,
              "#ed7953"
             ],
             [
              0.7777777777777778,
              "#fb9f3a"
             ],
             [
              0.8888888888888888,
              "#fdca26"
             ],
             [
              1,
              "#f0f921"
             ]
            ],
            "type": "histogram2d"
           }
          ],
          "histogram2dcontour": [
           {
            "colorbar": {
             "outlinewidth": 0,
             "ticks": ""
            },
            "colorscale": [
             [
              0,
              "#0d0887"
             ],
             [
              0.1111111111111111,
              "#46039f"
             ],
             [
              0.2222222222222222,
              "#7201a8"
             ],
             [
              0.3333333333333333,
              "#9c179e"
             ],
             [
              0.4444444444444444,
              "#bd3786"
             ],
             [
              0.5555555555555556,
              "#d8576b"
             ],
             [
              0.6666666666666666,
              "#ed7953"
             ],
             [
              0.7777777777777778,
              "#fb9f3a"
             ],
             [
              0.8888888888888888,
              "#fdca26"
             ],
             [
              1,
              "#f0f921"
             ]
            ],
            "type": "histogram2dcontour"
           }
          ],
          "mesh3d": [
           {
            "colorbar": {
             "outlinewidth": 0,
             "ticks": ""
            },
            "type": "mesh3d"
           }
          ],
          "parcoords": [
           {
            "line": {
             "colorbar": {
              "outlinewidth": 0,
              "ticks": ""
             }
            },
            "type": "parcoords"
           }
          ],
          "pie": [
           {
            "automargin": true,
            "type": "pie"
           }
          ],
          "scatter": [
           {
            "fillpattern": {
             "fillmode": "overlay",
             "size": 10,
             "solidity": 0.2
            },
            "type": "scatter"
           }
          ],
          "scatter3d": [
           {
            "line": {
             "colorbar": {
              "outlinewidth": 0,
              "ticks": ""
             }
            },
            "marker": {
             "colorbar": {
              "outlinewidth": 0,
              "ticks": ""
             }
            },
            "type": "scatter3d"
           }
          ],
          "scattercarpet": [
           {
            "marker": {
             "colorbar": {
              "outlinewidth": 0,
              "ticks": ""
             }
            },
            "type": "scattercarpet"
           }
          ],
          "scattergeo": [
           {
            "marker": {
             "colorbar": {
              "outlinewidth": 0,
              "ticks": ""
             }
            },
            "type": "scattergeo"
           }
          ],
          "scattergl": [
           {
            "marker": {
             "colorbar": {
              "outlinewidth": 0,
              "ticks": ""
             }
            },
            "type": "scattergl"
           }
          ],
          "scattermapbox": [
           {
            "marker": {
             "colorbar": {
              "outlinewidth": 0,
              "ticks": ""
             }
            },
            "type": "scattermapbox"
           }
          ],
          "scatterpolar": [
           {
            "marker": {
             "colorbar": {
              "outlinewidth": 0,
              "ticks": ""
             }
            },
            "type": "scatterpolar"
           }
          ],
          "scatterpolargl": [
           {
            "marker": {
             "colorbar": {
              "outlinewidth": 0,
              "ticks": ""
             }
            },
            "type": "scatterpolargl"
           }
          ],
          "scatterternary": [
           {
            "marker": {
             "colorbar": {
              "outlinewidth": 0,
              "ticks": ""
             }
            },
            "type": "scatterternary"
           }
          ],
          "surface": [
           {
            "colorbar": {
             "outlinewidth": 0,
             "ticks": ""
            },
            "colorscale": [
             [
              0,
              "#0d0887"
             ],
             [
              0.1111111111111111,
              "#46039f"
             ],
             [
              0.2222222222222222,
              "#7201a8"
             ],
             [
              0.3333333333333333,
              "#9c179e"
             ],
             [
              0.4444444444444444,
              "#bd3786"
             ],
             [
              0.5555555555555556,
              "#d8576b"
             ],
             [
              0.6666666666666666,
              "#ed7953"
             ],
             [
              0.7777777777777778,
              "#fb9f3a"
             ],
             [
              0.8888888888888888,
              "#fdca26"
             ],
             [
              1,
              "#f0f921"
             ]
            ],
            "type": "surface"
           }
          ],
          "table": [
           {
            "cells": {
             "fill": {
              "color": "#EBF0F8"
             },
             "line": {
              "color": "white"
             }
            },
            "header": {
             "fill": {
              "color": "#C8D4E3"
             },
             "line": {
              "color": "white"
             }
            },
            "type": "table"
           }
          ]
         },
         "layout": {
          "annotationdefaults": {
           "arrowcolor": "#2a3f5f",
           "arrowhead": 0,
           "arrowwidth": 1
          },
          "autotypenumbers": "strict",
          "coloraxis": {
           "colorbar": {
            "outlinewidth": 0,
            "ticks": ""
           }
          },
          "colorscale": {
           "diverging": [
            [
             0,
             "#8e0152"
            ],
            [
             0.1,
             "#c51b7d"
            ],
            [
             0.2,
             "#de77ae"
            ],
            [
             0.3,
             "#f1b6da"
            ],
            [
             0.4,
             "#fde0ef"
            ],
            [
             0.5,
             "#f7f7f7"
            ],
            [
             0.6,
             "#e6f5d0"
            ],
            [
             0.7,
             "#b8e186"
            ],
            [
             0.8,
             "#7fbc41"
            ],
            [
             0.9,
             "#4d9221"
            ],
            [
             1,
             "#276419"
            ]
           ],
           "sequential": [
            [
             0,
             "#0d0887"
            ],
            [
             0.1111111111111111,
             "#46039f"
            ],
            [
             0.2222222222222222,
             "#7201a8"
            ],
            [
             0.3333333333333333,
             "#9c179e"
            ],
            [
             0.4444444444444444,
             "#bd3786"
            ],
            [
             0.5555555555555556,
             "#d8576b"
            ],
            [
             0.6666666666666666,
             "#ed7953"
            ],
            [
             0.7777777777777778,
             "#fb9f3a"
            ],
            [
             0.8888888888888888,
             "#fdca26"
            ],
            [
             1,
             "#f0f921"
            ]
           ],
           "sequentialminus": [
            [
             0,
             "#0d0887"
            ],
            [
             0.1111111111111111,
             "#46039f"
            ],
            [
             0.2222222222222222,
             "#7201a8"
            ],
            [
             0.3333333333333333,
             "#9c179e"
            ],
            [
             0.4444444444444444,
             "#bd3786"
            ],
            [
             0.5555555555555556,
             "#d8576b"
            ],
            [
             0.6666666666666666,
             "#ed7953"
            ],
            [
             0.7777777777777778,
             "#fb9f3a"
            ],
            [
             0.8888888888888888,
             "#fdca26"
            ],
            [
             1,
             "#f0f921"
            ]
           ]
          },
          "colorway": [
           "#636efa",
           "#EF553B",
           "#00cc96",
           "#ab63fa",
           "#FFA15A",
           "#19d3f3",
           "#FF6692",
           "#B6E880",
           "#FF97FF",
           "#FECB52"
          ],
          "font": {
           "color": "#2a3f5f"
          },
          "geo": {
           "bgcolor": "white",
           "lakecolor": "white",
           "landcolor": "#E5ECF6",
           "showlakes": true,
           "showland": true,
           "subunitcolor": "white"
          },
          "hoverlabel": {
           "align": "left"
          },
          "hovermode": "closest",
          "mapbox": {
           "style": "light"
          },
          "paper_bgcolor": "white",
          "plot_bgcolor": "#E5ECF6",
          "polar": {
           "angularaxis": {
            "gridcolor": "white",
            "linecolor": "white",
            "ticks": ""
           },
           "bgcolor": "#E5ECF6",
           "radialaxis": {
            "gridcolor": "white",
            "linecolor": "white",
            "ticks": ""
           }
          },
          "scene": {
           "xaxis": {
            "backgroundcolor": "#E5ECF6",
            "gridcolor": "white",
            "gridwidth": 2,
            "linecolor": "white",
            "showbackground": true,
            "ticks": "",
            "zerolinecolor": "white"
           },
           "yaxis": {
            "backgroundcolor": "#E5ECF6",
            "gridcolor": "white",
            "gridwidth": 2,
            "linecolor": "white",
            "showbackground": true,
            "ticks": "",
            "zerolinecolor": "white"
           },
           "zaxis": {
            "backgroundcolor": "#E5ECF6",
            "gridcolor": "white",
            "gridwidth": 2,
            "linecolor": "white",
            "showbackground": true,
            "ticks": "",
            "zerolinecolor": "white"
           }
          },
          "shapedefaults": {
           "line": {
            "color": "#2a3f5f"
           }
          },
          "ternary": {
           "aaxis": {
            "gridcolor": "white",
            "linecolor": "white",
            "ticks": ""
           },
           "baxis": {
            "gridcolor": "white",
            "linecolor": "white",
            "ticks": ""
           },
           "bgcolor": "#E5ECF6",
           "caxis": {
            "gridcolor": "white",
            "linecolor": "white",
            "ticks": ""
           }
          },
          "title": {
           "x": 0.05
          },
          "xaxis": {
           "automargin": true,
           "gridcolor": "white",
           "linecolor": "white",
           "ticks": "",
           "title": {
            "standoff": 15
           },
           "zerolinecolor": "white",
           "zerolinewidth": 2
          },
          "yaxis": {
           "automargin": true,
           "gridcolor": "white",
           "linecolor": "white",
           "ticks": "",
           "title": {
            "standoff": 15
           },
           "zerolinecolor": "white",
           "zerolinewidth": 2
          }
         }
        },
        "xaxis": {
         "anchor": "y",
         "domain": [
          0,
          1
         ],
         "title": {
          "text": "x"
         }
        },
        "yaxis": {
         "anchor": "x",
         "domain": [
          0,
          1
         ],
         "title": {
          "text": "y"
         }
        }
       }
      }
     },
     "metadata": {},
     "output_type": "display_data"
    }
   ],
   "source": [
    "import plotly.express as px\n",
    "\n",
    "\n",
    "px.line(x=threshold_list, y=pnl_list)"
   ]
  },
  {
   "cell_type": "code",
   "execution_count": 46,
   "metadata": {},
   "outputs": [
    {
     "data": {
      "text/html": [
       "<div>\n",
       "<style scoped>\n",
       "    .dataframe tbody tr th:only-of-type {\n",
       "        vertical-align: middle;\n",
       "    }\n",
       "\n",
       "    .dataframe tbody tr th {\n",
       "        vertical-align: top;\n",
       "    }\n",
       "\n",
       "    .dataframe thead th {\n",
       "        text-align: right;\n",
       "    }\n",
       "</style>\n",
       "<table border=\"1\" class=\"dataframe\">\n",
       "  <thead>\n",
       "    <tr style=\"text-align: right;\">\n",
       "      <th></th>\n",
       "      <th>threshold</th>\n",
       "      <th>pnl</th>\n",
       "    </tr>\n",
       "  </thead>\n",
       "  <tbody>\n",
       "    <tr>\n",
       "      <th>71</th>\n",
       "      <td>0.717172</td>\n",
       "      <td>1.240057e+07</td>\n",
       "    </tr>\n",
       "    <tr>\n",
       "      <th>72</th>\n",
       "      <td>0.727273</td>\n",
       "      <td>1.154706e+07</td>\n",
       "    </tr>\n",
       "    <tr>\n",
       "      <th>65</th>\n",
       "      <td>0.656566</td>\n",
       "      <td>1.041550e+07</td>\n",
       "    </tr>\n",
       "    <tr>\n",
       "      <th>66</th>\n",
       "      <td>0.666667</td>\n",
       "      <td>1.033310e+07</td>\n",
       "    </tr>\n",
       "    <tr>\n",
       "      <th>64</th>\n",
       "      <td>0.646465</td>\n",
       "      <td>9.618816e+06</td>\n",
       "    </tr>\n",
       "    <tr>\n",
       "      <th>...</th>\n",
       "      <td>...</td>\n",
       "      <td>...</td>\n",
       "    </tr>\n",
       "    <tr>\n",
       "      <th>9</th>\n",
       "      <td>0.090909</td>\n",
       "      <td>-5.366126e+08</td>\n",
       "    </tr>\n",
       "    <tr>\n",
       "      <th>10</th>\n",
       "      <td>0.101010</td>\n",
       "      <td>-5.366126e+08</td>\n",
       "    </tr>\n",
       "    <tr>\n",
       "      <th>0</th>\n",
       "      <td>0.000000</td>\n",
       "      <td>-5.366126e+08</td>\n",
       "    </tr>\n",
       "    <tr>\n",
       "      <th>11</th>\n",
       "      <td>0.111111</td>\n",
       "      <td>-5.366340e+08</td>\n",
       "    </tr>\n",
       "    <tr>\n",
       "      <th>12</th>\n",
       "      <td>0.121212</td>\n",
       "      <td>-5.366340e+08</td>\n",
       "    </tr>\n",
       "  </tbody>\n",
       "</table>\n",
       "<p>100 rows × 2 columns</p>\n",
       "</div>"
      ],
      "text/plain": [
       "    threshold           pnl\n",
       "71   0.717172  1.240057e+07\n",
       "72   0.727273  1.154706e+07\n",
       "65   0.656566  1.041550e+07\n",
       "66   0.666667  1.033310e+07\n",
       "64   0.646465  9.618816e+06\n",
       "..        ...           ...\n",
       "9    0.090909 -5.366126e+08\n",
       "10   0.101010 -5.366126e+08\n",
       "0    0.000000 -5.366126e+08\n",
       "11   0.111111 -5.366340e+08\n",
       "12   0.121212 -5.366340e+08\n",
       "\n",
       "[100 rows x 2 columns]"
      ]
     },
     "execution_count": 46,
     "metadata": {},
     "output_type": "execute_result"
    }
   ],
   "source": [
    "pnl_df = pd.DataFrame({'threshold': threshold_list, 'pnl': pnl_list}).sort_values(by='pnl', ascending=False)\n",
    "pnl_df"
   ]
  },
  {
   "cell_type": "code",
   "execution_count": 47,
   "metadata": {},
   "outputs": [
    {
     "data": {
      "text/html": [
       "<div>\n",
       "<style scoped>\n",
       "    .dataframe tbody tr th:only-of-type {\n",
       "        vertical-align: middle;\n",
       "    }\n",
       "\n",
       "    .dataframe tbody tr th {\n",
       "        vertical-align: top;\n",
       "    }\n",
       "\n",
       "    .dataframe thead th {\n",
       "        text-align: right;\n",
       "    }\n",
       "</style>\n",
       "<table border=\"1\" class=\"dataframe\">\n",
       "  <thead>\n",
       "    <tr style=\"text-align: right;\">\n",
       "      <th></th>\n",
       "      <th>threshold</th>\n",
       "      <th>pnl</th>\n",
       "    </tr>\n",
       "  </thead>\n",
       "  <tbody>\n",
       "    <tr>\n",
       "      <th>71</th>\n",
       "      <td>0.717172</td>\n",
       "      <td>12400570.80</td>\n",
       "    </tr>\n",
       "    <tr>\n",
       "      <th>72</th>\n",
       "      <td>0.727273</td>\n",
       "      <td>11547057.42</td>\n",
       "    </tr>\n",
       "    <tr>\n",
       "      <th>65</th>\n",
       "      <td>0.656566</td>\n",
       "      <td>10415503.98</td>\n",
       "    </tr>\n",
       "    <tr>\n",
       "      <th>66</th>\n",
       "      <td>0.666667</td>\n",
       "      <td>10333101.78</td>\n",
       "    </tr>\n",
       "    <tr>\n",
       "      <th>64</th>\n",
       "      <td>0.646465</td>\n",
       "      <td>9618816.06</td>\n",
       "    </tr>\n",
       "    <tr>\n",
       "      <th>68</th>\n",
       "      <td>0.686869</td>\n",
       "      <td>8715344.76</td>\n",
       "    </tr>\n",
       "    <tr>\n",
       "      <th>73</th>\n",
       "      <td>0.737374</td>\n",
       "      <td>8302547.88</td>\n",
       "    </tr>\n",
       "    <tr>\n",
       "      <th>74</th>\n",
       "      <td>0.747475</td>\n",
       "      <td>7880981.76</td>\n",
       "    </tr>\n",
       "    <tr>\n",
       "      <th>70</th>\n",
       "      <td>0.707071</td>\n",
       "      <td>7522774.56</td>\n",
       "    </tr>\n",
       "    <tr>\n",
       "      <th>67</th>\n",
       "      <td>0.676768</td>\n",
       "      <td>7328495.34</td>\n",
       "    </tr>\n",
       "  </tbody>\n",
       "</table>\n",
       "</div>"
      ],
      "text/plain": [
       "    threshold          pnl\n",
       "71   0.717172  12400570.80\n",
       "72   0.727273  11547057.42\n",
       "65   0.656566  10415503.98\n",
       "66   0.666667  10333101.78\n",
       "64   0.646465   9618816.06\n",
       "68   0.686869   8715344.76\n",
       "73   0.737374   8302547.88\n",
       "74   0.747475   7880981.76\n",
       "70   0.707071   7522774.56\n",
       "67   0.676768   7328495.34"
      ]
     },
     "execution_count": 47,
     "metadata": {},
     "output_type": "execute_result"
    }
   ],
   "source": [
    "pnl_df.sort_values(by='pnl', ascending=False).head(10)"
   ]
  },
  {
   "cell_type": "code",
   "execution_count": 54,
   "metadata": {},
   "outputs": [],
   "source": [
    "def analyse_pnl(taux = 0.04, default_rate = 1 ):\n",
    "\n",
    "\n",
    "    threshold_list = np.linspace(0, 1, 100)\n",
    "    pnl_list = []\n",
    "\n",
    "    for threshold in threshold_list:\n",
    "        v = 0\n",
    "        for m, y_true, y_pred_proba in zip(montant_list, y_true_list, y_pred_proba_list):\n",
    "            v += calcul_pnl_one_complexe(m, y_true=y_true, y_pred_proba=y_pred_proba,threshold=threshold, default_rate=default_rate, taux=taux  )\n",
    "        pnl_list.append(v)\n",
    "\n",
    "    fig = px.line(x=threshold_list, y=pnl_list)\n",
    "    fig.show()"
   ]
  },
  {
   "cell_type": "code",
   "execution_count": 55,
   "metadata": {},
   "outputs": [
    {
     "data": {
      "application/vnd.plotly.v1+json": {
       "config": {
        "plotlyServerURL": "https://plot.ly"
       },
       "data": [
        {
         "hovertemplate": "x=%{x}<br>y=%{y}<extra></extra>",
         "legendgroup": "",
         "line": {
          "color": "#636efa",
          "dash": "solid"
         },
         "marker": {
          "symbol": "circle"
         },
         "mode": "lines",
         "name": "",
         "orientation": "v",
         "showlegend": false,
         "type": "scatter",
         "x": [
          0,
          0.010101010101010102,
          0.020202020202020204,
          0.030303030303030304,
          0.04040404040404041,
          0.05050505050505051,
          0.06060606060606061,
          0.07070707070707072,
          0.08080808080808081,
          0.09090909090909091,
          0.10101010101010102,
          0.11111111111111112,
          0.12121212121212122,
          0.13131313131313133,
          0.14141414141414144,
          0.15151515151515152,
          0.16161616161616163,
          0.17171717171717174,
          0.18181818181818182,
          0.19191919191919193,
          0.20202020202020204,
          0.21212121212121213,
          0.22222222222222224,
          0.23232323232323235,
          0.24242424242424243,
          0.25252525252525254,
          0.26262626262626265,
          0.27272727272727276,
          0.2828282828282829,
          0.29292929292929293,
          0.30303030303030304,
          0.31313131313131315,
          0.32323232323232326,
          0.33333333333333337,
          0.3434343434343435,
          0.3535353535353536,
          0.36363636363636365,
          0.37373737373737376,
          0.38383838383838387,
          0.393939393939394,
          0.4040404040404041,
          0.4141414141414142,
          0.42424242424242425,
          0.43434343434343436,
          0.4444444444444445,
          0.4545454545454546,
          0.4646464646464647,
          0.4747474747474748,
          0.48484848484848486,
          0.494949494949495,
          0.5050505050505051,
          0.5151515151515152,
          0.5252525252525253,
          0.5353535353535354,
          0.5454545454545455,
          0.5555555555555556,
          0.5656565656565657,
          0.5757575757575758,
          0.5858585858585859,
          0.595959595959596,
          0.6060606060606061,
          0.6161616161616162,
          0.6262626262626263,
          0.6363636363636365,
          0.6464646464646465,
          0.6565656565656566,
          0.6666666666666667,
          0.6767676767676768,
          0.686868686868687,
          0.696969696969697,
          0.7070707070707072,
          0.7171717171717172,
          0.7272727272727273,
          0.7373737373737375,
          0.7474747474747475,
          0.7575757575757577,
          0.7676767676767677,
          0.7777777777777778,
          0.787878787878788,
          0.797979797979798,
          0.8080808080808082,
          0.8181818181818182,
          0.8282828282828284,
          0.8383838383838385,
          0.8484848484848485,
          0.8585858585858587,
          0.8686868686868687,
          0.8787878787878789,
          0.888888888888889,
          0.8989898989898991,
          0.9090909090909092,
          0.9191919191919192,
          0.9292929292929294,
          0.9393939393939394,
          0.9494949494949496,
          0.9595959595959597,
          0.9696969696969697,
          0.9797979797979799,
          0.98989898989899,
          1
         ],
         "xaxis": "x",
         "y": [
          -536612589.71999776,
          -536612589.71999776,
          -536612589.71999776,
          -536612589.71999776,
          -536612589.71999776,
          -536612589.71999776,
          -536612589.71999776,
          -536612589.71999776,
          -536612589.71999776,
          -536612589.71999776,
          -536612589.71999776,
          -536634042.83999777,
          -536634042.83999777,
          -536035830.83999777,
          -535419453.2399977,
          -535445056.4399977,
          -535516165.4399977,
          -535416667.7399977,
          -533362828.31999755,
          -532091429.6399976,
          -527419648.9799976,
          -524724459.6599977,
          -519178902.11999875,
          -514397123.2799989,
          -507956752.0799988,
          -500028795.1799992,
          -487001648.69999915,
          -472073258.879999,
          -456085020.2399989,
          -446141456.0999989,
          -435601367.9999985,
          -422537864.57999885,
          -407502947.87999934,
          -391244558.21999997,
          -371214804.4200003,
          -356334086.5200008,
          -339385537.4400011,
          -317816816.0400015,
          -297014668.0200011,
          -280987266.9600023,
          -258651995.58000314,
          -246872504.16000235,
          -230526889.0200019,
          -215455979.88000184,
          -203003719.7400015,
          -184775930.46000135,
          -160953795.7200016,
          -145627635.0600017,
          -137390642.2800013,
          -119473844.04000103,
          -112149280.80000101,
          -98186110.92000069,
          -86843577.78000054,
          -75518056.80000025,
          -68154274.98000023,
          -59330167.74000002,
          -56687493.96000003,
          -44499809.33999988,
          -34850042.81999983,
          -23452813.439999864,
          -15024158.2799999,
          -3314117.8800000157,
          -491694.47999999754,
          4385731.860000009,
          9618816.060000036,
          10415503.980000025,
          10333101.78000002,
          7328495.339999988,
          8715344.760000004,
          4705794.180000005,
          7522774.559999996,
          12400570.80000002,
          11547057.420000019,
          8302547.880000003,
          7880981.760000001,
          6276445.199999999,
          4088289.239999999,
          5248324.079999999,
          3726604.2600000002,
          6188734.259999998,
          7250018.4,
          5470284.42,
          3209234.5799999996,
          4472270.1,
          2319319.4400000004,
          690059.16,
          945953.8200000002,
          3705353.8199999994,
          3129401.34,
          2055943.08,
          1408483.08,
          1162440,
          414000,
          270000,
          198000,
          144000,
          90000,
          0,
          0,
          0
         ],
         "yaxis": "y"
        }
       ],
       "layout": {
        "legend": {
         "tracegroupgap": 0
        },
        "margin": {
         "t": 60
        },
        "template": {
         "data": {
          "bar": [
           {
            "error_x": {
             "color": "#2a3f5f"
            },
            "error_y": {
             "color": "#2a3f5f"
            },
            "marker": {
             "line": {
              "color": "#E5ECF6",
              "width": 0.5
             },
             "pattern": {
              "fillmode": "overlay",
              "size": 10,
              "solidity": 0.2
             }
            },
            "type": "bar"
           }
          ],
          "barpolar": [
           {
            "marker": {
             "line": {
              "color": "#E5ECF6",
              "width": 0.5
             },
             "pattern": {
              "fillmode": "overlay",
              "size": 10,
              "solidity": 0.2
             }
            },
            "type": "barpolar"
           }
          ],
          "carpet": [
           {
            "aaxis": {
             "endlinecolor": "#2a3f5f",
             "gridcolor": "white",
             "linecolor": "white",
             "minorgridcolor": "white",
             "startlinecolor": "#2a3f5f"
            },
            "baxis": {
             "endlinecolor": "#2a3f5f",
             "gridcolor": "white",
             "linecolor": "white",
             "minorgridcolor": "white",
             "startlinecolor": "#2a3f5f"
            },
            "type": "carpet"
           }
          ],
          "choropleth": [
           {
            "colorbar": {
             "outlinewidth": 0,
             "ticks": ""
            },
            "type": "choropleth"
           }
          ],
          "contour": [
           {
            "colorbar": {
             "outlinewidth": 0,
             "ticks": ""
            },
            "colorscale": [
             [
              0,
              "#0d0887"
             ],
             [
              0.1111111111111111,
              "#46039f"
             ],
             [
              0.2222222222222222,
              "#7201a8"
             ],
             [
              0.3333333333333333,
              "#9c179e"
             ],
             [
              0.4444444444444444,
              "#bd3786"
             ],
             [
              0.5555555555555556,
              "#d8576b"
             ],
             [
              0.6666666666666666,
              "#ed7953"
             ],
             [
              0.7777777777777778,
              "#fb9f3a"
             ],
             [
              0.8888888888888888,
              "#fdca26"
             ],
             [
              1,
              "#f0f921"
             ]
            ],
            "type": "contour"
           }
          ],
          "contourcarpet": [
           {
            "colorbar": {
             "outlinewidth": 0,
             "ticks": ""
            },
            "type": "contourcarpet"
           }
          ],
          "heatmap": [
           {
            "colorbar": {
             "outlinewidth": 0,
             "ticks": ""
            },
            "colorscale": [
             [
              0,
              "#0d0887"
             ],
             [
              0.1111111111111111,
              "#46039f"
             ],
             [
              0.2222222222222222,
              "#7201a8"
             ],
             [
              0.3333333333333333,
              "#9c179e"
             ],
             [
              0.4444444444444444,
              "#bd3786"
             ],
             [
              0.5555555555555556,
              "#d8576b"
             ],
             [
              0.6666666666666666,
              "#ed7953"
             ],
             [
              0.7777777777777778,
              "#fb9f3a"
             ],
             [
              0.8888888888888888,
              "#fdca26"
             ],
             [
              1,
              "#f0f921"
             ]
            ],
            "type": "heatmap"
           }
          ],
          "heatmapgl": [
           {
            "colorbar": {
             "outlinewidth": 0,
             "ticks": ""
            },
            "colorscale": [
             [
              0,
              "#0d0887"
             ],
             [
              0.1111111111111111,
              "#46039f"
             ],
             [
              0.2222222222222222,
              "#7201a8"
             ],
             [
              0.3333333333333333,
              "#9c179e"
             ],
             [
              0.4444444444444444,
              "#bd3786"
             ],
             [
              0.5555555555555556,
              "#d8576b"
             ],
             [
              0.6666666666666666,
              "#ed7953"
             ],
             [
              0.7777777777777778,
              "#fb9f3a"
             ],
             [
              0.8888888888888888,
              "#fdca26"
             ],
             [
              1,
              "#f0f921"
             ]
            ],
            "type": "heatmapgl"
           }
          ],
          "histogram": [
           {
            "marker": {
             "pattern": {
              "fillmode": "overlay",
              "size": 10,
              "solidity": 0.2
             }
            },
            "type": "histogram"
           }
          ],
          "histogram2d": [
           {
            "colorbar": {
             "outlinewidth": 0,
             "ticks": ""
            },
            "colorscale": [
             [
              0,
              "#0d0887"
             ],
             [
              0.1111111111111111,
              "#46039f"
             ],
             [
              0.2222222222222222,
              "#7201a8"
             ],
             [
              0.3333333333333333,
              "#9c179e"
             ],
             [
              0.4444444444444444,
              "#bd3786"
             ],
             [
              0.5555555555555556,
              "#d8576b"
             ],
             [
              0.6666666666666666,
              "#ed7953"
             ],
             [
              0.7777777777777778,
              "#fb9f3a"
             ],
             [
              0.8888888888888888,
              "#fdca26"
             ],
             [
              1,
              "#f0f921"
             ]
            ],
            "type": "histogram2d"
           }
          ],
          "histogram2dcontour": [
           {
            "colorbar": {
             "outlinewidth": 0,
             "ticks": ""
            },
            "colorscale": [
             [
              0,
              "#0d0887"
             ],
             [
              0.1111111111111111,
              "#46039f"
             ],
             [
              0.2222222222222222,
              "#7201a8"
             ],
             [
              0.3333333333333333,
              "#9c179e"
             ],
             [
              0.4444444444444444,
              "#bd3786"
             ],
             [
              0.5555555555555556,
              "#d8576b"
             ],
             [
              0.6666666666666666,
              "#ed7953"
             ],
             [
              0.7777777777777778,
              "#fb9f3a"
             ],
             [
              0.8888888888888888,
              "#fdca26"
             ],
             [
              1,
              "#f0f921"
             ]
            ],
            "type": "histogram2dcontour"
           }
          ],
          "mesh3d": [
           {
            "colorbar": {
             "outlinewidth": 0,
             "ticks": ""
            },
            "type": "mesh3d"
           }
          ],
          "parcoords": [
           {
            "line": {
             "colorbar": {
              "outlinewidth": 0,
              "ticks": ""
             }
            },
            "type": "parcoords"
           }
          ],
          "pie": [
           {
            "automargin": true,
            "type": "pie"
           }
          ],
          "scatter": [
           {
            "fillpattern": {
             "fillmode": "overlay",
             "size": 10,
             "solidity": 0.2
            },
            "type": "scatter"
           }
          ],
          "scatter3d": [
           {
            "line": {
             "colorbar": {
              "outlinewidth": 0,
              "ticks": ""
             }
            },
            "marker": {
             "colorbar": {
              "outlinewidth": 0,
              "ticks": ""
             }
            },
            "type": "scatter3d"
           }
          ],
          "scattercarpet": [
           {
            "marker": {
             "colorbar": {
              "outlinewidth": 0,
              "ticks": ""
             }
            },
            "type": "scattercarpet"
           }
          ],
          "scattergeo": [
           {
            "marker": {
             "colorbar": {
              "outlinewidth": 0,
              "ticks": ""
             }
            },
            "type": "scattergeo"
           }
          ],
          "scattergl": [
           {
            "marker": {
             "colorbar": {
              "outlinewidth": 0,
              "ticks": ""
             }
            },
            "type": "scattergl"
           }
          ],
          "scattermapbox": [
           {
            "marker": {
             "colorbar": {
              "outlinewidth": 0,
              "ticks": ""
             }
            },
            "type": "scattermapbox"
           }
          ],
          "scatterpolar": [
           {
            "marker": {
             "colorbar": {
              "outlinewidth": 0,
              "ticks": ""
             }
            },
            "type": "scatterpolar"
           }
          ],
          "scatterpolargl": [
           {
            "marker": {
             "colorbar": {
              "outlinewidth": 0,
              "ticks": ""
             }
            },
            "type": "scatterpolargl"
           }
          ],
          "scatterternary": [
           {
            "marker": {
             "colorbar": {
              "outlinewidth": 0,
              "ticks": ""
             }
            },
            "type": "scatterternary"
           }
          ],
          "surface": [
           {
            "colorbar": {
             "outlinewidth": 0,
             "ticks": ""
            },
            "colorscale": [
             [
              0,
              "#0d0887"
             ],
             [
              0.1111111111111111,
              "#46039f"
             ],
             [
              0.2222222222222222,
              "#7201a8"
             ],
             [
              0.3333333333333333,
              "#9c179e"
             ],
             [
              0.4444444444444444,
              "#bd3786"
             ],
             [
              0.5555555555555556,
              "#d8576b"
             ],
             [
              0.6666666666666666,
              "#ed7953"
             ],
             [
              0.7777777777777778,
              "#fb9f3a"
             ],
             [
              0.8888888888888888,
              "#fdca26"
             ],
             [
              1,
              "#f0f921"
             ]
            ],
            "type": "surface"
           }
          ],
          "table": [
           {
            "cells": {
             "fill": {
              "color": "#EBF0F8"
             },
             "line": {
              "color": "white"
             }
            },
            "header": {
             "fill": {
              "color": "#C8D4E3"
             },
             "line": {
              "color": "white"
             }
            },
            "type": "table"
           }
          ]
         },
         "layout": {
          "annotationdefaults": {
           "arrowcolor": "#2a3f5f",
           "arrowhead": 0,
           "arrowwidth": 1
          },
          "autotypenumbers": "strict",
          "coloraxis": {
           "colorbar": {
            "outlinewidth": 0,
            "ticks": ""
           }
          },
          "colorscale": {
           "diverging": [
            [
             0,
             "#8e0152"
            ],
            [
             0.1,
             "#c51b7d"
            ],
            [
             0.2,
             "#de77ae"
            ],
            [
             0.3,
             "#f1b6da"
            ],
            [
             0.4,
             "#fde0ef"
            ],
            [
             0.5,
             "#f7f7f7"
            ],
            [
             0.6,
             "#e6f5d0"
            ],
            [
             0.7,
             "#b8e186"
            ],
            [
             0.8,
             "#7fbc41"
            ],
            [
             0.9,
             "#4d9221"
            ],
            [
             1,
             "#276419"
            ]
           ],
           "sequential": [
            [
             0,
             "#0d0887"
            ],
            [
             0.1111111111111111,
             "#46039f"
            ],
            [
             0.2222222222222222,
             "#7201a8"
            ],
            [
             0.3333333333333333,
             "#9c179e"
            ],
            [
             0.4444444444444444,
             "#bd3786"
            ],
            [
             0.5555555555555556,
             "#d8576b"
            ],
            [
             0.6666666666666666,
             "#ed7953"
            ],
            [
             0.7777777777777778,
             "#fb9f3a"
            ],
            [
             0.8888888888888888,
             "#fdca26"
            ],
            [
             1,
             "#f0f921"
            ]
           ],
           "sequentialminus": [
            [
             0,
             "#0d0887"
            ],
            [
             0.1111111111111111,
             "#46039f"
            ],
            [
             0.2222222222222222,
             "#7201a8"
            ],
            [
             0.3333333333333333,
             "#9c179e"
            ],
            [
             0.4444444444444444,
             "#bd3786"
            ],
            [
             0.5555555555555556,
             "#d8576b"
            ],
            [
             0.6666666666666666,
             "#ed7953"
            ],
            [
             0.7777777777777778,
             "#fb9f3a"
            ],
            [
             0.8888888888888888,
             "#fdca26"
            ],
            [
             1,
             "#f0f921"
            ]
           ]
          },
          "colorway": [
           "#636efa",
           "#EF553B",
           "#00cc96",
           "#ab63fa",
           "#FFA15A",
           "#19d3f3",
           "#FF6692",
           "#B6E880",
           "#FF97FF",
           "#FECB52"
          ],
          "font": {
           "color": "#2a3f5f"
          },
          "geo": {
           "bgcolor": "white",
           "lakecolor": "white",
           "landcolor": "#E5ECF6",
           "showlakes": true,
           "showland": true,
           "subunitcolor": "white"
          },
          "hoverlabel": {
           "align": "left"
          },
          "hovermode": "closest",
          "mapbox": {
           "style": "light"
          },
          "paper_bgcolor": "white",
          "plot_bgcolor": "#E5ECF6",
          "polar": {
           "angularaxis": {
            "gridcolor": "white",
            "linecolor": "white",
            "ticks": ""
           },
           "bgcolor": "#E5ECF6",
           "radialaxis": {
            "gridcolor": "white",
            "linecolor": "white",
            "ticks": ""
           }
          },
          "scene": {
           "xaxis": {
            "backgroundcolor": "#E5ECF6",
            "gridcolor": "white",
            "gridwidth": 2,
            "linecolor": "white",
            "showbackground": true,
            "ticks": "",
            "zerolinecolor": "white"
           },
           "yaxis": {
            "backgroundcolor": "#E5ECF6",
            "gridcolor": "white",
            "gridwidth": 2,
            "linecolor": "white",
            "showbackground": true,
            "ticks": "",
            "zerolinecolor": "white"
           },
           "zaxis": {
            "backgroundcolor": "#E5ECF6",
            "gridcolor": "white",
            "gridwidth": 2,
            "linecolor": "white",
            "showbackground": true,
            "ticks": "",
            "zerolinecolor": "white"
           }
          },
          "shapedefaults": {
           "line": {
            "color": "#2a3f5f"
           }
          },
          "ternary": {
           "aaxis": {
            "gridcolor": "white",
            "linecolor": "white",
            "ticks": ""
           },
           "baxis": {
            "gridcolor": "white",
            "linecolor": "white",
            "ticks": ""
           },
           "bgcolor": "#E5ECF6",
           "caxis": {
            "gridcolor": "white",
            "linecolor": "white",
            "ticks": ""
           }
          },
          "title": {
           "x": 0.05
          },
          "xaxis": {
           "automargin": true,
           "gridcolor": "white",
           "linecolor": "white",
           "ticks": "",
           "title": {
            "standoff": 15
           },
           "zerolinecolor": "white",
           "zerolinewidth": 2
          },
          "yaxis": {
           "automargin": true,
           "gridcolor": "white",
           "linecolor": "white",
           "ticks": "",
           "title": {
            "standoff": 15
           },
           "zerolinecolor": "white",
           "zerolinewidth": 2
          }
         }
        },
        "xaxis": {
         "anchor": "y",
         "domain": [
          0,
          1
         ],
         "title": {
          "text": "x"
         }
        },
        "yaxis": {
         "anchor": "x",
         "domain": [
          0,
          1
         ],
         "title": {
          "text": "y"
         }
        }
       }
      }
     },
     "metadata": {},
     "output_type": "display_data"
    }
   ],
   "source": [
    "analyse_pnl(0.04, 1)"
   ]
  },
  {
   "cell_type": "code",
   "execution_count": 57,
   "metadata": {},
   "outputs": [
    {
     "data": {
      "application/vnd.plotly.v1+json": {
       "config": {
        "plotlyServerURL": "https://plot.ly"
       },
       "data": [
        {
         "hovertemplate": "x=%{x}<br>y=%{y}<extra></extra>",
         "legendgroup": "",
         "line": {
          "color": "#636efa",
          "dash": "solid"
         },
         "marker": {
          "symbol": "circle"
         },
         "mode": "lines",
         "name": "",
         "orientation": "v",
         "showlegend": false,
         "type": "scatter",
         "x": [
          0,
          0.010101010101010102,
          0.020202020202020204,
          0.030303030303030304,
          0.04040404040404041,
          0.05050505050505051,
          0.06060606060606061,
          0.07070707070707072,
          0.08080808080808081,
          0.09090909090909091,
          0.10101010101010102,
          0.11111111111111112,
          0.12121212121212122,
          0.13131313131313133,
          0.14141414141414144,
          0.15151515151515152,
          0.16161616161616163,
          0.17171717171717174,
          0.18181818181818182,
          0.19191919191919193,
          0.20202020202020204,
          0.21212121212121213,
          0.22222222222222224,
          0.23232323232323235,
          0.24242424242424243,
          0.25252525252525254,
          0.26262626262626265,
          0.27272727272727276,
          0.2828282828282829,
          0.29292929292929293,
          0.30303030303030304,
          0.31313131313131315,
          0.32323232323232326,
          0.33333333333333337,
          0.3434343434343435,
          0.3535353535353536,
          0.36363636363636365,
          0.37373737373737376,
          0.38383838383838387,
          0.393939393939394,
          0.4040404040404041,
          0.4141414141414142,
          0.42424242424242425,
          0.43434343434343436,
          0.4444444444444445,
          0.4545454545454546,
          0.4646464646464647,
          0.4747474747474748,
          0.48484848484848486,
          0.494949494949495,
          0.5050505050505051,
          0.5151515151515152,
          0.5252525252525253,
          0.5353535353535354,
          0.5454545454545455,
          0.5555555555555556,
          0.5656565656565657,
          0.5757575757575758,
          0.5858585858585859,
          0.595959595959596,
          0.6060606060606061,
          0.6161616161616162,
          0.6262626262626263,
          0.6363636363636365,
          0.6464646464646465,
          0.6565656565656566,
          0.6666666666666667,
          0.6767676767676768,
          0.686868686868687,
          0.696969696969697,
          0.7070707070707072,
          0.7171717171717172,
          0.7272727272727273,
          0.7373737373737375,
          0.7474747474747475,
          0.7575757575757577,
          0.7676767676767677,
          0.7777777777777778,
          0.787878787878788,
          0.797979797979798,
          0.8080808080808082,
          0.8181818181818182,
          0.8282828282828284,
          0.8383838383838385,
          0.8484848484848485,
          0.8585858585858587,
          0.8686868686868687,
          0.8787878787878789,
          0.888888888888889,
          0.8989898989898991,
          0.9090909090909092,
          0.9191919191919192,
          0.9292929292929294,
          0.9393939393939394,
          0.9494949494949496,
          0.9595959595959597,
          0.9696969696969697,
          0.9797979797979799,
          0.98989898989899,
          1
         ],
         "xaxis": "x",
         "y": [
          237036820.90499654,
          237036820.90499654,
          237036820.90499654,
          237036820.90499654,
          237036820.90499654,
          237036820.90499654,
          237036820.90499654,
          237036820.90499654,
          237036820.90499654,
          237036820.90499654,
          237036820.90499654,
          237015367.78499657,
          237015367.78499657,
          237164920.78499657,
          237301238.38499656,
          237275635.18499658,
          237204526.18499655,
          237090723.88499653,
          237415226.80499655,
          237523249.4849966,
          238385441.51999646,
          238532775.8399963,
          239395416.25499633,
          239886706.09499636,
          240701745.41999644,
          241393395.1949964,
          243562063.04999614,
          245592367.24499598,
          247871771.00999603,
          248315280.52499604,
          248450415.7499961,
          248827574.29499626,
          249796240.2449964,
          250287240.77999637,
          251976508.82999644,
          251405396.7299966,
          251353483.55999687,
          252264616.33499712,
          252454707.85499722,
          250913435.0399973,
          250890219.04499748,
          247506183.0899977,
          244757131.60499805,
          242154016.2449981,
          238017732.88499835,
          236018370.91499835,
          234116934.02999857,
          230524751.5649985,
          223872634.84499866,
          220747755.95999873,
          213185170.57499856,
          207594292.45499873,
          201233023.4699989,
          195420571.19999897,
          187980026.8949993,
          180840610.25999928,
          171613247.03999934,
          163617031.0349991,
          156126984.9299991,
          149529196.93499917,
          141835790.9699993,
          134865405.49499947,
          126546542.14499944,
          118219648.85999952,
          110282922.80999966,
          102354587.72999972,
          93852532.52999964,
          84315492.08999985,
          77394590.00999993,
          68964305.80499993,
          62873962.55999994,
          58169796.299999945,
          52075994.669999965,
          45490235.12999996,
          39964224.509999976,
          34605270.44999999,
          29483672.489999995,
          25638312.330000002,
          21821592.51,
          19245218.76000001,
          16124877.900000004,
          13023561.420000004,
          9918761.580000002,
          8755172.1,
          6602221.4399999995,
          4972961.159999999,
          3814703.8199999994,
          3705353.8199999994,
          3129401.34,
          2055943.08,
          1408483.08,
          1162440,
          414000,
          270000,
          198000,
          144000,
          90000,
          0,
          0,
          0
         ],
         "yaxis": "y"
        }
       ],
       "layout": {
        "legend": {
         "tracegroupgap": 0
        },
        "margin": {
         "t": 60
        },
        "template": {
         "data": {
          "bar": [
           {
            "error_x": {
             "color": "#2a3f5f"
            },
            "error_y": {
             "color": "#2a3f5f"
            },
            "marker": {
             "line": {
              "color": "#E5ECF6",
              "width": 0.5
             },
             "pattern": {
              "fillmode": "overlay",
              "size": 10,
              "solidity": 0.2
             }
            },
            "type": "bar"
           }
          ],
          "barpolar": [
           {
            "marker": {
             "line": {
              "color": "#E5ECF6",
              "width": 0.5
             },
             "pattern": {
              "fillmode": "overlay",
              "size": 10,
              "solidity": 0.2
             }
            },
            "type": "barpolar"
           }
          ],
          "carpet": [
           {
            "aaxis": {
             "endlinecolor": "#2a3f5f",
             "gridcolor": "white",
             "linecolor": "white",
             "minorgridcolor": "white",
             "startlinecolor": "#2a3f5f"
            },
            "baxis": {
             "endlinecolor": "#2a3f5f",
             "gridcolor": "white",
             "linecolor": "white",
             "minorgridcolor": "white",
             "startlinecolor": "#2a3f5f"
            },
            "type": "carpet"
           }
          ],
          "choropleth": [
           {
            "colorbar": {
             "outlinewidth": 0,
             "ticks": ""
            },
            "type": "choropleth"
           }
          ],
          "contour": [
           {
            "colorbar": {
             "outlinewidth": 0,
             "ticks": ""
            },
            "colorscale": [
             [
              0,
              "#0d0887"
             ],
             [
              0.1111111111111111,
              "#46039f"
             ],
             [
              0.2222222222222222,
              "#7201a8"
             ],
             [
              0.3333333333333333,
              "#9c179e"
             ],
             [
              0.4444444444444444,
              "#bd3786"
             ],
             [
              0.5555555555555556,
              "#d8576b"
             ],
             [
              0.6666666666666666,
              "#ed7953"
             ],
             [
              0.7777777777777778,
              "#fb9f3a"
             ],
             [
              0.8888888888888888,
              "#fdca26"
             ],
             [
              1,
              "#f0f921"
             ]
            ],
            "type": "contour"
           }
          ],
          "contourcarpet": [
           {
            "colorbar": {
             "outlinewidth": 0,
             "ticks": ""
            },
            "type": "contourcarpet"
           }
          ],
          "heatmap": [
           {
            "colorbar": {
             "outlinewidth": 0,
             "ticks": ""
            },
            "colorscale": [
             [
              0,
              "#0d0887"
             ],
             [
              0.1111111111111111,
              "#46039f"
             ],
             [
              0.2222222222222222,
              "#7201a8"
             ],
             [
              0.3333333333333333,
              "#9c179e"
             ],
             [
              0.4444444444444444,
              "#bd3786"
             ],
             [
              0.5555555555555556,
              "#d8576b"
             ],
             [
              0.6666666666666666,
              "#ed7953"
             ],
             [
              0.7777777777777778,
              "#fb9f3a"
             ],
             [
              0.8888888888888888,
              "#fdca26"
             ],
             [
              1,
              "#f0f921"
             ]
            ],
            "type": "heatmap"
           }
          ],
          "heatmapgl": [
           {
            "colorbar": {
             "outlinewidth": 0,
             "ticks": ""
            },
            "colorscale": [
             [
              0,
              "#0d0887"
             ],
             [
              0.1111111111111111,
              "#46039f"
             ],
             [
              0.2222222222222222,
              "#7201a8"
             ],
             [
              0.3333333333333333,
              "#9c179e"
             ],
             [
              0.4444444444444444,
              "#bd3786"
             ],
             [
              0.5555555555555556,
              "#d8576b"
             ],
             [
              0.6666666666666666,
              "#ed7953"
             ],
             [
              0.7777777777777778,
              "#fb9f3a"
             ],
             [
              0.8888888888888888,
              "#fdca26"
             ],
             [
              1,
              "#f0f921"
             ]
            ],
            "type": "heatmapgl"
           }
          ],
          "histogram": [
           {
            "marker": {
             "pattern": {
              "fillmode": "overlay",
              "size": 10,
              "solidity": 0.2
             }
            },
            "type": "histogram"
           }
          ],
          "histogram2d": [
           {
            "colorbar": {
             "outlinewidth": 0,
             "ticks": ""
            },
            "colorscale": [
             [
              0,
              "#0d0887"
             ],
             [
              0.1111111111111111,
              "#46039f"
             ],
             [
              0.2222222222222222,
              "#7201a8"
             ],
             [
              0.3333333333333333,
              "#9c179e"
             ],
             [
              0.4444444444444444,
              "#bd3786"
             ],
             [
              0.5555555555555556,
              "#d8576b"
             ],
             [
              0.6666666666666666,
              "#ed7953"
             ],
             [
              0.7777777777777778,
              "#fb9f3a"
             ],
             [
              0.8888888888888888,
              "#fdca26"
             ],
             [
              1,
              "#f0f921"
             ]
            ],
            "type": "histogram2d"
           }
          ],
          "histogram2dcontour": [
           {
            "colorbar": {
             "outlinewidth": 0,
             "ticks": ""
            },
            "colorscale": [
             [
              0,
              "#0d0887"
             ],
             [
              0.1111111111111111,
              "#46039f"
             ],
             [
              0.2222222222222222,
              "#7201a8"
             ],
             [
              0.3333333333333333,
              "#9c179e"
             ],
             [
              0.4444444444444444,
              "#bd3786"
             ],
             [
              0.5555555555555556,
              "#d8576b"
             ],
             [
              0.6666666666666666,
              "#ed7953"
             ],
             [
              0.7777777777777778,
              "#fb9f3a"
             ],
             [
              0.8888888888888888,
              "#fdca26"
             ],
             [
              1,
              "#f0f921"
             ]
            ],
            "type": "histogram2dcontour"
           }
          ],
          "mesh3d": [
           {
            "colorbar": {
             "outlinewidth": 0,
             "ticks": ""
            },
            "type": "mesh3d"
           }
          ],
          "parcoords": [
           {
            "line": {
             "colorbar": {
              "outlinewidth": 0,
              "ticks": ""
             }
            },
            "type": "parcoords"
           }
          ],
          "pie": [
           {
            "automargin": true,
            "type": "pie"
           }
          ],
          "scatter": [
           {
            "fillpattern": {
             "fillmode": "overlay",
             "size": 10,
             "solidity": 0.2
            },
            "type": "scatter"
           }
          ],
          "scatter3d": [
           {
            "line": {
             "colorbar": {
              "outlinewidth": 0,
              "ticks": ""
             }
            },
            "marker": {
             "colorbar": {
              "outlinewidth": 0,
              "ticks": ""
             }
            },
            "type": "scatter3d"
           }
          ],
          "scattercarpet": [
           {
            "marker": {
             "colorbar": {
              "outlinewidth": 0,
              "ticks": ""
             }
            },
            "type": "scattercarpet"
           }
          ],
          "scattergeo": [
           {
            "marker": {
             "colorbar": {
              "outlinewidth": 0,
              "ticks": ""
             }
            },
            "type": "scattergeo"
           }
          ],
          "scattergl": [
           {
            "marker": {
             "colorbar": {
              "outlinewidth": 0,
              "ticks": ""
             }
            },
            "type": "scattergl"
           }
          ],
          "scattermapbox": [
           {
            "marker": {
             "colorbar": {
              "outlinewidth": 0,
              "ticks": ""
             }
            },
            "type": "scattermapbox"
           }
          ],
          "scatterpolar": [
           {
            "marker": {
             "colorbar": {
              "outlinewidth": 0,
              "ticks": ""
             }
            },
            "type": "scatterpolar"
           }
          ],
          "scatterpolargl": [
           {
            "marker": {
             "colorbar": {
              "outlinewidth": 0,
              "ticks": ""
             }
            },
            "type": "scatterpolargl"
           }
          ],
          "scatterternary": [
           {
            "marker": {
             "colorbar": {
              "outlinewidth": 0,
              "ticks": ""
             }
            },
            "type": "scatterternary"
           }
          ],
          "surface": [
           {
            "colorbar": {
             "outlinewidth": 0,
             "ticks": ""
            },
            "colorscale": [
             [
              0,
              "#0d0887"
             ],
             [
              0.1111111111111111,
              "#46039f"
             ],
             [
              0.2222222222222222,
              "#7201a8"
             ],
             [
              0.3333333333333333,
              "#9c179e"
             ],
             [
              0.4444444444444444,
              "#bd3786"
             ],
             [
              0.5555555555555556,
              "#d8576b"
             ],
             [
              0.6666666666666666,
              "#ed7953"
             ],
             [
              0.7777777777777778,
              "#fb9f3a"
             ],
             [
              0.8888888888888888,
              "#fdca26"
             ],
             [
              1,
              "#f0f921"
             ]
            ],
            "type": "surface"
           }
          ],
          "table": [
           {
            "cells": {
             "fill": {
              "color": "#EBF0F8"
             },
             "line": {
              "color": "white"
             }
            },
            "header": {
             "fill": {
              "color": "#C8D4E3"
             },
             "line": {
              "color": "white"
             }
            },
            "type": "table"
           }
          ]
         },
         "layout": {
          "annotationdefaults": {
           "arrowcolor": "#2a3f5f",
           "arrowhead": 0,
           "arrowwidth": 1
          },
          "autotypenumbers": "strict",
          "coloraxis": {
           "colorbar": {
            "outlinewidth": 0,
            "ticks": ""
           }
          },
          "colorscale": {
           "diverging": [
            [
             0,
             "#8e0152"
            ],
            [
             0.1,
             "#c51b7d"
            ],
            [
             0.2,
             "#de77ae"
            ],
            [
             0.3,
             "#f1b6da"
            ],
            [
             0.4,
             "#fde0ef"
            ],
            [
             0.5,
             "#f7f7f7"
            ],
            [
             0.6,
             "#e6f5d0"
            ],
            [
             0.7,
             "#b8e186"
            ],
            [
             0.8,
             "#7fbc41"
            ],
            [
             0.9,
             "#4d9221"
            ],
            [
             1,
             "#276419"
            ]
           ],
           "sequential": [
            [
             0,
             "#0d0887"
            ],
            [
             0.1111111111111111,
             "#46039f"
            ],
            [
             0.2222222222222222,
             "#7201a8"
            ],
            [
             0.3333333333333333,
             "#9c179e"
            ],
            [
             0.4444444444444444,
             "#bd3786"
            ],
            [
             0.5555555555555556,
             "#d8576b"
            ],
            [
             0.6666666666666666,
             "#ed7953"
            ],
            [
             0.7777777777777778,
             "#fb9f3a"
            ],
            [
             0.8888888888888888,
             "#fdca26"
            ],
            [
             1,
             "#f0f921"
            ]
           ],
           "sequentialminus": [
            [
             0,
             "#0d0887"
            ],
            [
             0.1111111111111111,
             "#46039f"
            ],
            [
             0.2222222222222222,
             "#7201a8"
            ],
            [
             0.3333333333333333,
             "#9c179e"
            ],
            [
             0.4444444444444444,
             "#bd3786"
            ],
            [
             0.5555555555555556,
             "#d8576b"
            ],
            [
             0.6666666666666666,
             "#ed7953"
            ],
            [
             0.7777777777777778,
             "#fb9f3a"
            ],
            [
             0.8888888888888888,
             "#fdca26"
            ],
            [
             1,
             "#f0f921"
            ]
           ]
          },
          "colorway": [
           "#636efa",
           "#EF553B",
           "#00cc96",
           "#ab63fa",
           "#FFA15A",
           "#19d3f3",
           "#FF6692",
           "#B6E880",
           "#FF97FF",
           "#FECB52"
          ],
          "font": {
           "color": "#2a3f5f"
          },
          "geo": {
           "bgcolor": "white",
           "lakecolor": "white",
           "landcolor": "#E5ECF6",
           "showlakes": true,
           "showland": true,
           "subunitcolor": "white"
          },
          "hoverlabel": {
           "align": "left"
          },
          "hovermode": "closest",
          "mapbox": {
           "style": "light"
          },
          "paper_bgcolor": "white",
          "plot_bgcolor": "#E5ECF6",
          "polar": {
           "angularaxis": {
            "gridcolor": "white",
            "linecolor": "white",
            "ticks": ""
           },
           "bgcolor": "#E5ECF6",
           "radialaxis": {
            "gridcolor": "white",
            "linecolor": "white",
            "ticks": ""
           }
          },
          "scene": {
           "xaxis": {
            "backgroundcolor": "#E5ECF6",
            "gridcolor": "white",
            "gridwidth": 2,
            "linecolor": "white",
            "showbackground": true,
            "ticks": "",
            "zerolinecolor": "white"
           },
           "yaxis": {
            "backgroundcolor": "#E5ECF6",
            "gridcolor": "white",
            "gridwidth": 2,
            "linecolor": "white",
            "showbackground": true,
            "ticks": "",
            "zerolinecolor": "white"
           },
           "zaxis": {
            "backgroundcolor": "#E5ECF6",
            "gridcolor": "white",
            "gridwidth": 2,
            "linecolor": "white",
            "showbackground": true,
            "ticks": "",
            "zerolinecolor": "white"
           }
          },
          "shapedefaults": {
           "line": {
            "color": "#2a3f5f"
           }
          },
          "ternary": {
           "aaxis": {
            "gridcolor": "white",
            "linecolor": "white",
            "ticks": ""
           },
           "baxis": {
            "gridcolor": "white",
            "linecolor": "white",
            "ticks": ""
           },
           "bgcolor": "#E5ECF6",
           "caxis": {
            "gridcolor": "white",
            "linecolor": "white",
            "ticks": ""
           }
          },
          "title": {
           "x": 0.05
          },
          "xaxis": {
           "automargin": true,
           "gridcolor": "white",
           "linecolor": "white",
           "ticks": "",
           "title": {
            "standoff": 15
           },
           "zerolinecolor": "white",
           "zerolinewidth": 2
          },
          "yaxis": {
           "automargin": true,
           "gridcolor": "white",
           "linecolor": "white",
           "ticks": "",
           "title": {
            "standoff": 15
           },
           "zerolinecolor": "white",
           "zerolinewidth": 2
          }
         }
        },
        "xaxis": {
         "anchor": "y",
         "domain": [
          0,
          1
         ],
         "title": {
          "text": "x"
         }
        },
        "yaxis": {
         "anchor": "x",
         "domain": [
          0,
          1
         ],
         "title": {
          "text": "y"
         }
        }
       }
      }
     },
     "metadata": {},
     "output_type": "display_data"
    }
   ],
   "source": [
    "analyse_pnl(0.04, 0.25)"
   ]
  },
  {
   "cell_type": "code",
   "execution_count": 58,
   "metadata": {},
   "outputs": [
    {
     "data": {
      "application/vnd.plotly.v1+json": {
       "config": {
        "plotlyServerURL": "https://plot.ly"
       },
       "data": [
        {
         "hovertemplate": "x=%{x}<br>y=%{y}<extra></extra>",
         "legendgroup": "",
         "line": {
          "color": "#636efa",
          "dash": "solid"
         },
         "marker": {
          "symbol": "circle"
         },
         "mode": "lines",
         "name": "",
         "orientation": "v",
         "showlegend": false,
         "type": "scatter",
         "x": [
          0,
          0.010101010101010102,
          0.020202020202020204,
          0.030303030303030304,
          0.04040404040404041,
          0.05050505050505051,
          0.06060606060606061,
          0.07070707070707072,
          0.08080808080808081,
          0.09090909090909091,
          0.10101010101010102,
          0.11111111111111112,
          0.12121212121212122,
          0.13131313131313133,
          0.14141414141414144,
          0.15151515151515152,
          0.16161616161616163,
          0.17171717171717174,
          0.18181818181818182,
          0.19191919191919193,
          0.20202020202020204,
          0.21212121212121213,
          0.22222222222222224,
          0.23232323232323235,
          0.24242424242424243,
          0.25252525252525254,
          0.26262626262626265,
          0.27272727272727276,
          0.2828282828282829,
          0.29292929292929293,
          0.30303030303030304,
          0.31313131313131315,
          0.32323232323232326,
          0.33333333333333337,
          0.3434343434343435,
          0.3535353535353536,
          0.36363636363636365,
          0.37373737373737376,
          0.38383838383838387,
          0.393939393939394,
          0.4040404040404041,
          0.4141414141414142,
          0.42424242424242425,
          0.43434343434343436,
          0.4444444444444445,
          0.4545454545454546,
          0.4646464646464647,
          0.4747474747474748,
          0.48484848484848486,
          0.494949494949495,
          0.5050505050505051,
          0.5151515151515152,
          0.5252525252525253,
          0.5353535353535354,
          0.5454545454545455,
          0.5555555555555556,
          0.5656565656565657,
          0.5757575757575758,
          0.5858585858585859,
          0.595959595959596,
          0.6060606060606061,
          0.6161616161616162,
          0.6262626262626263,
          0.6363636363636365,
          0.6464646464646465,
          0.6565656565656566,
          0.6666666666666667,
          0.6767676767676768,
          0.686868686868687,
          0.696969696969697,
          0.7070707070707072,
          0.7171717171717172,
          0.7272727272727273,
          0.7373737373737375,
          0.7474747474747475,
          0.7575757575757577,
          0.7676767676767677,
          0.7777777777777778,
          0.787878787878788,
          0.797979797979798,
          0.8080808080808082,
          0.8181818181818182,
          0.8282828282828284,
          0.8383838383838385,
          0.8484848484848485,
          0.8585858585858587,
          0.8686868686868687,
          0.8787878787878789,
          0.888888888888889,
          0.8989898989898991,
          0.9090909090909092,
          0.9191919191919192,
          0.9292929292929294,
          0.9393939393939394,
          0.9494949494949496,
          0.9595959595959597,
          0.9696969696969697,
          0.9797979797979799,
          0.98989898989899,
          1
         ],
         "xaxis": "x",
         "y": [
          113306831.46000032,
          113306831.46000032,
          113306831.46000032,
          113306831.46000032,
          113306831.46000032,
          113306831.46000032,
          113306831.46000032,
          113306831.46000032,
          113306831.46000032,
          113306831.46000032,
          113306831.46000032,
          113290741.62000032,
          113290741.62000032,
          113440294.62000032,
          113582537.82000032,
          113563335.42000031,
          113510003.67000031,
          113442426.94500029,
          113829915.51000029,
          114007880.52000025,
          114971990.26500027,
          115294812.25500026,
          116332035.66000028,
          117058043.79000027,
          118138100.94000033,
          119259863.86500044,
          121791237.9750004,
          124388806.5900004,
          127240762.3200004,
          128365065.6750003,
          129333496.5000003,
          130673560.81500025,
          132572247.84000024,
          134254447.33500028,
          137049772.18500015,
          137909090.61,
          139286860.91999996,
          141691676.22000003,
          143551916.23499998,
          143860017.77999997,
          145705813.06499982,
          144431413.3799999,
          143960846.98499998,
          143481345.84,
          141761511.94499993,
          141947586.40499988,
          142665139.70999977,
          141547531.4549999,
          137799203.03999975,
          137209016.96999976,
          132777673.64999974,
          130214019.05999987,
          126918384.16499966,
          123987209.39999965,
          119640495.01499961,
          115616226.1949997,
          109684873.52999966,
          105369703.24499965,
          101180486.38499968,
          97731730.1699997,
          93305180.78999978,
          89634093.83999982,
          84323386.89000002,
          79178576.8950001,
          74323516.54500006,
          69104350.48499997,
          63429446.83499994,
          56821036.00499996,
          52322672.06999998,
          46368353.38500001,
          42542872.91999999,
          39813245.099999994,
          35679584.56500001,
          31018702.410000037,
          27299564.82000003,
          23593217.400000017,
          19996472.430000007,
          17529568.560000002,
          14858278.695000006,
          13345873.695000002,
          11354086.799999999,
          9138231.315,
          6879943.935,
          6209470.575,
          4594757.58,
          3372812.37,
          2621965.365,
          2779015.365,
          2347051.005,
          1541957.31,
          1056362.31,
          871830,
          310500,
          202500,
          148500,
          108000,
          67500,
          0,
          0,
          0
         ],
         "yaxis": "y"
        }
       ],
       "layout": {
        "legend": {
         "tracegroupgap": 0
        },
        "margin": {
         "t": 60
        },
        "template": {
         "data": {
          "bar": [
           {
            "error_x": {
             "color": "#2a3f5f"
            },
            "error_y": {
             "color": "#2a3f5f"
            },
            "marker": {
             "line": {
              "color": "#E5ECF6",
              "width": 0.5
             },
             "pattern": {
              "fillmode": "overlay",
              "size": 10,
              "solidity": 0.2
             }
            },
            "type": "bar"
           }
          ],
          "barpolar": [
           {
            "marker": {
             "line": {
              "color": "#E5ECF6",
              "width": 0.5
             },
             "pattern": {
              "fillmode": "overlay",
              "size": 10,
              "solidity": 0.2
             }
            },
            "type": "barpolar"
           }
          ],
          "carpet": [
           {
            "aaxis": {
             "endlinecolor": "#2a3f5f",
             "gridcolor": "white",
             "linecolor": "white",
             "minorgridcolor": "white",
             "startlinecolor": "#2a3f5f"
            },
            "baxis": {
             "endlinecolor": "#2a3f5f",
             "gridcolor": "white",
             "linecolor": "white",
             "minorgridcolor": "white",
             "startlinecolor": "#2a3f5f"
            },
            "type": "carpet"
           }
          ],
          "choropleth": [
           {
            "colorbar": {
             "outlinewidth": 0,
             "ticks": ""
            },
            "type": "choropleth"
           }
          ],
          "contour": [
           {
            "colorbar": {
             "outlinewidth": 0,
             "ticks": ""
            },
            "colorscale": [
             [
              0,
              "#0d0887"
             ],
             [
              0.1111111111111111,
              "#46039f"
             ],
             [
              0.2222222222222222,
              "#7201a8"
             ],
             [
              0.3333333333333333,
              "#9c179e"
             ],
             [
              0.4444444444444444,
              "#bd3786"
             ],
             [
              0.5555555555555556,
              "#d8576b"
             ],
             [
              0.6666666666666666,
              "#ed7953"
             ],
             [
              0.7777777777777778,
              "#fb9f3a"
             ],
             [
              0.8888888888888888,
              "#fdca26"
             ],
             [
              1,
              "#f0f921"
             ]
            ],
            "type": "contour"
           }
          ],
          "contourcarpet": [
           {
            "colorbar": {
             "outlinewidth": 0,
             "ticks": ""
            },
            "type": "contourcarpet"
           }
          ],
          "heatmap": [
           {
            "colorbar": {
             "outlinewidth": 0,
             "ticks": ""
            },
            "colorscale": [
             [
              0,
              "#0d0887"
             ],
             [
              0.1111111111111111,
              "#46039f"
             ],
             [
              0.2222222222222222,
              "#7201a8"
             ],
             [
              0.3333333333333333,
              "#9c179e"
             ],
             [
              0.4444444444444444,
              "#bd3786"
             ],
             [
              0.5555555555555556,
              "#d8576b"
             ],
             [
              0.6666666666666666,
              "#ed7953"
             ],
             [
              0.7777777777777778,
              "#fb9f3a"
             ],
             [
              0.8888888888888888,
              "#fdca26"
             ],
             [
              1,
              "#f0f921"
             ]
            ],
            "type": "heatmap"
           }
          ],
          "heatmapgl": [
           {
            "colorbar": {
             "outlinewidth": 0,
             "ticks": ""
            },
            "colorscale": [
             [
              0,
              "#0d0887"
             ],
             [
              0.1111111111111111,
              "#46039f"
             ],
             [
              0.2222222222222222,
              "#7201a8"
             ],
             [
              0.3333333333333333,
              "#9c179e"
             ],
             [
              0.4444444444444444,
              "#bd3786"
             ],
             [
              0.5555555555555556,
              "#d8576b"
             ],
             [
              0.6666666666666666,
              "#ed7953"
             ],
             [
              0.7777777777777778,
              "#fb9f3a"
             ],
             [
              0.8888888888888888,
              "#fdca26"
             ],
             [
              1,
              "#f0f921"
             ]
            ],
            "type": "heatmapgl"
           }
          ],
          "histogram": [
           {
            "marker": {
             "pattern": {
              "fillmode": "overlay",
              "size": 10,
              "solidity": 0.2
             }
            },
            "type": "histogram"
           }
          ],
          "histogram2d": [
           {
            "colorbar": {
             "outlinewidth": 0,
             "ticks": ""
            },
            "colorscale": [
             [
              0,
              "#0d0887"
             ],
             [
              0.1111111111111111,
              "#46039f"
             ],
             [
              0.2222222222222222,
              "#7201a8"
             ],
             [
              0.3333333333333333,
              "#9c179e"
             ],
             [
              0.4444444444444444,
              "#bd3786"
             ],
             [
              0.5555555555555556,
              "#d8576b"
             ],
             [
              0.6666666666666666,
              "#ed7953"
             ],
             [
              0.7777777777777778,
              "#fb9f3a"
             ],
             [
              0.8888888888888888,
              "#fdca26"
             ],
             [
              1,
              "#f0f921"
             ]
            ],
            "type": "histogram2d"
           }
          ],
          "histogram2dcontour": [
           {
            "colorbar": {
             "outlinewidth": 0,
             "ticks": ""
            },
            "colorscale": [
             [
              0,
              "#0d0887"
             ],
             [
              0.1111111111111111,
              "#46039f"
             ],
             [
              0.2222222222222222,
              "#7201a8"
             ],
             [
              0.3333333333333333,
              "#9c179e"
             ],
             [
              0.4444444444444444,
              "#bd3786"
             ],
             [
              0.5555555555555556,
              "#d8576b"
             ],
             [
              0.6666666666666666,
              "#ed7953"
             ],
             [
              0.7777777777777778,
              "#fb9f3a"
             ],
             [
              0.8888888888888888,
              "#fdca26"
             ],
             [
              1,
              "#f0f921"
             ]
            ],
            "type": "histogram2dcontour"
           }
          ],
          "mesh3d": [
           {
            "colorbar": {
             "outlinewidth": 0,
             "ticks": ""
            },
            "type": "mesh3d"
           }
          ],
          "parcoords": [
           {
            "line": {
             "colorbar": {
              "outlinewidth": 0,
              "ticks": ""
             }
            },
            "type": "parcoords"
           }
          ],
          "pie": [
           {
            "automargin": true,
            "type": "pie"
           }
          ],
          "scatter": [
           {
            "fillpattern": {
             "fillmode": "overlay",
             "size": 10,
             "solidity": 0.2
            },
            "type": "scatter"
           }
          ],
          "scatter3d": [
           {
            "line": {
             "colorbar": {
              "outlinewidth": 0,
              "ticks": ""
             }
            },
            "marker": {
             "colorbar": {
              "outlinewidth": 0,
              "ticks": ""
             }
            },
            "type": "scatter3d"
           }
          ],
          "scattercarpet": [
           {
            "marker": {
             "colorbar": {
              "outlinewidth": 0,
              "ticks": ""
             }
            },
            "type": "scattercarpet"
           }
          ],
          "scattergeo": [
           {
            "marker": {
             "colorbar": {
              "outlinewidth": 0,
              "ticks": ""
             }
            },
            "type": "scattergeo"
           }
          ],
          "scattergl": [
           {
            "marker": {
             "colorbar": {
              "outlinewidth": 0,
              "ticks": ""
             }
            },
            "type": "scattergl"
           }
          ],
          "scattermapbox": [
           {
            "marker": {
             "colorbar": {
              "outlinewidth": 0,
              "ticks": ""
             }
            },
            "type": "scattermapbox"
           }
          ],
          "scatterpolar": [
           {
            "marker": {
             "colorbar": {
              "outlinewidth": 0,
              "ticks": ""
             }
            },
            "type": "scatterpolar"
           }
          ],
          "scatterpolargl": [
           {
            "marker": {
             "colorbar": {
              "outlinewidth": 0,
              "ticks": ""
             }
            },
            "type": "scatterpolargl"
           }
          ],
          "scatterternary": [
           {
            "marker": {
             "colorbar": {
              "outlinewidth": 0,
              "ticks": ""
             }
            },
            "type": "scatterternary"
           }
          ],
          "surface": [
           {
            "colorbar": {
             "outlinewidth": 0,
             "ticks": ""
            },
            "colorscale": [
             [
              0,
              "#0d0887"
             ],
             [
              0.1111111111111111,
              "#46039f"
             ],
             [
              0.2222222222222222,
              "#7201a8"
             ],
             [
              0.3333333333333333,
              "#9c179e"
             ],
             [
              0.4444444444444444,
              "#bd3786"
             ],
             [
              0.5555555555555556,
              "#d8576b"
             ],
             [
              0.6666666666666666,
              "#ed7953"
             ],
             [
              0.7777777777777778,
              "#fb9f3a"
             ],
             [
              0.8888888888888888,
              "#fdca26"
             ],
             [
              1,
              "#f0f921"
             ]
            ],
            "type": "surface"
           }
          ],
          "table": [
           {
            "cells": {
             "fill": {
              "color": "#EBF0F8"
             },
             "line": {
              "color": "white"
             }
            },
            "header": {
             "fill": {
              "color": "#C8D4E3"
             },
             "line": {
              "color": "white"
             }
            },
            "type": "table"
           }
          ]
         },
         "layout": {
          "annotationdefaults": {
           "arrowcolor": "#2a3f5f",
           "arrowhead": 0,
           "arrowwidth": 1
          },
          "autotypenumbers": "strict",
          "coloraxis": {
           "colorbar": {
            "outlinewidth": 0,
            "ticks": ""
           }
          },
          "colorscale": {
           "diverging": [
            [
             0,
             "#8e0152"
            ],
            [
             0.1,
             "#c51b7d"
            ],
            [
             0.2,
             "#de77ae"
            ],
            [
             0.3,
             "#f1b6da"
            ],
            [
             0.4,
             "#fde0ef"
            ],
            [
             0.5,
             "#f7f7f7"
            ],
            [
             0.6,
             "#e6f5d0"
            ],
            [
             0.7,
             "#b8e186"
            ],
            [
             0.8,
             "#7fbc41"
            ],
            [
             0.9,
             "#4d9221"
            ],
            [
             1,
             "#276419"
            ]
           ],
           "sequential": [
            [
             0,
             "#0d0887"
            ],
            [
             0.1111111111111111,
             "#46039f"
            ],
            [
             0.2222222222222222,
             "#7201a8"
            ],
            [
             0.3333333333333333,
             "#9c179e"
            ],
            [
             0.4444444444444444,
             "#bd3786"
            ],
            [
             0.5555555555555556,
             "#d8576b"
            ],
            [
             0.6666666666666666,
             "#ed7953"
            ],
            [
             0.7777777777777778,
             "#fb9f3a"
            ],
            [
             0.8888888888888888,
             "#fdca26"
            ],
            [
             1,
             "#f0f921"
            ]
           ],
           "sequentialminus": [
            [
             0,
             "#0d0887"
            ],
            [
             0.1111111111111111,
             "#46039f"
            ],
            [
             0.2222222222222222,
             "#7201a8"
            ],
            [
             0.3333333333333333,
             "#9c179e"
            ],
            [
             0.4444444444444444,
             "#bd3786"
            ],
            [
             0.5555555555555556,
             "#d8576b"
            ],
            [
             0.6666666666666666,
             "#ed7953"
            ],
            [
             0.7777777777777778,
             "#fb9f3a"
            ],
            [
             0.8888888888888888,
             "#fdca26"
            ],
            [
             1,
             "#f0f921"
            ]
           ]
          },
          "colorway": [
           "#636efa",
           "#EF553B",
           "#00cc96",
           "#ab63fa",
           "#FFA15A",
           "#19d3f3",
           "#FF6692",
           "#B6E880",
           "#FF97FF",
           "#FECB52"
          ],
          "font": {
           "color": "#2a3f5f"
          },
          "geo": {
           "bgcolor": "white",
           "lakecolor": "white",
           "landcolor": "#E5ECF6",
           "showlakes": true,
           "showland": true,
           "subunitcolor": "white"
          },
          "hoverlabel": {
           "align": "left"
          },
          "hovermode": "closest",
          "mapbox": {
           "style": "light"
          },
          "paper_bgcolor": "white",
          "plot_bgcolor": "#E5ECF6",
          "polar": {
           "angularaxis": {
            "gridcolor": "white",
            "linecolor": "white",
            "ticks": ""
           },
           "bgcolor": "#E5ECF6",
           "radialaxis": {
            "gridcolor": "white",
            "linecolor": "white",
            "ticks": ""
           }
          },
          "scene": {
           "xaxis": {
            "backgroundcolor": "#E5ECF6",
            "gridcolor": "white",
            "gridwidth": 2,
            "linecolor": "white",
            "showbackground": true,
            "ticks": "",
            "zerolinecolor": "white"
           },
           "yaxis": {
            "backgroundcolor": "#E5ECF6",
            "gridcolor": "white",
            "gridwidth": 2,
            "linecolor": "white",
            "showbackground": true,
            "ticks": "",
            "zerolinecolor": "white"
           },
           "zaxis": {
            "backgroundcolor": "#E5ECF6",
            "gridcolor": "white",
            "gridwidth": 2,
            "linecolor": "white",
            "showbackground": true,
            "ticks": "",
            "zerolinecolor": "white"
           }
          },
          "shapedefaults": {
           "line": {
            "color": "#2a3f5f"
           }
          },
          "ternary": {
           "aaxis": {
            "gridcolor": "white",
            "linecolor": "white",
            "ticks": ""
           },
           "baxis": {
            "gridcolor": "white",
            "linecolor": "white",
            "ticks": ""
           },
           "bgcolor": "#E5ECF6",
           "caxis": {
            "gridcolor": "white",
            "linecolor": "white",
            "ticks": ""
           }
          },
          "title": {
           "x": 0.05
          },
          "xaxis": {
           "automargin": true,
           "gridcolor": "white",
           "linecolor": "white",
           "ticks": "",
           "title": {
            "standoff": 15
           },
           "zerolinecolor": "white",
           "zerolinewidth": 2
          },
          "yaxis": {
           "automargin": true,
           "gridcolor": "white",
           "linecolor": "white",
           "ticks": "",
           "title": {
            "standoff": 15
           },
           "zerolinecolor": "white",
           "zerolinewidth": 2
          }
         }
        },
        "xaxis": {
         "anchor": "y",
         "domain": [
          0,
          1
         ],
         "title": {
          "text": "x"
         }
        },
        "yaxis": {
         "anchor": "x",
         "domain": [
          0,
          1
         ],
         "title": {
          "text": "y"
         }
        }
       }
      }
     },
     "metadata": {},
     "output_type": "display_data"
    }
   ],
   "source": [
    "analyse_pnl(0.03, 0.25)"
   ]
  },
  {
   "attachments": {},
   "cell_type": "markdown",
   "metadata": {},
   "source": [
    "## 03 With Good price"
   ]
  },
  {
   "cell_type": "code",
   "execution_count": null,
   "metadata": {},
   "outputs": [],
   "source": [
    "def calcul_pnl_one_goods(montant, \n",
    "                            good_price,\n",
    "                            y_true, \n",
    "                            y_pred_proba, \n",
    "                            taux=0.03, \n",
    "                            loss_goods_rate=0.3,\n",
    "                            threshold=0.5,\n",
    "                            cost_evaluation=100,):\n",
    "    \"\"\" \"\"\"\n",
    "\n",
    "\n",
    "    y_pred = 0 if y_pred_proba > threshold else 1\n",
    "\n",
    "    if y_pred : \n",
    "        return - cost_evaluation\n",
    "    \n",
    "    if y_true :\n",
    "        value = (good_price * (1-loss_goods_rate)) -  montant\n",
    "        return  value if value < 0 else 0\n",
    "\n",
    "    return (montant * taux) - cost_evaluation"
   ]
  },
  {
   "cell_type": "code",
   "execution_count": null,
   "metadata": {},
   "outputs": [],
   "source": [
    "data.columns"
   ]
  },
  {
   "cell_type": "code",
   "execution_count": null,
   "metadata": {},
   "outputs": [],
   "source": [
    "goods_list = X_test.loc[:, 'AMT_GOODS_PRICE'].values\n",
    "goods_list"
   ]
  },
  {
   "cell_type": "code",
   "execution_count": null,
   "metadata": {},
   "outputs": [],
   "source": [
    "threshold_list = np.linspace(0, 1, 100)\n",
    "pnl_list = []\n",
    "\n",
    "for threshold in threshold_list:\n",
    "    v = 0\n",
    "    for m, g, y_true, y_pred_proba in zip(montant_list, goods_list, y_true_list, y_pred_proba_list):\n",
    "        v += calcul_pnl_one_goods(m, g, y_true=y_true, y_pred_proba=y_pred_proba,threshold=threshold)\n",
    "    pnl_list.append(v)"
   ]
  },
  {
   "cell_type": "code",
   "execution_count": null,
   "metadata": {},
   "outputs": [],
   "source": [
    "import plotly.express as px\n",
    "\n",
    "\n",
    "px.line(x=threshold_list, y=pnl_list)"
   ]
  }
 ],
 "metadata": {
  "kernelspec": {
   "display_name": ".venv",
   "language": "python",
   "name": "python3"
  },
  "language_info": {
   "codemirror_mode": {
    "name": "ipython",
    "version": 3
   },
   "file_extension": ".py",
   "mimetype": "text/x-python",
   "name": "python",
   "nbconvert_exporter": "python",
   "pygments_lexer": "ipython3",
   "version": "3.10.9"
  },
  "orig_nbformat": 4,
  "vscode": {
   "interpreter": {
    "hash": "183ab2bd8ccec9812d3d1ae406a19b0ed92e91740169522ae38a3ff77e860e4c"
   }
  }
 },
 "nbformat": 4,
 "nbformat_minor": 2
}
